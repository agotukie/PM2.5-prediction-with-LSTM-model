{
  "nbformat": 4,
  "nbformat_minor": 0,
  "metadata": {
    "colab": {
      "name": "LSTM & LightGBM in PM25 prediction.ipynb",
      "provenance": [],
      "collapsed_sections": []
    },
    "kernelspec": {
      "display_name": "Python 3",
      "language": "python",
      "name": "python3"
    },
    "language_info": {
      "codemirror_mode": {
        "name": "ipython",
        "version": 3
      },
      "file_extension": ".py",
      "mimetype": "text/x-python",
      "name": "python",
      "nbconvert_exporter": "python",
      "pygments_lexer": "ipython3",
      "version": "3.7.6"
    }
  },
  "cells": [
    {
      "cell_type": "code",
      "metadata": {
        "id": "jtuHiVeU8She"
      },
      "source": [
        "import pandas as pd\n",
        "import numpy as np\n",
        "import os\n",
        "\n",
        "import IPython\n",
        "import IPython.display\n",
        "import matplotlib.pyplot as plt\n",
        "%matplotlib inline\n",
        "\n",
        "from datetime import datetime, timedelta, date\n",
        "\n",
        "#show all columns and rows\n",
        "# pd.options.display.max_rows = None\n",
        "# pd.options.display.max_columns = None"
      ],
      "execution_count": null,
      "outputs": []
    },
    {
      "cell_type": "code",
      "metadata": {
        "id": "lTKG7AOOBemk"
      },
      "source": [
        "#!pip install optuna\n",
        "import optuna\n",
        "\n",
        "from optuna.integration import TFKerasPruningCallback\n",
        "from optuna.trial import TrialState\n",
        "from optuna.samplers import TPESampler"
      ],
      "execution_count": null,
      "outputs": []
    },
    {
      "cell_type": "code",
      "metadata": {
        "id": "kxMo8yV_enzK"
      },
      "source": [
        "#https://colab.research.google.com/github/tensorflow/docs/blob/master/site/en/tutorials/structured_data/time_series.ipynb\n",
        "import tensorflow as tf\n",
        "tf.random.set_seed(2021)\n",
        "\n",
        "from tensorflow.keras.models import Sequential\n",
        "from tensorflow.keras.layers import Dense, Dropout, LSTM, BatchNormalization, Reshape\n",
        "from tensorflow.keras.layers import RepeatVector, TimeDistributed, Conv1D, MaxPool1D"
      ],
      "execution_count": null,
      "outputs": []
    },
    {
      "cell_type": "code",
      "metadata": {
        "id": "B6Imkh-N2bZD"
      },
      "source": [
        "BATCH_SIZE = 32\n",
        "MAX_EPOCHS = 10\n",
        "patience = 2\n",
        "zakres = 'full'   #'full','meteo','onlyPM'"
      ],
      "execution_count": null,
      "outputs": []
    },
    {
      "cell_type": "code",
      "metadata": {
        "id": "gmqmGpW95xr9"
      },
      "source": [
        "!wget --no-check-certificate 'https://docs.google.com/uc?export=download&id=1kBqs18UlSE_jeOPxJgiOgpdZLJ0GXJYC' -O weather_pm25_2015-202103.csv"
      ],
      "execution_count": null,
      "outputs": []
    },
    {
      "cell_type": "code",
      "metadata": {
        "id": "Pdm2qy6K8Shg"
      },
      "source": [
        "#import data\n",
        "df = pd.read_csv('weather_pm25_2015-202103.csv',parse_dates=['date'], index_col='date')\n",
        "\n",
        "#time series data\n",
        "df['month'] = df.index.month\n",
        "df['year'] = df.index.year\n",
        "df['hour'] = df.index.hour\n",
        "df['day_of_week'] = df.index.map(lambda x: x.isocalendar()[2])\n",
        "df['no_of_week'] = df.index.map(lambda x: x.isocalendar()[1])\n",
        "df['year_month'] = df.apply(lambda x: datetime(x.year, x.month, 1),axis=1)\n",
        "\n",
        "\n",
        "#filling blanks\n",
        "df['PM25_nie'].interpolate(inplace=True)\n",
        "df['PM25_wok'].interpolate(inplace=True)\n",
        "\n",
        "#standarization\n",
        "df['PM25_wok'] = df['PM25_wok']/200\n",
        "df['precipitation'] = df['precipitation'] / 10\n",
        "df['pressure'] = (df['pressure'] - 950) / (1050 - 950)\n",
        "df['temperature'] = (df['temperature'] +30) / (40+30)\n",
        "df['visibility'] = df['visibility'] / 10\n",
        "df['windBearing'] = df['windBearing'] / 359\n",
        "df['windSpeed'] = df['windSpeed'] / 20\n",
        "df['month'] = df['month'] / 12\n",
        "df['year'] = (df['year'] - 2015) / (2021-2015)\n",
        "df['hour'] = df['hour']/23\n",
        "df['day_of_week'] = (df['day_of_week'] - 1) / (7-1)\n",
        "\n",
        "#variables for models\n",
        "do_modelu = []\n",
        "if zakres == 'full':\n",
        "  do_modelu = ['PM25_wok',\n",
        "             'cloudCover', 'humidity', 'precipitation','pressure', 'temperature', 'visibility', 'windBearing', 'windSpeed',\n",
        "             'month',  'hour', 'day_of_week']\n",
        "elif zakres == 'meteo':\n",
        "  do_modelu = ['PM25_wok',\n",
        "             'cloudCover', 'humidity', 'precipitation','pressure', 'temperature', 'visibility', 'windBearing', 'windSpeed']\n",
        "elif zakres == 'onlyPM':\n",
        "  do_modelu = ['PM25_wok']"
      ],
      "execution_count": null,
      "outputs": []
    },
    {
      "cell_type": "code",
      "metadata": {
        "colab": {
          "base_uri": "https://localhost:8080/",
          "height": 421
        },
        "id": "uSGulyum8Rtz",
        "outputId": "81d0eab8-e031-4ce3-8712-8343d55267dd"
      },
      "source": [
        "dane = df[do_modelu].copy()\n",
        "dane.describe().transpose()"
      ],
      "execution_count": null,
      "outputs": [
        {
          "output_type": "execute_result",
          "data": {
            "text/html": [
              "<div>\n",
              "<style scoped>\n",
              "    .dataframe tbody tr th:only-of-type {\n",
              "        vertical-align: middle;\n",
              "    }\n",
              "\n",
              "    .dataframe tbody tr th {\n",
              "        vertical-align: top;\n",
              "    }\n",
              "\n",
              "    .dataframe thead th {\n",
              "        text-align: right;\n",
              "    }\n",
              "</style>\n",
              "<table border=\"1\" class=\"dataframe\">\n",
              "  <thead>\n",
              "    <tr style=\"text-align: right;\">\n",
              "      <th></th>\n",
              "      <th>count</th>\n",
              "      <th>mean</th>\n",
              "      <th>std</th>\n",
              "      <th>min</th>\n",
              "      <th>25%</th>\n",
              "      <th>50%</th>\n",
              "      <th>75%</th>\n",
              "      <th>max</th>\n",
              "    </tr>\n",
              "  </thead>\n",
              "  <tbody>\n",
              "    <tr>\n",
              "      <th>PM25_wok</th>\n",
              "      <td>54076.0</td>\n",
              "      <td>0.095420</td>\n",
              "      <td>0.071580</td>\n",
              "      <td>0.000000</td>\n",
              "      <td>0.045350</td>\n",
              "      <td>0.076133</td>\n",
              "      <td>0.122650</td>\n",
              "      <td>0.776827</td>\n",
              "    </tr>\n",
              "    <tr>\n",
              "      <th>cloudCover</th>\n",
              "      <td>54076.0</td>\n",
              "      <td>0.589161</td>\n",
              "      <td>0.333067</td>\n",
              "      <td>0.000000</td>\n",
              "      <td>0.260000</td>\n",
              "      <td>0.740000</td>\n",
              "      <td>0.880000</td>\n",
              "      <td>1.000000</td>\n",
              "    </tr>\n",
              "    <tr>\n",
              "      <th>humidity</th>\n",
              "      <td>54076.0</td>\n",
              "      <td>0.730478</td>\n",
              "      <td>0.178518</td>\n",
              "      <td>0.120000</td>\n",
              "      <td>0.610000</td>\n",
              "      <td>0.770000</td>\n",
              "      <td>0.870000</td>\n",
              "      <td>1.000000</td>\n",
              "    </tr>\n",
              "    <tr>\n",
              "      <th>precipitation</th>\n",
              "      <td>54076.0</td>\n",
              "      <td>0.006336</td>\n",
              "      <td>0.025787</td>\n",
              "      <td>0.000000</td>\n",
              "      <td>0.000000</td>\n",
              "      <td>0.000000</td>\n",
              "      <td>0.001000</td>\n",
              "      <td>0.910820</td>\n",
              "    </tr>\n",
              "    <tr>\n",
              "      <th>pressure</th>\n",
              "      <td>54076.0</td>\n",
              "      <td>0.664842</td>\n",
              "      <td>0.088862</td>\n",
              "      <td>0.252000</td>\n",
              "      <td>0.612000</td>\n",
              "      <td>0.665000</td>\n",
              "      <td>0.723000</td>\n",
              "      <td>0.967000</td>\n",
              "    </tr>\n",
              "    <tr>\n",
              "      <th>temperature</th>\n",
              "      <td>54076.0</td>\n",
              "      <td>0.573908</td>\n",
              "      <td>0.128522</td>\n",
              "      <td>0.136143</td>\n",
              "      <td>0.471286</td>\n",
              "      <td>0.564571</td>\n",
              "      <td>0.672714</td>\n",
              "      <td>0.942714</td>\n",
              "    </tr>\n",
              "    <tr>\n",
              "      <th>visibility</th>\n",
              "      <td>54076.0</td>\n",
              "      <td>0.933942</td>\n",
              "      <td>0.183657</td>\n",
              "      <td>0.010000</td>\n",
              "      <td>1.000000</td>\n",
              "      <td>1.000000</td>\n",
              "      <td>1.000000</td>\n",
              "      <td>1.000000</td>\n",
              "    </tr>\n",
              "    <tr>\n",
              "      <th>windBearing</th>\n",
              "      <td>54076.0</td>\n",
              "      <td>0.542861</td>\n",
              "      <td>0.261995</td>\n",
              "      <td>0.000000</td>\n",
              "      <td>0.331476</td>\n",
              "      <td>0.579387</td>\n",
              "      <td>0.754875</td>\n",
              "      <td>1.000000</td>\n",
              "    </tr>\n",
              "    <tr>\n",
              "      <th>windSpeed</th>\n",
              "      <td>54076.0</td>\n",
              "      <td>0.171427</td>\n",
              "      <td>0.088349</td>\n",
              "      <td>0.000000</td>\n",
              "      <td>0.105000</td>\n",
              "      <td>0.156000</td>\n",
              "      <td>0.223000</td>\n",
              "      <td>0.867000</td>\n",
              "    </tr>\n",
              "    <tr>\n",
              "      <th>month</th>\n",
              "      <td>54076.0</td>\n",
              "      <td>0.532175</td>\n",
              "      <td>0.291642</td>\n",
              "      <td>0.083333</td>\n",
              "      <td>0.250000</td>\n",
              "      <td>0.500000</td>\n",
              "      <td>0.750000</td>\n",
              "      <td>1.000000</td>\n",
              "    </tr>\n",
              "    <tr>\n",
              "      <th>hour</th>\n",
              "      <td>54076.0</td>\n",
              "      <td>0.499953</td>\n",
              "      <td>0.300975</td>\n",
              "      <td>0.000000</td>\n",
              "      <td>0.217391</td>\n",
              "      <td>0.478261</td>\n",
              "      <td>0.739130</td>\n",
              "      <td>1.000000</td>\n",
              "    </tr>\n",
              "    <tr>\n",
              "      <th>day_of_week</th>\n",
              "      <td>54076.0</td>\n",
              "      <td>0.500055</td>\n",
              "      <td>0.333500</td>\n",
              "      <td>0.000000</td>\n",
              "      <td>0.166667</td>\n",
              "      <td>0.500000</td>\n",
              "      <td>0.833333</td>\n",
              "      <td>1.000000</td>\n",
              "    </tr>\n",
              "  </tbody>\n",
              "</table>\n",
              "</div>"
            ],
            "text/plain": [
              "                 count      mean       std       min       25%       50%  \\\n",
              "PM25_wok       54076.0  0.095420  0.071580  0.000000  0.045350  0.076133   \n",
              "cloudCover     54076.0  0.589161  0.333067  0.000000  0.260000  0.740000   \n",
              "humidity       54076.0  0.730478  0.178518  0.120000  0.610000  0.770000   \n",
              "precipitation  54076.0  0.006336  0.025787  0.000000  0.000000  0.000000   \n",
              "pressure       54076.0  0.664842  0.088862  0.252000  0.612000  0.665000   \n",
              "temperature    54076.0  0.573908  0.128522  0.136143  0.471286  0.564571   \n",
              "visibility     54076.0  0.933942  0.183657  0.010000  1.000000  1.000000   \n",
              "windBearing    54076.0  0.542861  0.261995  0.000000  0.331476  0.579387   \n",
              "windSpeed      54076.0  0.171427  0.088349  0.000000  0.105000  0.156000   \n",
              "month          54076.0  0.532175  0.291642  0.083333  0.250000  0.500000   \n",
              "hour           54076.0  0.499953  0.300975  0.000000  0.217391  0.478261   \n",
              "day_of_week    54076.0  0.500055  0.333500  0.000000  0.166667  0.500000   \n",
              "\n",
              "                    75%       max  \n",
              "PM25_wok       0.122650  0.776827  \n",
              "cloudCover     0.880000  1.000000  \n",
              "humidity       0.870000  1.000000  \n",
              "precipitation  0.001000  0.910820  \n",
              "pressure       0.723000  0.967000  \n",
              "temperature    0.672714  0.942714  \n",
              "visibility     1.000000  1.000000  \n",
              "windBearing    0.754875  1.000000  \n",
              "windSpeed      0.223000  0.867000  \n",
              "month          0.750000  1.000000  \n",
              "hour           0.739130  1.000000  \n",
              "day_of_week    0.833333  1.000000  "
            ]
          },
          "metadata": {
            "tags": []
          },
          "execution_count": 275
        }
      ]
    },
    {
      "cell_type": "code",
      "metadata": {
        "id": "_vO9k_gEYQQa",
        "outputId": "d5c2eb9e-b738-4afc-f347-c198e8eb8879"
      },
      "source": [
        "#data for train, validation and test\n",
        "column_indices = {name: i for i, name in enumerate(dane.columns)}\n",
        "\n",
        "start_train = '2016-01-01'\n",
        "end_train = '2019-01-01'\n",
        "\n",
        "start_val = '2019-01-01'\n",
        "end_val = '2020-01-01'\n",
        "\n",
        "start_test = '2020-01-01'\n",
        "end_test = '2021-01-01'\n",
        "\n",
        "train_df = dane.iloc[(dane.index >= start_train) & (dane.index < end_train)]\n",
        "val_df = dane.iloc[(dane.index >= start_val) & (dane.index < end_val)]\n",
        "test_df = dane.iloc[(dane.index >= start_test) & (dane.index < end_test)]\n",
        "\n",
        "num_features = dane.shape[1]\n",
        "\n",
        "train_df.shape, val_df.shape, test_df.shape"
      ],
      "execution_count": null,
      "outputs": [
        {
          "output_type": "execute_result",
          "data": {
            "text/plain": [
              "((26331, 12), (8761, 12), (8784, 12))"
            ]
          },
          "metadata": {
            "tags": []
          },
          "execution_count": 276
        }
      ]
    },
    {
      "cell_type": "markdown",
      "metadata": {
        "id": "ga-7MO6YlRkJ"
      },
      "source": [
        "## dataset preparation"
      ]
    },
    {
      "cell_type": "code",
      "metadata": {
        "id": "nlba-GYnECcw"
      },
      "source": [
        "class WindowGenerator():\n",
        "  def __init__(self, input_width, label_width, shift,\n",
        "               train_df=train_df, val_df=val_df, test_df=test_df,\n",
        "               label_columns=None):\n",
        "    # Store the raw data.\n",
        "    self.train_df = train_df\n",
        "    self.val_df = val_df\n",
        "    self.test_df = test_df\n",
        "\n",
        "    # Work out the label column indices.\n",
        "    self.label_columns = label_columns\n",
        "    if label_columns is not None:\n",
        "      self.label_columns_indices = {name: i for i, name in\n",
        "                                    enumerate(label_columns)}\n",
        "    self.column_indices = {name: i for i, name in\n",
        "                           enumerate(train_df.columns)}\n",
        "\n",
        "    # Work out the window parameters.\n",
        "    self.input_width = input_width\n",
        "    self.label_width = label_width\n",
        "    self.shift = shift\n",
        "\n",
        "    self.total_window_size = input_width + shift\n",
        "\n",
        "    self.input_slice = slice(0, input_width)\n",
        "    self.input_indices = np.arange(self.total_window_size)[self.input_slice]\n",
        "\n",
        "    self.label_start = self.total_window_size - self.label_width\n",
        "    self.labels_slice = slice(self.label_start, None)\n",
        "    self.label_indices = np.arange(self.total_window_size)[self.labels_slice]\n",
        "\n",
        "  def __repr__(self):\n",
        "    return '\\n'.join([\n",
        "        f'Total window size: {self.total_window_size}',\n",
        "        f'Input indices: {self.input_indices}',\n",
        "        f'Label indices: {self.label_indices}',\n",
        "        f'Label column name(s): {self.label_columns}'])\n",
        "    \n",
        "def make_dataset(self, data):\n",
        "\n",
        "  ds = tf.keras.preprocessing.timeseries_dataset_from_array(\n",
        "\n",
        "      data=data,\n",
        "      targets=None,\n",
        "\n",
        "      sequence_length=self.total_window_size,\n",
        "      sequence_stride=1,\n",
        "      shuffle=True, #czy zostawić True?\n",
        "      batch_size=BATCH_SIZE)\n",
        "\n",
        "  ds = ds.map(self.split_window)\n",
        "\n",
        "  return ds\n",
        "\n",
        "WindowGenerator.make_dataset = make_dataset\n",
        "\n",
        "@property\n",
        "def train(self):\n",
        "  return self.make_dataset(self.train_df)\n",
        "\n",
        "@property\n",
        "def val(self):\n",
        "  return self.make_dataset(self.val_df)\n",
        "\n",
        "@property\n",
        "def test(self):\n",
        "  return self.make_dataset(self.test_df)\n",
        "\n",
        "@property\n",
        "def example(self):\n",
        "  \"\"\"Get and cache an example batch of `inputs, labels` for plotting.\"\"\"\n",
        "  result = getattr(self, '_example', None)\n",
        "  if result is None:\n",
        "    # No example batch was found, so get one from the `.train` dataset\n",
        "    result = next(iter(self.train))\n",
        "    # And cache it for next time\n",
        "    self._example = result\n",
        "  return result\n",
        "\n",
        "WindowGenerator.train = train\n",
        "WindowGenerator.val = val\n",
        "WindowGenerator.test = test\n",
        "WindowGenerator.example = example\n",
        "\n",
        "\n",
        "def split_window(self, features):\n",
        "  inputs = features[:, self.input_slice, :]\n",
        "  labels = features[:, self.labels_slice, :]\n",
        "\n",
        "  #if self.label_columns is not None:\n",
        "    # labels = tf.stack(\n",
        "    #     [labels[:, :, self.column_indices[name]] for name in self.label_columns],\n",
        "    #     axis=-1)\n",
        "  labels = tf.stack(\n",
        "      [labels[:, :, self.column_indices[name]] for name in ['PM25_wok']],\n",
        "      axis=-1)\n",
        "\n",
        "  # Slicing doesn't preserve static shape information, so set the shapes\n",
        "  # manually. This way the `tf.data.Datasets` are easier to inspect.\n",
        "  inputs.set_shape([None, self.input_width, None])\n",
        "  labels.set_shape([None, self.label_width, None])\n",
        "\n",
        "  print(inputs.shape, labels.shape)\n",
        "\n",
        "  return inputs, labels\n",
        "\n",
        "WindowGenerator.split_window = split_window\n",
        "\n",
        "\n",
        "def plot(self, model=None, plot_col='PM25_wok', max_subplots=3):\n",
        "  inputs, labels = self.example\n",
        "  plt.figure(figsize=(15, 6))\n",
        "  plot_col_index = self.column_indices[plot_col]\n",
        "  max_n = min(max_subplots, len(inputs))\n",
        "  for n in range(max_n):\n",
        "    plt.subplot(max_n, 1, n+1)\n",
        "    plt.ylabel(f'{plot_col} [normed]')\n",
        "    plt.plot(self.input_indices, inputs[n*2, :, plot_col_index],\n",
        "             label='Inputs', marker='.', zorder=-10)\n",
        "\n",
        "    if self.label_columns:\n",
        "      label_col_index = self.label_columns_indices.get(plot_col, None)\n",
        "    else:\n",
        "      label_col_index = plot_col_index\n",
        "\n",
        "    if label_col_index is None:\n",
        "      continue\n",
        "\n",
        "    plt.scatter(self.label_indices, labels[n, :, label_col_index],\n",
        "                edgecolors='k', label='Labels', c='#2ca02c', s=64)\n",
        "    if model is not None:\n",
        "      predictions = model(inputs)\n",
        "      plt.scatter(self.label_indices, predictions[n, :, label_col_index],\n",
        "                  marker='X', edgecolors='k', label='Predictions',\n",
        "                  c='#ff7f0e', s=64)\n",
        "\n",
        "    if n == 0:\n",
        "      plt.legend()\n",
        "\n",
        "  plt.xlabel('Time [h]')\n",
        "\n",
        "WindowGenerator.plot = plot"
      ],
      "execution_count": null,
      "outputs": []
    },
    {
      "cell_type": "code",
      "metadata": {
        "colab": {
          "base_uri": "https://localhost:8080/",
          "height": 493
        },
        "id": "4B0rOUVHWjvL",
        "outputId": "84cc97d1-52b8-4070-f904-2dba65e08d81"
      },
      "source": [
        "#forecast for 24 hours, based on 48 hours\n",
        "OUT_STEPS = 24\n",
        "multi_window = WindowGenerator(input_width=48,\n",
        "                               label_width=OUT_STEPS,\n",
        "                               shift=OUT_STEPS)\n",
        "\n",
        "#example of input data (tylko PM2.5)\n",
        "multi_window.plot(max_subplots=3)"
      ],
      "execution_count": null,
      "outputs": [
        {
          "output_type": "stream",
          "text": [
            "(None, 48, 9) (None, 24, 1)\n"
          ],
          "name": "stdout"
        },
        {
          "output_type": "display_data",
          "data": {
            "image/png": "[encoded data removed]",
            "text/plain": [
              "<Figure size 1080x432 with 3 Axes>"
            ]
          },
          "metadata": {
            "tags": [],
            "needs_background": "light"
          }
        }
      ]
    },
    {
      "cell_type": "code",
      "metadata": {
        "id": "QGFbv7On4sES",
        "outputId": "bfef67b5-30d7-4efc-cda7-d067904c429b"
      },
      "source": [
        "#data for metrics\n",
        "for batch, (input, label) in enumerate(multi_window.train):\n",
        "  if batch == 0:\n",
        "    inputs_train = input\n",
        "    labels_train = label\n",
        "  else:\n",
        "    inputs_train = tf.concat([inputs_train,input],0)\n",
        "    labels_train = tf.concat([labels_train,label],0)\n",
        "print(inputs_train.shape, labels_train.shape)\n",
        "\n",
        "for batch, (input, label) in enumerate(multi_window.val):\n",
        "  if batch == 0:\n",
        "    inputs_val = input\n",
        "    labels_val = label\n",
        "  else:\n",
        "    inputs_val = tf.concat([inputs_val,input],0)\n",
        "    labels_val = tf.concat([labels_val,label],0)\n",
        "print(inputs_val.shape, labels_val.shape)\n",
        "\n",
        "for batch, (input, label) in enumerate(multi_window.test):\n",
        "  if batch == 0:\n",
        "    inputs_test = input\n",
        "    labels_test = label\n",
        "  else:\n",
        "    inputs_test = tf.concat([inputs_test,input],0)\n",
        "    labels_test = tf.concat([labels_test,label],0)\n",
        "    \n",
        "print(inputs_test.shape, labels_test.shape)"
      ],
      "execution_count": null,
      "outputs": [
        {
          "output_type": "stream",
          "text": [
            "(None, 48, 9) (None, 24, 1)\n",
            "(26260, 48, 9) (26260, 24, 1)\n",
            "(None, 48, 9) (None, 24, 1)\n",
            "(8690, 48, 9) (8690, 24, 1)\n",
            "(None, 48, 9) (None, 24, 1)\n",
            "(8713, 48, 9) (8713, 24, 1)\n"
          ],
          "name": "stdout"
        }
      ]
    },
    {
      "cell_type": "markdown",
      "metadata": {
        "id": "2RnDEz_evZle"
      },
      "source": [
        "### basic model"
      ]
    },
    {
      "cell_type": "code",
      "metadata": {
        "id": "kZuWsmv34sET"
      },
      "source": [
        "from sklearn.metrics import r2_score"
      ],
      "execution_count": null,
      "outputs": []
    },
    {
      "cell_type": "code",
      "metadata": {
        "colab": {
          "base_uri": "https://localhost:8080/"
        },
        "id": "Q4aFj_fwnwrR",
        "outputId": "dfb3f13f-2c81-4f7c-c2ac-c532b7dc1f86"
      },
      "source": [
        "for batch, (inputs, labels) in enumerate(multi_window.val):\n",
        "  if batch == 0:\n",
        "    #inp = inputs\n",
        "    #lab = labels\n",
        "\n",
        "    inp2 = inputs[:,:,:1]\n",
        "    inp3 = tf.reshape(inp2, [inp2.shape[0],inp2.shape[1]])\n",
        "    inp4 = tf.math.reduce_mean(inp3, axis=1)\n",
        "    input = tf.stack([inp4]*24, axis=1)\n",
        "\n",
        "    label = tf.reshape(labels, [labels.shape[0],labels.shape[1]])\n",
        "\n",
        "  else:\n",
        "    inp2 = inputs[:,:,:1]\n",
        "    inp3 = tf.reshape(inp2, [inp2.shape[0],inp2.shape[1]])\n",
        "    inp4 = tf.math.reduce_mean(inp3, axis=1)\n",
        "    inp5 = tf.stack([inp4]*24, axis=1)\n",
        "    input = tf.concat([input,inp5],0)\n",
        "\n",
        "    lab = tf.reshape(labels, [labels.shape[0],labels.shape[1]])\n",
        "    label = tf.concat([label,lab],0)\n",
        "    \n",
        "m = tf.keras.metrics.RootMeanSquaredError()\n",
        "m.update_state(label*200, input*200)\n",
        "print(\"baseline RMSE val: \", m.result().numpy())\n",
        "      \n",
        "mae_train = tf.keras.metrics.MeanAbsoluteError()\n",
        "mae_train.update_state(label*200, input*200)\n",
        "print(\"baseline MAE val: \", mae_train.result().numpy() )\n",
        "\n",
        "R2 = r2_score(label, input)\n",
        "print(\"baseline R2: {:.1f}%\".format(R2*100))"
      ],
      "execution_count": null,
      "outputs": [
        {
          "output_type": "stream",
          "text": [
            "(None, 48, 1) (None, 24, 1)\n",
            "baseline RMSE val:  9.8588085\n",
            "baseline MAE val:  7.0505643\n",
            "baseline R2: 24.1%\n"
          ],
          "name": "stdout"
        }
      ]
    },
    {
      "cell_type": "code",
      "metadata": {
        "colab": {
          "base_uri": "https://localhost:8080/"
        },
        "id": "QjRelwDG4sEU",
        "outputId": "dfb3f13f-2c81-4f7c-c2ac-c532b7dc1f86"
      },
      "source": [
        "for batch, (inputs, labels) in enumerate(multi_window.train):\n",
        "  if batch == 0:\n",
        "    #inp = inputs\n",
        "    #lab = labels\n",
        "\n",
        "    inp2 = inputs[:,:,:1]\n",
        "    inp3 = tf.reshape(inp2, [inp2.shape[0],inp2.shape[1]])\n",
        "    inp4 = tf.math.reduce_mean(inp3, axis=1)\n",
        "    input = tf.stack([inp4]*24, axis=1)\n",
        "\n",
        "    label = tf.reshape(labels, [labels.shape[0],labels.shape[1]])\n",
        "\n",
        "  else:\n",
        "    inp2 = inputs[:,:,:1]\n",
        "    inp3 = tf.reshape(inp2, [inp2.shape[0],inp2.shape[1]])\n",
        "    inp4 = tf.math.reduce_mean(inp3, axis=1)\n",
        "    inp5 = tf.stack([inp4]*24, axis=1)\n",
        "    input = tf.concat([input,inp5],0)\n",
        "\n",
        "    lab = tf.reshape(labels, [labels.shape[0],labels.shape[1]])\n",
        "    label = tf.concat([label,lab],0)\n",
        "    \n",
        "m = tf.keras.metrics.RootMeanSquaredError()\n",
        "m.update_state(label*200, input*200)\n",
        "print(\"baseline RMSE train: \", m.result().numpy())\n",
        "      \n",
        "mae_train = tf.keras.metrics.MeanAbsoluteError()\n",
        "mae_train.update_state(label*200, input*200)\n",
        "print(\"baseline MAE train: \", mae_train.result().numpy() )\n",
        "\n",
        "R2 = r2_score(label, input)\n",
        "print(\"baseline R2: {:.1f}%\".format(R2*100))"
      ],
      "execution_count": null,
      "outputs": [
        {
          "output_type": "stream",
          "text": [
            "(None, 48, 1) (None, 24, 1)\n",
            "baseline RMSE train:  11.823518\n",
            "baseline MAE train:  8.154959\n",
            "baseline R2: 34.0%\n"
          ],
          "name": "stdout"
        }
      ]
    },
    {
      "cell_type": "markdown",
      "metadata": {
        "id": "v_XtpoLa27r0"
      },
      "source": [
        "## optuna"
      ]
    },
    {
      "cell_type": "code",
      "metadata": {
        "id": "m7TDHXqa4sEV"
      },
      "source": [
        "# metrics definitions\n",
        "def metrics(model):\n",
        "    results_train = model(inputs_train)\n",
        "    results_val = model(inputs_val)\n",
        "    results_test = model(inputs_test)\n",
        "    \n",
        "    rmse_train = tf.keras.metrics.RootMeanSquaredError()\n",
        "    rmse_train.update_state(labels_train*200, results_train*200)\n",
        "    \n",
        "    rmse_val = tf.keras.metrics.RootMeanSquaredError()\n",
        "    rmse_val.update_state(labels_val*200, results_val*200)\n",
        "    \n",
        "    rmse_test = tf.keras.metrics.RootMeanSquaredError()\n",
        "    rmse_test.update_state(labels_test*200, results_test*200)\n",
        "    \n",
        "    \n",
        "    mae_train = tf.keras.metrics.MeanAbsoluteError()\n",
        "    mae_train.update_state(labels_train*200, results_train*200)\n",
        "    \n",
        "    mae_val = tf.keras.metrics.MeanAbsoluteError()\n",
        "    mae_val.update_state(labels_val*200, results_val*200)\n",
        "    \n",
        "    mae_test = tf.keras.metrics.MeanAbsoluteError()\n",
        "    mae_test.update_state(labels_test*200, results_test*200)\n",
        "    \n",
        "\n",
        "    results = ([rmse_train.result().numpy(), rmse_val.result().numpy(), rmse_test.result().numpy(),\n",
        "              mae_train.result().numpy(), mae_val.result().numpy(), mae_test.result().numpy()])\n",
        "              #R2_train, R2_val, R2_test])\n",
        "  \n",
        "\n",
        "    print(\"RMSE val: \", rmse_val.result().numpy(), mae_val.result().numpy())\n",
        "    \n",
        "    return results\n",
        "    "
      ],
      "execution_count": null,
      "outputs": []
    },
    {
      "cell_type": "markdown",
      "metadata": {
        "id": "Y4ceoLUoVZb7"
      },
      "source": [
        "### optuna basic-lstm"
      ]
    },
    {
      "cell_type": "code",
      "metadata": {
        "colab": {
          "base_uri": "https://localhost:8080/"
        },
        "id": "WxYn92nydWH7",
        "outputId": "753b7cf5-918c-4b67-8322-6e82bdc9fc9f"
      },
      "source": [
        "model = 'basic-lstm'\n",
        "fold = 'saved_model/' + model + str(BATCH_SIZE) + zakres\n",
        "os.mkdir(fold)\n",
        "\n",
        "def create_model(trial):\n",
        "    # We optimize the numbers of layers, their units and weight decay parameter.\n",
        "\n",
        "    weight_decay = trial.suggest_float(\"weight_decay\", 1e-10, 1e-3, log=True)\n",
        "    num_hidden = trial.suggest_int(\"n_units_l\", 4, 128, log=True)\n",
        "    \n",
        "    model = Sequential()\n",
        "\n",
        "    model.add(LSTM(num_hidden, return_sequences=False)),\n",
        "    model.add(Dense(OUT_STEPS, activation='relu', kernel_regularizer=tf.keras.regularizers.l2(weight_decay))),\n",
        "    model.add(Reshape([OUT_STEPS, 1]))\n",
        "\n",
        "    return model\n",
        "\n",
        "def create_optimizer(trial):\n",
        "    # We optimize the choice of optimizers as well as their parameters.\n",
        "\n",
        "    adam_lr = trial.suggest_float(\"adam_lr\", 1e-5, 1e-1, log=True)\n",
        "    return tf.keras.optimizers.Adam(learning_rate=adam_lr)\n",
        "\n",
        "\n",
        "def objective(trial):\n",
        "    print(trial.number)\n",
        "    \n",
        "    model = create_model(trial)\n",
        "    optimizer = create_optimizer(trial)\n",
        "\n",
        "    model.compile(loss=tf.losses.MeanSquaredError(),\n",
        "          optimizer=optimizer,\n",
        "          metrics=[tf.metrics.RootMeanSquaredError()])\n",
        " \n",
        "    early_stopping = tf.keras.callbacks.EarlyStopping(monitor='val_loss',\n",
        "                                              patience=patience, mode='min')\n",
        "\n",
        "    history = model.fit(multi_window.train, epochs= MAX_EPOCHS,\n",
        "                    validation_data=multi_window.val,\n",
        "                    callbacks=[early_stopping])\n",
        "\n",
        "    model.save('{}/model{}'.format(fold,trial.number))\n",
        "        \n",
        "    results = metrics(model)\n",
        "        \n",
        "    wyniki.append(results)\n",
        "\n",
        "    return results[1]\n",
        "\n",
        "\n",
        "if __name__ == \"__main__\":\n",
        "    sampler = TPESampler(seed=2021)\n",
        "    wyniki = []\n",
        "    study = optuna.create_study(direction=\"minimize\",sampler=sampler)\n",
        "    study.optimize(objective, n_trials=25)\n",
        "\n",
        "    print(\"Number of finished trials: \", len(study.trials))\n",
        "\n",
        "    print(\"Best trial:\")\n",
        "    trial = study.best_trial\n",
        "\n",
        "    print(\"  Value: \", trial.value)\n",
        "\n",
        "    print(\"  Params: \")\n",
        "    for key, value in trial.params.items():\n",
        "        print(\"    {}: {}\".format(key, value))\n",
        "        \n",
        "    print(\"model: \", model, \"; batch size: \", BATCH_SIZE , \"; data: \", zakres  )\n",
        "    \n",
        "    \n",
        "file = open(\"trials_1{}_{}_{}.txt\".format(model,BATCH_SIZE, zakres),\"w\")\n",
        "file.write(\"study trials: \\n\")\n",
        "file.writelines(str(study.trials))\n",
        "file.write(\"\\nBATCH_SIZE:\" + str(BATCH_SIZE))\n",
        "file.write(\"\\nDATA:\" + str(do_modelu))\n",
        "file.write(\"\\nbest trial: \\n\")\n",
        "file.writelines(str(study.best_trial))\n",
        "file.close()\n",
        "\n",
        "df_wyniki=pd.DataFrame()\n",
        "df_wyniki['RMSE_train'] = [item[0] for item in wyniki]\n",
        "df_wyniki['RMSE_val'] = [item[1] for item in wyniki]\n",
        "df_wyniki['RMSE_test'] = [item[2] for item in wyniki]\n",
        "df_wyniki['MAE_train'] = [item[3] for item in wyniki]\n",
        "df_wyniki['MAE_val'] = [item[4] for item in wyniki]\n",
        "df_wyniki['MAE_test'] = [item[5] for item in wyniki]\n",
        "df_wyniki.to_csv('wyniki_1{}_batch{}_{}.csv'.format(model, BATCH_SIZE,zakres))  \n",
        "\n",
        "for mod in os.listdir(fold):\n",
        "    if int(mod[5:]) == trial.number:\n",
        "        os.rename(fold + \"/\" + mod, fold + \"/best_\" + mod)"
      ],
      "execution_count": null,
      "outputs": [
        {
          "output_type": "stream",
          "text": [
            "\u001b[32m[I 2021-06-02 22:20:44,033]\u001b[0m A new study created in memory with name: no-name-32e14992-cbb1-4387-9124-ab8ed1061a11\u001b[0m\n"
          ],
          "name": "stderr"
        },
        {
          "output_type": "stream",
          "text": [
            "0\n",
            "(None, 48, 9) (None, 24, 1)\n",
            "(None, 48, 9) (None, 24, 1)\n",
            "Epoch 1/10\n",
            "821/821 [==============================] - 30s 35ms/step - loss: 0.0092 - root_mean_squared_error: 0.0957 - val_loss: 0.0048 - val_root_mean_squared_error: 0.0692\n",
            "Epoch 2/10\n",
            "821/821 [==============================] - 36s 43ms/step - loss: 0.0065 - root_mean_squared_error: 0.0800 - val_loss: 0.0039 - val_root_mean_squared_error: 0.0623\n",
            "Epoch 3/10\n",
            "821/821 [==============================] - 27s 33ms/step - loss: 0.0058 - root_mean_squared_error: 0.0758 - val_loss: 0.0038 - val_root_mean_squared_error: 0.0614\n",
            "Epoch 4/10\n",
            "821/821 [==============================] - 26s 31ms/step - loss: 0.0056 - root_mean_squared_error: 0.0747 - val_loss: 0.0037 - val_root_mean_squared_error: 0.0603\n",
            "Epoch 5/10\n",
            "821/821 [==============================] - 28s 34ms/step - loss: 0.0055 - root_mean_squared_error: 0.0740 - val_loss: 0.0036 - val_root_mean_squared_error: 0.0600\n",
            "Epoch 6/10\n",
            "821/821 [==============================] - 27s 33ms/step - loss: 0.0055 - root_mean_squared_error: 0.0736 - val_loss: 0.0036 - val_root_mean_squared_error: 0.0599\n",
            "Epoch 7/10\n",
            "821/821 [==============================] - 27s 33ms/step - loss: 0.0054 - root_mean_squared_error: 0.0733 - val_loss: 0.0036 - val_root_mean_squared_error: 0.0600\n",
            "Epoch 8/10\n",
            "821/821 [==============================] - 27s 33ms/step - loss: 0.0054 - root_mean_squared_error: 0.0731 - val_loss: 0.0036 - val_root_mean_squared_error: 0.0596\n",
            "Epoch 9/10\n",
            "821/821 [==============================] - 26s 32ms/step - loss: 0.0054 - root_mean_squared_error: 0.0729 - val_loss: 0.0036 - val_root_mean_squared_error: 0.0593\n",
            "Epoch 10/10\n",
            "821/821 [==============================] - 26s 31ms/step - loss: 0.0053 - root_mean_squared_error: 0.0727 - val_loss: 0.0035 - val_root_mean_squared_error: 0.0592\n"
          ],
          "name": "stdout"
        },
        {
          "output_type": "stream",
          "text": [
            "WARNING:absl:Found untraced functions such as lstm_cell_1668_layer_call_and_return_conditional_losses, lstm_cell_1668_layer_call_fn, lstm_cell_1668_layer_call_fn, lstm_cell_1668_layer_call_and_return_conditional_losses, lstm_cell_1668_layer_call_and_return_conditional_losses while saving (showing 5 of 5). These functions will not be directly callable after loading.\n"
          ],
          "name": "stderr"
        },
        {
          "output_type": "stream",
          "text": [
            "INFO:tensorflow:Assets written to: saved_model/basic-lstm32meteo/model0\\assets\n"
          ],
          "name": "stdout"
        },
        {
          "output_type": "stream",
          "text": [
            "INFO:tensorflow:Assets written to: saved_model/basic-lstm32meteo/model0\\assets\n",
            "\u001b[32m[I 2021-06-02 22:25:34,621]\u001b[0m Trial 0 finished with value: 11.831280708312988 and parameters: {'weight_decay': 1.7452110401305704e-06, 'n_units_l': 49, 'adam_lr': 3.595742861310716e-05}. Best is trial 0 with value: 11.831280708312988.\u001b[0m\n"
          ],
          "name": "stderr"
        },
        {
          "output_type": "stream",
          "text": [
            "RMSE val:  11.831281 8.350324\n",
            "1\n",
            "(None, 48, 9) (None, 24, 1)\n",
            "(None, 48, 9) (None, 24, 1)\n",
            "Epoch 1/10\n",
            "821/821 [==============================] - 72s 86ms/step - loss: 0.0059 - root_mean_squared_error: 0.0770 - val_loss: 0.0028 - val_root_mean_squared_error: 0.0524\n",
            "Epoch 2/10\n",
            "821/821 [==============================] - 72s 88ms/step - loss: 0.0038 - root_mean_squared_error: 0.0619 - val_loss: 0.0026 - val_root_mean_squared_error: 0.0508\n",
            "Epoch 3/10\n",
            "821/821 [==============================] - 72s 88ms/step - loss: 0.0037 - root_mean_squared_error: 0.0606 - val_loss: 0.0025 - val_root_mean_squared_error: 0.0502\n",
            "Epoch 4/10\n",
            "821/821 [==============================] - 71s 86ms/step - loss: 0.0036 - root_mean_squared_error: 0.0598 - val_loss: 0.0025 - val_root_mean_squared_error: 0.0497\n",
            "Epoch 5/10\n",
            "821/821 [==============================] - 71s 86ms/step - loss: 0.0035 - root_mean_squared_error: 0.0593 - val_loss: 0.0025 - val_root_mean_squared_error: 0.0503\n",
            "Epoch 6/10\n",
            "821/821 [==============================] - 71s 87ms/step - loss: 0.0035 - root_mean_squared_error: 0.0590 - val_loss: 0.0025 - val_root_mean_squared_error: 0.0495\n",
            "Epoch 7/10\n",
            "821/821 [==============================] - 72s 87ms/step - loss: 0.0034 - root_mean_squared_error: 0.0587 - val_loss: 0.0024 - val_root_mean_squared_error: 0.0492\n",
            "Epoch 8/10\n",
            "821/821 [==============================] - 73s 89ms/step - loss: 0.0034 - root_mean_squared_error: 0.0585 - val_loss: 0.0024 - val_root_mean_squared_error: 0.0489\n",
            "Epoch 9/10\n",
            "821/821 [==============================] - 72s 88ms/step - loss: 0.0034 - root_mean_squared_error: 0.0582 - val_loss: 0.0025 - val_root_mean_squared_error: 0.0497\n",
            "Epoch 10/10\n",
            "821/821 [==============================] - 72s 88ms/step - loss: 0.0034 - root_mean_squared_error: 0.0581 - val_loss: 0.0024 - val_root_mean_squared_error: 0.0490\n"
          ],
          "name": "stdout"
        },
        {
          "output_type": "stream",
          "text": [
            "WARNING:absl:Found untraced functions such as lstm_cell_1669_layer_call_and_return_conditional_losses, lstm_cell_1669_layer_call_fn, lstm_cell_1669_layer_call_fn, lstm_cell_1669_layer_call_and_return_conditional_losses, lstm_cell_1669_layer_call_and_return_conditional_losses while saving (showing 5 of 5). These functions will not be directly callable after loading.\n"
          ],
          "name": "stderr"
        },
        {
          "output_type": "stream",
          "text": [
            "INFO:tensorflow:Assets written to: saved_model/basic-lstm32meteo/model1\\assets\n"
          ],
          "name": "stdout"
        },
        {
          "output_type": "stream",
          "text": [
            "INFO:tensorflow:Assets written to: saved_model/basic-lstm32meteo/model1\\assets\n",
            "\u001b[32m[I 2021-06-02 22:37:53,540]\u001b[0m Trial 1 finished with value: 9.793571472167969 and parameters: {'weight_decay': 1.5442285836679523e-08, 'n_units_l': 127, 'adam_lr': 3.255738398559085e-05}. Best is trial 1 with value: 9.793571472167969.\u001b[0m\n"
          ],
          "name": "stderr"
        },
        {
          "output_type": "stream",
          "text": [
            "RMSE val:  9.793571 6.9608636\n",
            "2\n",
            "(None, 48, 9) (None, 24, 1)\n",
            "(None, 48, 9) (None, 24, 1)\n",
            "Epoch 1/10\n",
            "821/821 [==============================] - 34s 39ms/step - loss: 0.0028 - root_mean_squared_error: 0.0533 - val_loss: 0.0016 - val_root_mean_squared_error: 0.0395\n",
            "Epoch 2/10\n",
            "821/821 [==============================] - 33s 40ms/step - loss: 0.0020 - root_mean_squared_error: 0.0450 - val_loss: 0.0015 - val_root_mean_squared_error: 0.0390\n",
            "Epoch 3/10\n",
            "821/821 [==============================] - 31s 37ms/step - loss: 0.0019 - root_mean_squared_error: 0.0441 - val_loss: 0.0016 - val_root_mean_squared_error: 0.0396\n",
            "Epoch 4/10\n",
            "821/821 [==============================] - 27s 33ms/step - loss: 0.0018 - root_mean_squared_error: 0.0428 - val_loss: 0.0015 - val_root_mean_squared_error: 0.0388\n",
            "Epoch 5/10\n",
            "821/821 [==============================] - 28s 34ms/step - loss: 0.0018 - root_mean_squared_error: 0.0424 - val_loss: 0.0015 - val_root_mean_squared_error: 0.0385\n",
            "Epoch 6/10\n",
            "821/821 [==============================] - 27s 33ms/step - loss: 0.0017 - root_mean_squared_error: 0.0418 - val_loss: 0.0015 - val_root_mean_squared_error: 0.0383\n",
            "Epoch 7/10\n",
            "821/821 [==============================] - 28s 34ms/step - loss: 0.0017 - root_mean_squared_error: 0.0410 - val_loss: 0.0014 - val_root_mean_squared_error: 0.0379\n",
            "Epoch 8/10\n",
            "821/821 [==============================] - 27s 33ms/step - loss: 0.0016 - root_mean_squared_error: 0.0404 - val_loss: 0.0015 - val_root_mean_squared_error: 0.0389\n",
            "Epoch 9/10\n",
            "821/821 [==============================] - 27s 33ms/step - loss: 0.0016 - root_mean_squared_error: 0.0394 - val_loss: 0.0015 - val_root_mean_squared_error: 0.0382\n"
          ],
          "name": "stdout"
        },
        {
          "output_type": "stream",
          "text": [
            "WARNING:absl:Found untraced functions such as lstm_cell_1670_layer_call_and_return_conditional_losses, lstm_cell_1670_layer_call_fn, lstm_cell_1670_layer_call_fn, lstm_cell_1670_layer_call_and_return_conditional_losses, lstm_cell_1670_layer_call_and_return_conditional_losses while saving (showing 5 of 5). These functions will not be directly callable after loading.\n"
          ],
          "name": "stderr"
        },
        {
          "output_type": "stream",
          "text": [
            "INFO:tensorflow:Assets written to: saved_model/basic-lstm32meteo/model2\\assets\n"
          ],
          "name": "stdout"
        },
        {
          "output_type": "stream",
          "text": [
            "INFO:tensorflow:Assets written to: saved_model/basic-lstm32meteo/model2\\assets\n",
            "\u001b[32m[I 2021-06-02 22:42:28,226]\u001b[0m Trial 2 finished with value: 7.631365776062012 and parameters: {'weight_decay': 1.7904068948395157e-09, 'n_units_l': 53, 'adam_lr': 0.004452890926641411}. Best is trial 2 with value: 7.631365776062012.\u001b[0m\n"
          ],
          "name": "stderr"
        },
        {
          "output_type": "stream",
          "text": [
            "RMSE val:  7.631366 5.368097\n",
            "3\n",
            "(None, 48, 9) (None, 24, 1)\n",
            "(None, 48, 9) (None, 24, 1)\n",
            "Epoch 1/10\n",
            "821/821 [==============================] - 14s 16ms/step - loss: 0.0124 - root_mean_squared_error: 0.1099 - val_loss: 0.0077 - val_root_mean_squared_error: 0.0861\n",
            "Epoch 2/10\n",
            "821/821 [==============================] - 13s 15ms/step - loss: 0.0111 - root_mean_squared_error: 0.1041 - val_loss: 0.0068 - val_root_mean_squared_error: 0.0809\n",
            "Epoch 3/10\n",
            "821/821 [==============================] - 13s 16ms/step - loss: 0.0100 - root_mean_squared_error: 0.0987 - val_loss: 0.0064 - val_root_mean_squared_error: 0.0785\n",
            "Epoch 4/10\n",
            "821/821 [==============================] - 13s 16ms/step - loss: 0.0096 - root_mean_squared_error: 0.0964 - val_loss: 0.0062 - val_root_mean_squared_error: 0.0772\n",
            "Epoch 5/10\n",
            "821/821 [==============================] - 13s 15ms/step - loss: 0.0092 - root_mean_squared_error: 0.0943 - val_loss: 0.0060 - val_root_mean_squared_error: 0.0758\n",
            "Epoch 6/10\n",
            "821/821 [==============================] - 13s 15ms/step - loss: 0.0089 - root_mean_squared_error: 0.0931 - val_loss: 0.0059 - val_root_mean_squared_error: 0.0752\n",
            "Epoch 7/10\n",
            "821/821 [==============================] - 12s 15ms/step - loss: 0.0086 - root_mean_squared_error: 0.0915 - val_loss: 0.0055 - val_root_mean_squared_error: 0.0726\n",
            "Epoch 8/10\n",
            "821/821 [==============================] - 14s 17ms/step - loss: 0.0080 - root_mean_squared_error: 0.0884 - val_loss: 0.0053 - val_root_mean_squared_error: 0.0712\n",
            "Epoch 9/10\n",
            "821/821 [==============================] - 13s 16ms/step - loss: 0.0078 - root_mean_squared_error: 0.0871 - val_loss: 0.0052 - val_root_mean_squared_error: 0.0706\n",
            "Epoch 10/10\n",
            "821/821 [==============================] - 13s 15ms/step - loss: 0.0077 - root_mean_squared_error: 0.0864 - val_loss: 0.0051 - val_root_mean_squared_error: 0.0702\n"
          ],
          "name": "stdout"
        },
        {
          "output_type": "stream",
          "text": [
            "WARNING:absl:Found untraced functions such as lstm_cell_1671_layer_call_and_return_conditional_losses, lstm_cell_1671_layer_call_fn, lstm_cell_1671_layer_call_fn, lstm_cell_1671_layer_call_and_return_conditional_losses, lstm_cell_1671_layer_call_and_return_conditional_losses while saving (showing 5 of 5). These functions will not be directly callable after loading.\n"
          ],
          "name": "stderr"
        },
        {
          "output_type": "stream",
          "text": [
            "INFO:tensorflow:Assets written to: saved_model/basic-lstm32meteo/model3\\assets\n"
          ],
          "name": "stdout"
        },
        {
          "output_type": "stream",
          "text": [
            "INFO:tensorflow:Assets written to: saved_model/basic-lstm32meteo/model3\\assets\n",
            "\u001b[32m[I 2021-06-02 22:44:47,415]\u001b[0m Trial 3 finished with value: 14.037128448486328 and parameters: {'weight_decay': 3.0915119173834366e-05, 'n_units_l': 5, 'adam_lr': 1.7150829926878746e-05}. Best is trial 2 with value: 7.631365776062012.\u001b[0m\n"
          ],
          "name": "stderr"
        },
        {
          "output_type": "stream",
          "text": [
            "RMSE val:  14.037128 11.188131\n",
            "4\n",
            "(None, 48, 9) (None, 24, 1)\n",
            "(None, 48, 9) (None, 24, 1)\n",
            "Epoch 1/10\n",
            "821/821 [==============================] - 19s 22ms/step - loss: 0.0299 - root_mean_squared_error: 0.1227 - val_loss: 0.0217 - val_root_mean_squared_error: 0.0878\n",
            "Epoch 2/10\n",
            "821/821 [==============================] - 18s 22ms/step - loss: 0.0226 - root_mean_squared_error: 0.0968 - val_loss: 0.0187 - val_root_mean_squared_error: 0.0787\n",
            "Epoch 3/10\n",
            "821/821 [==============================] - 17s 21ms/step - loss: 0.0200 - root_mean_squared_error: 0.0907 - val_loss: 0.0165 - val_root_mean_squared_error: 0.0742\n",
            "Epoch 4/10\n",
            "821/821 [==============================] - 17s 21ms/step - loss: 0.0179 - root_mean_squared_error: 0.0871 - val_loss: 0.0146 - val_root_mean_squared_error: 0.0703\n",
            "Epoch 5/10\n",
            "821/821 [==============================] - 18s 21ms/step - loss: 0.0161 - root_mean_squared_error: 0.0839 - val_loss: 0.0129 - val_root_mean_squared_error: 0.0672\n",
            "Epoch 6/10\n",
            "821/821 [==============================] - 18s 22ms/step - loss: 0.0145 - root_mean_squared_error: 0.0815 - val_loss: 0.0115 - val_root_mean_squared_error: 0.0654\n",
            "Epoch 7/10\n",
            "821/821 [==============================] - 17s 21ms/step - loss: 0.0130 - root_mean_squared_error: 0.0791 - val_loss: 0.0100 - val_root_mean_squared_error: 0.0620\n",
            "Epoch 8/10\n",
            "821/821 [==============================] - 18s 21ms/step - loss: 0.0114 - root_mean_squared_error: 0.0757 - val_loss: 0.0090 - val_root_mean_squared_error: 0.0612\n",
            "Epoch 9/10\n",
            "821/821 [==============================] - 18s 22ms/step - loss: 0.0102 - root_mean_squared_error: 0.0732 - val_loss: 0.0079 - val_root_mean_squared_error: 0.0584\n",
            "Epoch 10/10\n",
            "821/821 [==============================] - 17s 21ms/step - loss: 0.0091 - root_mean_squared_error: 0.0710 - val_loss: 0.0071 - val_root_mean_squared_error: 0.0577\n"
          ],
          "name": "stdout"
        },
        {
          "output_type": "stream",
          "text": [
            "WARNING:absl:Found untraced functions such as lstm_cell_1672_layer_call_and_return_conditional_losses, lstm_cell_1672_layer_call_fn, lstm_cell_1672_layer_call_fn, lstm_cell_1672_layer_call_and_return_conditional_losses, lstm_cell_1672_layer_call_and_return_conditional_losses while saving (showing 5 of 5). These functions will not be directly callable after loading.\n"
          ],
          "name": "stderr"
        },
        {
          "output_type": "stream",
          "text": [
            "INFO:tensorflow:Assets written to: saved_model/basic-lstm32meteo/model4\\assets\n"
          ],
          "name": "stdout"
        },
        {
          "output_type": "stream",
          "text": [
            "INFO:tensorflow:Assets written to: saved_model/basic-lstm32meteo/model4\\assets\n",
            "\u001b[32m[I 2021-06-02 22:47:55,849]\u001b[0m Trial 4 finished with value: 11.548832893371582 and parameters: {'weight_decay': 0.0005454713331247908, 'n_units_l': 32, 'adam_lr': 2.2208531625461777e-05}. Best is trial 2 with value: 7.631365776062012.\u001b[0m\n"
          ],
          "name": "stderr"
        },
        {
          "output_type": "stream",
          "text": [
            "RMSE val:  11.548833 8.318089\n",
            "5\n",
            "(None, 48, 9) (None, 24, 1)\n",
            "(None, 48, 9) (None, 24, 1)\n",
            "Epoch 1/10\n",
            "821/821 [==============================] - 20s 23ms/step - loss: 0.0126 - root_mean_squared_error: 0.1120 - val_loss: 0.0071 - val_root_mean_squared_error: 0.0839\n",
            "Epoch 2/10\n",
            "821/821 [==============================] - 18s 22ms/step - loss: 0.0114 - root_mean_squared_error: 0.1067 - val_loss: 0.0070 - val_root_mean_squared_error: 0.0835\n",
            "Epoch 3/10\n",
            "821/821 [==============================] - 17s 21ms/step - loss: 0.0114 - root_mean_squared_error: 0.1067 - val_loss: 0.0070 - val_root_mean_squared_error: 0.0835\n",
            "Epoch 4/10\n",
            "821/821 [==============================] - 19s 23ms/step - loss: 0.0114 - root_mean_squared_error: 0.1066 - val_loss: 0.0071 - val_root_mean_squared_error: 0.0840\n",
            "Epoch 5/10\n",
            "821/821 [==============================] - 18s 22ms/step - loss: 0.0114 - root_mean_squared_error: 0.1066 - val_loss: 0.0070 - val_root_mean_squared_error: 0.0834\n",
            "Epoch 6/10\n",
            "821/821 [==============================] - 17s 21ms/step - loss: 0.0114 - root_mean_squared_error: 0.1066 - val_loss: 0.0072 - val_root_mean_squared_error: 0.0849\n",
            "Epoch 7/10\n",
            "821/821 [==============================] - 17s 21ms/step - loss: 0.0114 - root_mean_squared_error: 0.1067 - val_loss: 0.0070 - val_root_mean_squared_error: 0.0836\n"
          ],
          "name": "stdout"
        },
        {
          "output_type": "stream",
          "text": [
            "WARNING:absl:Found untraced functions such as lstm_cell_1673_layer_call_and_return_conditional_losses, lstm_cell_1673_layer_call_fn, lstm_cell_1673_layer_call_fn, lstm_cell_1673_layer_call_and_return_conditional_losses, lstm_cell_1673_layer_call_and_return_conditional_losses while saving (showing 5 of 5). These functions will not be directly callable after loading.\n"
          ],
          "name": "stderr"
        },
        {
          "output_type": "stream",
          "text": [
            "INFO:tensorflow:Assets written to: saved_model/basic-lstm32meteo/model5\\assets\n"
          ],
          "name": "stdout"
        },
        {
          "output_type": "stream",
          "text": [
            "INFO:tensorflow:Assets written to: saved_model/basic-lstm32meteo/model5\\assets\n",
            "\u001b[32m[I 2021-06-02 22:50:13,159]\u001b[0m Trial 5 finished with value: 16.71694564819336 and parameters: {'weight_decay': 8.489977465125874e-07, 'n_units_l': 32, 'adam_lr': 0.07167572450040122}. Best is trial 2 with value: 7.631365776062012.\u001b[0m\n"
          ],
          "name": "stderr"
        },
        {
          "output_type": "stream",
          "text": [
            "RMSE val:  16.716946 12.582445\n",
            "6\n",
            "(None, 48, 9) (None, 24, 1)\n",
            "(None, 48, 9) (None, 24, 1)\n",
            "Epoch 1/10\n",
            "821/821 [==============================] - 15s 16ms/step - loss: 0.0069 - root_mean_squared_error: 0.0827 - val_loss: 0.0036 - val_root_mean_squared_error: 0.0597\n",
            "Epoch 2/10\n",
            "821/821 [==============================] - 14s 17ms/step - loss: 0.0047 - root_mean_squared_error: 0.0684 - val_loss: 0.0028 - val_root_mean_squared_error: 0.0530\n",
            "Epoch 3/10\n",
            "821/821 [==============================] - 13s 16ms/step - loss: 0.0035 - root_mean_squared_error: 0.0593 - val_loss: 0.0025 - val_root_mean_squared_error: 0.0495\n",
            "Epoch 4/10\n",
            "821/821 [==============================] - 14s 17ms/step - loss: 0.0034 - root_mean_squared_error: 0.0580 - val_loss: 0.0024 - val_root_mean_squared_error: 0.0489\n",
            "Epoch 5/10\n",
            "821/821 [==============================] - 14s 17ms/step - loss: 0.0033 - root_mean_squared_error: 0.0573 - val_loss: 0.0023 - val_root_mean_squared_error: 0.0479\n",
            "Epoch 6/10\n",
            "821/821 [==============================] - 14s 17ms/step - loss: 0.0032 - root_mean_squared_error: 0.0567 - val_loss: 0.0023 - val_root_mean_squared_error: 0.0483\n",
            "Epoch 7/10\n",
            "821/821 [==============================] - 15s 19ms/step - loss: 0.0032 - root_mean_squared_error: 0.0563 - val_loss: 0.0022 - val_root_mean_squared_error: 0.0468\n",
            "Epoch 8/10\n",
            "821/821 [==============================] - 14s 17ms/step - loss: 0.0031 - root_mean_squared_error: 0.0559 - val_loss: 0.0022 - val_root_mean_squared_error: 0.0465\n",
            "Epoch 9/10\n",
            "821/821 [==============================] - 13s 16ms/step - loss: 0.0031 - root_mean_squared_error: 0.0557 - val_loss: 0.0022 - val_root_mean_squared_error: 0.0464\n",
            "Epoch 10/10\n",
            "821/821 [==============================] - 14s 17ms/step - loss: 0.0031 - root_mean_squared_error: 0.0555 - val_loss: 0.0023 - val_root_mean_squared_error: 0.0474\n"
          ],
          "name": "stdout"
        },
        {
          "output_type": "stream",
          "text": [
            "WARNING:absl:Found untraced functions such as lstm_cell_1674_layer_call_and_return_conditional_losses, lstm_cell_1674_layer_call_fn, lstm_cell_1674_layer_call_fn, lstm_cell_1674_layer_call_and_return_conditional_losses, lstm_cell_1674_layer_call_and_return_conditional_losses while saving (showing 5 of 5). These functions will not be directly callable after loading.\n"
          ],
          "name": "stderr"
        },
        {
          "output_type": "stream",
          "text": [
            "INFO:tensorflow:Assets written to: saved_model/basic-lstm32meteo/model6\\assets\n"
          ],
          "name": "stdout"
        },
        {
          "output_type": "stream",
          "text": [
            "INFO:tensorflow:Assets written to: saved_model/basic-lstm32meteo/model6\\assets\n",
            "\u001b[32m[I 2021-06-02 22:52:42,251]\u001b[0m Trial 6 finished with value: 9.489189147949219 and parameters: {'weight_decay': 1.0474421858660304e-06, 'n_units_l': 13, 'adam_lr': 0.0006435480447505021}. Best is trial 2 with value: 7.631365776062012.\u001b[0m\n"
          ],
          "name": "stderr"
        },
        {
          "output_type": "stream",
          "text": [
            "RMSE val:  9.489189 6.686968\n",
            "7\n",
            "(None, 48, 9) (None, 24, 1)\n",
            "(None, 48, 9) (None, 24, 1)\n",
            "Epoch 1/10\n",
            "821/821 [==============================] - 16s 18ms/step - loss: 0.0096 - root_mean_squared_error: 0.0980 - val_loss: 0.0048 - val_root_mean_squared_error: 0.0694\n",
            "Epoch 2/10\n",
            "821/821 [==============================] - 15s 18ms/step - loss: 0.0061 - root_mean_squared_error: 0.0780 - val_loss: 0.0036 - val_root_mean_squared_error: 0.0599\n",
            "Epoch 3/10\n",
            "821/821 [==============================] - 14s 17ms/step - loss: 0.0048 - root_mean_squared_error: 0.0692 - val_loss: 0.0032 - val_root_mean_squared_error: 0.0567\n",
            "Epoch 4/10\n",
            "821/821 [==============================] - 15s 18ms/step - loss: 0.0044 - root_mean_squared_error: 0.0667 - val_loss: 0.0031 - val_root_mean_squared_error: 0.0554\n",
            "Epoch 5/10\n",
            "821/821 [==============================] - 14s 18ms/step - loss: 0.0043 - root_mean_squared_error: 0.0656 - val_loss: 0.0030 - val_root_mean_squared_error: 0.0548d_error: 0.06 - ETA: \n",
            "Epoch 6/10\n",
            "821/821 [==============================] - 16s 19ms/step - loss: 0.0042 - root_mean_squared_error: 0.0651 - val_loss: 0.0029 - val_root_mean_squared_error: 0.0542\n",
            "Epoch 7/10\n",
            "821/821 [==============================] - 15s 18ms/step - loss: 0.0042 - root_mean_squared_error: 0.0647 - val_loss: 0.0029 - val_root_mean_squared_error: 0.0540\n",
            "Epoch 8/10\n",
            "821/821 [==============================] - 15s 18ms/step - loss: 0.0042 - root_mean_squared_error: 0.0644 - val_loss: 0.0029 - val_root_mean_squared_error: 0.0538\n",
            "Epoch 9/10\n",
            "821/821 [==============================] - 14s 17ms/step - loss: 0.0041 - root_mean_squared_error: 0.0642 - val_loss: 0.0029 - val_root_mean_squared_error: 0.0539\n",
            "Epoch 10/10\n",
            "821/821 [==============================] - 17s 21ms/step - loss: 0.0041 - root_mean_squared_error: 0.0640 - val_loss: 0.0029 - val_root_mean_squared_error: 0.0537\n"
          ],
          "name": "stdout"
        },
        {
          "output_type": "stream",
          "text": [
            "WARNING:absl:Found untraced functions such as lstm_cell_1675_layer_call_and_return_conditional_losses, lstm_cell_1675_layer_call_fn, lstm_cell_1675_layer_call_fn, lstm_cell_1675_layer_call_and_return_conditional_losses, lstm_cell_1675_layer_call_and_return_conditional_losses while saving (showing 5 of 5). These functions will not be directly callable after loading.\n"
          ],
          "name": "stderr"
        },
        {
          "output_type": "stream",
          "text": [
            "INFO:tensorflow:Assets written to: saved_model/basic-lstm32meteo/model7\\assets\n"
          ],
          "name": "stdout"
        },
        {
          "output_type": "stream",
          "text": [
            "INFO:tensorflow:Assets written to: saved_model/basic-lstm32meteo/model7\\assets\n",
            "\u001b[32m[I 2021-06-02 22:55:22,828]\u001b[0m Trial 7 finished with value: 10.73902702331543 and parameters: {'weight_decay': 2.587925291044614e-09, 'n_units_l': 27, 'adam_lr': 6.0309245793449296e-05}. Best is trial 2 with value: 7.631365776062012.\u001b[0m\n"
          ],
          "name": "stderr"
        },
        {
          "output_type": "stream",
          "text": [
            "RMSE val:  10.739027 7.6868834\n",
            "8\n",
            "(None, 48, 9) (None, 24, 1)\n",
            "(None, 48, 9) (None, 24, 1)\n",
            "Epoch 1/10\n",
            "821/821 [==============================] - 15s 17ms/step - loss: 0.0062 - root_mean_squared_error: 0.0787 - val_loss: 0.0034 - val_root_mean_squared_error: 0.0582\n",
            "Epoch 2/10\n",
            "821/821 [==============================] - 13s 16ms/step - loss: 0.0050 - root_mean_squared_error: 0.0705 - val_loss: 0.0030 - val_root_mean_squared_error: 0.0544\n",
            "Epoch 3/10\n",
            "821/821 [==============================] - 14s 17ms/step - loss: 0.0044 - root_mean_squared_error: 0.0659 - val_loss: 0.0026 - val_root_mean_squared_error: 0.0504\n",
            "Epoch 4/10\n",
            "821/821 [==============================] - 14s 17ms/step - loss: 0.0029 - root_mean_squared_error: 0.0540 - val_loss: 0.0021 - val_root_mean_squared_error: 0.0452\n",
            "Epoch 5/10\n",
            "821/821 [==============================] - 14s 17ms/step - loss: 0.0020 - root_mean_squared_error: 0.0448 - val_loss: 0.0015 - val_root_mean_squared_error: 0.0383\n",
            "Epoch 6/10\n",
            "821/821 [==============================] - 14s 17ms/step - loss: 0.0019 - root_mean_squared_error: 0.0438 - val_loss: 0.0016 - val_root_mean_squared_error: 0.0399\n",
            "Epoch 7/10\n",
            "821/821 [==============================] - 13s 16ms/step - loss: 0.0019 - root_mean_squared_error: 0.0433 - val_loss: 0.0016 - val_root_mean_squared_error: 0.0393\n"
          ],
          "name": "stdout"
        },
        {
          "output_type": "stream",
          "text": [
            "WARNING:absl:Found untraced functions such as lstm_cell_1676_layer_call_and_return_conditional_losses, lstm_cell_1676_layer_call_fn, lstm_cell_1676_layer_call_fn, lstm_cell_1676_layer_call_and_return_conditional_losses, lstm_cell_1676_layer_call_and_return_conditional_losses while saving (showing 5 of 5). These functions will not be directly callable after loading.\n"
          ],
          "name": "stderr"
        },
        {
          "output_type": "stream",
          "text": [
            "INFO:tensorflow:Assets written to: saved_model/basic-lstm32meteo/model8\\assets\n"
          ],
          "name": "stdout"
        },
        {
          "output_type": "stream",
          "text": [
            "INFO:tensorflow:Assets written to: saved_model/basic-lstm32meteo/model8\\assets\n",
            "\u001b[32m[I 2021-06-02 22:57:09,834]\u001b[0m Trial 8 finished with value: 7.856375694274902 and parameters: {'weight_decay': 1.218787844788821e-06, 'n_units_l': 19, 'adam_lr': 0.0011783046761626908}. Best is trial 2 with value: 7.631365776062012.\u001b[0m\n"
          ],
          "name": "stderr"
        },
        {
          "output_type": "stream",
          "text": [
            "RMSE val:  7.8563757 5.7705393\n",
            "9\n",
            "(None, 48, 9) (None, 24, 1)\n",
            "(None, 48, 9) (None, 24, 1)\n",
            "Epoch 1/10\n",
            "821/821 [==============================] - 27s 31ms/step - loss: 0.0144 - root_mean_squared_error: 0.1121 - val_loss: 0.0080 - val_root_mean_squared_error: 0.0792\n",
            "Epoch 2/10\n",
            "821/821 [==============================] - 26s 31ms/step - loss: 0.0110 - root_mean_squared_error: 0.0965 - val_loss: 0.0074 - val_root_mean_squared_error: 0.0757\n",
            "Epoch 3/10\n",
            "821/821 [==============================] - 26s 31ms/step - loss: 0.0098 - root_mean_squared_error: 0.0905 - val_loss: 0.0065 - val_root_mean_squared_error: 0.0701\n",
            "Epoch 4/10\n",
            "821/821 [==============================] - 25s 31ms/step - loss: 0.0085 - root_mean_squared_error: 0.0839 - val_loss: 0.0059 - val_root_mean_squared_error: 0.0664\n",
            "Epoch 5/10\n",
            "821/821 [==============================] - 27s 33ms/step - loss: 0.0081 - root_mean_squared_error: 0.0819 - val_loss: 0.0057 - val_root_mean_squared_error: 0.0657ot_\n",
            "Epoch 6/10\n",
            "821/821 [==============================] - 26s 31ms/step - loss: 0.0079 - root_mean_squared_error: 0.0811 - val_loss: 0.0056 - val_root_mean_squared_error: 0.0653\n",
            "Epoch 7/10\n",
            "821/821 [==============================] - 25s 31ms/step - loss: 0.0078 - root_mean_squared_error: 0.0807 - val_loss: 0.0054 - val_root_mean_squared_error: 0.0649\n",
            "Epoch 8/10\n",
            "821/821 [==============================] - 25s 31ms/step - loss: 0.0076 - root_mean_squared_error: 0.0803 - val_loss: 0.0053 - val_root_mean_squared_error: 0.0648\n",
            "Epoch 9/10\n",
            "821/821 [==============================] - 25s 31ms/step - loss: 0.0073 - root_mean_squared_error: 0.0788 - val_loss: 0.0050 - val_root_mean_squared_error: 0.0621\n",
            "Epoch 10/10\n",
            "821/821 [==============================] - 25s 31ms/step - loss: 0.0069 - root_mean_squared_error: 0.0765 - val_loss: 0.0049 - val_root_mean_squared_error: 0.0618\n"
          ],
          "name": "stdout"
        },
        {
          "output_type": "stream",
          "text": [
            "WARNING:absl:Found untraced functions such as lstm_cell_1677_layer_call_and_return_conditional_losses, lstm_cell_1677_layer_call_fn, lstm_cell_1677_layer_call_fn, lstm_cell_1677_layer_call_and_return_conditional_losses, lstm_cell_1677_layer_call_and_return_conditional_losses while saving (showing 5 of 5). These functions will not be directly callable after loading.\n"
          ],
          "name": "stderr"
        },
        {
          "output_type": "stream",
          "text": [
            "INFO:tensorflow:Assets written to: saved_model/basic-lstm32meteo/model9\\assets\n"
          ],
          "name": "stdout"
        },
        {
          "output_type": "stream",
          "text": [
            "INFO:tensorflow:Assets written to: saved_model/basic-lstm32meteo/model9\\assets\n",
            "\u001b[32m[I 2021-06-02 23:01:39,303]\u001b[0m Trial 9 finished with value: 12.361910820007324 and parameters: {'weight_decay': 5.7768413117864e-05, 'n_units_l': 49, 'adam_lr': 1.8889701680886102e-05}. Best is trial 2 with value: 7.631365776062012.\u001b[0m\n"
          ],
          "name": "stderr"
        },
        {
          "output_type": "stream",
          "text": [
            "RMSE val:  12.361911 8.827272\n",
            "10\n",
            "(None, 48, 9) (None, 24, 1)\n",
            "(None, 48, 9) (None, 24, 1)\n",
            "Epoch 1/10\n",
            "821/821 [==============================] - 74s 88ms/step - loss: 0.0172 - root_mean_squared_error: 0.1310 - val_loss: 0.0096 - val_root_mean_squared_error: 0.0979\n",
            "Epoch 2/10\n",
            "821/821 [==============================] - 72s 87ms/step - loss: 0.0159 - root_mean_squared_error: 0.1259 - val_loss: 0.0096 - val_root_mean_squared_error: 0.0979\n",
            "Epoch 3/10\n",
            "821/821 [==============================] - 71s 87ms/step - loss: 0.0159 - root_mean_squared_error: 0.1259 - val_loss: 0.0096 - val_root_mean_squared_error: 0.0979\n"
          ],
          "name": "stdout"
        },
        {
          "output_type": "stream",
          "text": [
            "WARNING:absl:Found untraced functions such as lstm_cell_1678_layer_call_and_return_conditional_losses, lstm_cell_1678_layer_call_fn, lstm_cell_1678_layer_call_fn, lstm_cell_1678_layer_call_and_return_conditional_losses, lstm_cell_1678_layer_call_and_return_conditional_losses while saving (showing 5 of 5). These functions will not be directly callable after loading.\n"
          ],
          "name": "stderr"
        },
        {
          "output_type": "stream",
          "text": [
            "INFO:tensorflow:Assets written to: saved_model/basic-lstm32meteo/model10\\assets\n"
          ],
          "name": "stdout"
        },
        {
          "output_type": "stream",
          "text": [
            "INFO:tensorflow:Assets written to: saved_model/basic-lstm32meteo/model10\\assets\n",
            "\u001b[32m[I 2021-06-02 23:05:34,798]\u001b[0m Trial 10 finished with value: 19.589365005493164 and parameters: {'weight_decay': 3.285466869984973e-10, 'n_units_l': 118, 'adam_lr': 0.03963338456127991}. Best is trial 2 with value: 7.631365776062012.\u001b[0m\n"
          ],
          "name": "stderr"
        },
        {
          "output_type": "stream",
          "text": [
            "RMSE val:  19.589365 15.989601\n",
            "11\n",
            "(None, 48, 9) (None, 24, 1)\n",
            "(None, 48, 9) (None, 24, 1)\n",
            "Epoch 1/10\n",
            "821/821 [==============================] - 15s 16ms/step - loss: 0.0045 - root_mean_squared_error: 0.0668 - val_loss: 0.0021 - val_root_mean_squared_error: 0.0455\n",
            "Epoch 2/10\n",
            "821/821 [==============================] - 13s 16ms/step - loss: 0.0024 - root_mean_squared_error: 0.0491 - val_loss: 0.0016 - val_root_mean_squared_error: 0.0400\n",
            "Epoch 3/10\n",
            "821/821 [==============================] - 13s 16ms/step - loss: 0.0020 - root_mean_squared_error: 0.0446 - val_loss: 0.0015 - val_root_mean_squared_error: 0.0387\n",
            "Epoch 4/10\n",
            "821/821 [==============================] - 13s 16ms/step - loss: 0.0019 - root_mean_squared_error: 0.0437 - val_loss: 0.0015 - val_root_mean_squared_error: 0.0384\n",
            "Epoch 5/10\n",
            "821/821 [==============================] - 13s 16ms/step - loss: 0.0019 - root_mean_squared_error: 0.0431 - val_loss: 0.0016 - val_root_mean_squared_error: 0.0400\n",
            "Epoch 6/10\n",
            "821/821 [==============================] - 14s 16ms/step - loss: 0.0018 - root_mean_squared_error: 0.0428 - val_loss: 0.0015 - val_root_mean_squared_error: 0.0383\n",
            "Epoch 7/10\n",
            "821/821 [==============================] - 13s 16ms/step - loss: 0.0018 - root_mean_squared_error: 0.0424 - val_loss: 0.0015 - val_root_mean_squared_error: 0.0381\n",
            "Epoch 8/10\n",
            "821/821 [==============================] - 13s 16ms/step - loss: 0.0018 - root_mean_squared_error: 0.0421 - val_loss: 0.0015 - val_root_mean_squared_error: 0.0388\n",
            "Epoch 9/10\n",
            "821/821 [==============================] - 13s 16ms/step - loss: 0.0017 - root_mean_squared_error: 0.0417 - val_loss: 0.0016 - val_root_mean_squared_error: 0.0401\n"
          ],
          "name": "stdout"
        },
        {
          "output_type": "stream",
          "text": [
            "WARNING:absl:Found untraced functions such as lstm_cell_1679_layer_call_and_return_conditional_losses, lstm_cell_1679_layer_call_fn, lstm_cell_1679_layer_call_fn, lstm_cell_1679_layer_call_and_return_conditional_losses, lstm_cell_1679_layer_call_and_return_conditional_losses while saving (showing 5 of 5). These functions will not be directly callable after loading.\n"
          ],
          "name": "stderr"
        },
        {
          "output_type": "stream",
          "text": [
            "INFO:tensorflow:Assets written to: saved_model/basic-lstm32meteo/model11\\assets\n"
          ],
          "name": "stdout"
        },
        {
          "output_type": "stream",
          "text": [
            "INFO:tensorflow:Assets written to: saved_model/basic-lstm32meteo/model11\\assets\n",
            "\u001b[32m[I 2021-06-02 23:07:43,365]\u001b[0m Trial 11 finished with value: 8.015823364257812 and parameters: {'weight_decay': 2.7557184442480875e-08, 'n_units_l': 11, 'adam_lr': 0.0058597258279257025}. Best is trial 2 with value: 7.631365776062012.\u001b[0m\n"
          ],
          "name": "stderr"
        },
        {
          "output_type": "stream",
          "text": [
            "RMSE val:  8.015823 6.1197295\n",
            "12\n",
            "(None, 48, 9) (None, 24, 1)\n",
            "(None, 48, 9) (None, 24, 1)\n",
            "Epoch 1/10\n",
            "821/821 [==============================] - 33s 39ms/step - loss: 0.0040 - root_mean_squared_error: 0.0636 - val_loss: 0.0023 - val_root_mean_squared_error: 0.0479\n",
            "Epoch 2/10\n",
            "821/821 [==============================] - 32s 39ms/step - loss: 0.0027 - root_mean_squared_error: 0.0520 - val_loss: 0.0017 - val_root_mean_squared_error: 0.0407\n",
            "Epoch 3/10\n",
            "821/821 [==============================] - 33s 40ms/step - loss: 0.0020 - root_mean_squared_error: 0.0446 - val_loss: 0.0016 - val_root_mean_squared_error: 0.0400\n",
            "Epoch 4/10\n",
            "821/821 [==============================] - 31s 37ms/step - loss: 0.0019 - root_mean_squared_error: 0.0435 - val_loss: 0.0017 - val_root_mean_squared_error: 0.0416\n",
            "Epoch 5/10\n",
            "821/821 [==============================] - 31s 38ms/step - loss: 0.0018 - root_mean_squared_error: 0.0425 - val_loss: 0.0015 - val_root_mean_squared_error: 0.0393\n",
            "Epoch 6/10\n",
            "821/821 [==============================] - 30s 37ms/step - loss: 0.0018 - root_mean_squared_error: 0.0421 - val_loss: 0.0015 - val_root_mean_squared_error: 0.0389\n",
            "Epoch 7/10\n",
            "821/821 [==============================] - 31s 38ms/step - loss: 0.0017 - root_mean_squared_error: 0.0412 - val_loss: 0.0015 - val_root_mean_squared_error: 0.0392\n",
            "Epoch 8/10\n",
            "821/821 [==============================] - 30s 37ms/step - loss: 0.0017 - root_mean_squared_error: 0.0408 - val_loss: 0.0015 - val_root_mean_squared_error: 0.0384\n",
            "Epoch 9/10\n",
            "821/821 [==============================] - 31s 38ms/step - loss: 0.0016 - root_mean_squared_error: 0.0401 - val_loss: 0.0015 - val_root_mean_squared_error: 0.0388\n",
            "Epoch 10/10\n",
            "821/821 [==============================] - 31s 37ms/step - loss: 0.0016 - root_mean_squared_error: 0.0397 - val_loss: 0.0014 - val_root_mean_squared_error: 0.0381\n"
          ],
          "name": "stdout"
        },
        {
          "output_type": "stream",
          "text": [
            "WARNING:absl:Found untraced functions such as lstm_cell_1680_layer_call_and_return_conditional_losses, lstm_cell_1680_layer_call_fn, lstm_cell_1680_layer_call_fn, lstm_cell_1680_layer_call_and_return_conditional_losses, lstm_cell_1680_layer_call_and_return_conditional_losses while saving (showing 5 of 5). These functions will not be directly callable after loading.\n"
          ],
          "name": "stderr"
        },
        {
          "output_type": "stream",
          "text": [
            "INFO:tensorflow:Assets written to: saved_model/basic-lstm32meteo/model12\\assets\n"
          ],
          "name": "stdout"
        },
        {
          "output_type": "stream",
          "text": [
            "INFO:tensorflow:Assets written to: saved_model/basic-lstm32meteo/model12\\assets\n",
            "\u001b[32m[I 2021-06-02 23:13:11,379]\u001b[0m Trial 12 finished with value: 7.614869117736816 and parameters: {'weight_decay': 3.0742851244612493e-10, 'n_units_l': 72, 'adam_lr': 0.0012448945395054317}. Best is trial 12 with value: 7.614869117736816.\u001b[0m\n"
          ],
          "name": "stderr"
        },
        {
          "output_type": "stream",
          "text": [
            "RMSE val:  7.614869 5.3271265\n",
            "13\n",
            "(None, 48, 9) (None, 24, 1)\n",
            "(None, 48, 9) (None, 24, 1)\n",
            "Epoch 1/10\n",
            "821/821 [==============================] - 32s 37ms/step - loss: 0.0034 - root_mean_squared_error: 0.0586 - val_loss: 0.0016 - val_root_mean_squared_error: 0.0396\n",
            "Epoch 2/10\n",
            "821/821 [==============================] - 33s 40ms/step - loss: 0.0020 - root_mean_squared_error: 0.0449 - val_loss: 0.0016 - val_root_mean_squared_error: 0.0396\n",
            "Epoch 3/10\n",
            "821/821 [==============================] - 30s 37ms/step - loss: 0.0019 - root_mean_squared_error: 0.0441 - val_loss: 0.0016 - val_root_mean_squared_error: 0.0396\n",
            "Epoch 4/10\n",
            "821/821 [==============================] - 32s 39ms/step - loss: 0.0019 - root_mean_squared_error: 0.0435 - val_loss: 0.0016 - val_root_mean_squared_error: 0.0405\n",
            "Epoch 5/10\n",
            "821/821 [==============================] - 30s 37ms/step - loss: 0.0018 - root_mean_squared_error: 0.0424 - val_loss: 0.0015 - val_root_mean_squared_error: 0.0390\n",
            "Epoch 6/10\n",
            "821/821 [==============================] - 31s 38ms/step - loss: 0.0018 - root_mean_squared_error: 0.0421 - val_loss: 0.0014 - val_root_mean_squared_error: 0.0376\n",
            "Epoch 7/10\n",
            "821/821 [==============================] - 31s 38ms/step - loss: 0.0017 - root_mean_squared_error: 0.0412 - val_loss: 0.0016 - val_root_mean_squared_error: 0.0396\n",
            "Epoch 8/10\n",
            "821/821 [==============================] - 31s 37ms/step - loss: 0.0016 - root_mean_squared_error: 0.0402 - val_loss: 0.0014 - val_root_mean_squared_error: 0.0379\n"
          ],
          "name": "stdout"
        },
        {
          "output_type": "stream",
          "text": [
            "WARNING:absl:Found untraced functions such as lstm_cell_1681_layer_call_and_return_conditional_losses, lstm_cell_1681_layer_call_fn, lstm_cell_1681_layer_call_fn, lstm_cell_1681_layer_call_and_return_conditional_losses, lstm_cell_1681_layer_call_and_return_conditional_losses while saving (showing 5 of 5). These functions will not be directly callable after loading.\n"
          ],
          "name": "stderr"
        },
        {
          "output_type": "stream",
          "text": [
            "INFO:tensorflow:Assets written to: saved_model/basic-lstm32meteo/model13\\assets\n"
          ],
          "name": "stdout"
        },
        {
          "output_type": "stream",
          "text": [
            "INFO:tensorflow:Assets written to: saved_model/basic-lstm32meteo/model13\\assets\n",
            "\u001b[32m[I 2021-06-02 23:17:35,707]\u001b[0m Trial 13 finished with value: 7.581644058227539 and parameters: {'weight_decay': 1.1456671556198361e-10, 'n_units_l': 69, 'adam_lr': 0.004599415503627671}. Best is trial 13 with value: 7.581644058227539.\u001b[0m\n"
          ],
          "name": "stderr"
        },
        {
          "output_type": "stream",
          "text": [
            "RMSE val:  7.581644 5.4680223\n",
            "14\n",
            "(None, 48, 9) (None, 24, 1)\n",
            "(None, 48, 9) (None, 24, 1)\n",
            "Epoch 1/10\n",
            "821/821 [==============================] - 44s 52ms/step - loss: 0.0066 - root_mean_squared_error: 0.0813 - val_loss: 0.0038 - val_root_mean_squared_error: 0.0613\n",
            "Epoch 2/10\n",
            "821/821 [==============================] - 42s 51ms/step - loss: 0.0056 - root_mean_squared_error: 0.0751 - val_loss: 0.0036 - val_root_mean_squared_error: 0.0602\n",
            "Epoch 3/10\n",
            "821/821 [==============================] - 43s 52ms/step - loss: 0.0053 - root_mean_squared_error: 0.0730 - val_loss: 0.0032 - val_root_mean_squared_error: 0.0570\n",
            "Epoch 4/10\n",
            "821/821 [==============================] - 42s 52ms/step - loss: 0.0043 - root_mean_squared_error: 0.0658 - val_loss: 0.0023 - val_root_mean_squared_error: 0.0477\n",
            "Epoch 5/10\n",
            "821/821 [==============================] - 42s 51ms/step - loss: 0.0032 - root_mean_squared_error: 0.0563 - val_loss: 0.0023 - val_root_mean_squared_error: 0.0479\n",
            "Epoch 6/10\n",
            "821/821 [==============================] - 42s 52ms/step - loss: 0.0031 - root_mean_squared_error: 0.0559 - val_loss: 0.0023 - val_root_mean_squared_error: 0.0475\n",
            "Epoch 7/10\n",
            "821/821 [==============================] - 42s 52ms/step - loss: 0.0027 - root_mean_squared_error: 0.0519 - val_loss: 0.0019 - val_root_mean_squared_error: 0.0431\n",
            "Epoch 8/10\n",
            "821/821 [==============================] - 42s 51ms/step - loss: 0.0024 - root_mean_squared_error: 0.0494 - val_loss: 0.0019 - val_root_mean_squared_error: 0.0432\n",
            "Epoch 9/10\n",
            "821/821 [==============================] - 42s 52ms/step - loss: 0.0024 - root_mean_squared_error: 0.0490 - val_loss: 0.0019 - val_root_mean_squared_error: 0.0430\n",
            "Epoch 10/10\n",
            "821/821 [==============================] - 43s 53ms/step - loss: 0.0020 - root_mean_squared_error: 0.0445 - val_loss: 0.0015 - val_root_mean_squared_error: 0.0387\n"
          ],
          "name": "stdout"
        },
        {
          "output_type": "stream",
          "text": [
            "WARNING:absl:Found untraced functions such as lstm_cell_1682_layer_call_and_return_conditional_losses, lstm_cell_1682_layer_call_fn, lstm_cell_1682_layer_call_fn, lstm_cell_1682_layer_call_and_return_conditional_losses, lstm_cell_1682_layer_call_and_return_conditional_losses while saving (showing 5 of 5). These functions will not be directly callable after loading.\n"
          ],
          "name": "stderr"
        },
        {
          "output_type": "stream",
          "text": [
            "INFO:tensorflow:Assets written to: saved_model/basic-lstm32meteo/model14\\assets\n"
          ],
          "name": "stdout"
        },
        {
          "output_type": "stream",
          "text": [
            "INFO:tensorflow:Assets written to: saved_model/basic-lstm32meteo/model14\\assets\n",
            "\u001b[32m[I 2021-06-02 23:24:56,531]\u001b[0m Trial 14 finished with value: 7.732870578765869 and parameters: {'weight_decay': 1.406601668978721e-10, 'n_units_l': 87, 'adam_lr': 0.0002585328913564504}. Best is trial 13 with value: 7.581644058227539.\u001b[0m\n"
          ],
          "name": "stderr"
        },
        {
          "output_type": "stream",
          "text": [
            "RMSE val:  7.7328706 5.408086\n",
            "15\n",
            "(None, 48, 9) (None, 24, 1)\n",
            "(None, 48, 9) (None, 24, 1)\n",
            "Epoch 1/10\n",
            "821/821 [==============================] - 34s 39ms/step - loss: 0.0042 - root_mean_squared_error: 0.0649 - val_loss: 0.0021 - val_root_mean_squared_error: 0.0459\n",
            "Epoch 2/10\n",
            "821/821 [==============================] - 31s 38ms/step - loss: 0.0022 - root_mean_squared_error: 0.0469 - val_loss: 0.0016 - val_root_mean_squared_error: 0.0399\n",
            "Epoch 3/10\n",
            "821/821 [==============================] - 32s 39ms/step - loss: 0.0020 - root_mean_squared_error: 0.0444 - val_loss: 0.0019 - val_root_mean_squared_error: 0.0435\n",
            "Epoch 4/10\n",
            "821/821 [==============================] - 31s 38ms/step - loss: 0.0020 - root_mean_squared_error: 0.0445 - val_loss: 0.0016 - val_root_mean_squared_error: 0.0405\n"
          ],
          "name": "stdout"
        },
        {
          "output_type": "stream",
          "text": [
            "WARNING:absl:Found untraced functions such as lstm_cell_1683_layer_call_and_return_conditional_losses, lstm_cell_1683_layer_call_fn, lstm_cell_1683_layer_call_fn, lstm_cell_1683_layer_call_and_return_conditional_losses, lstm_cell_1683_layer_call_and_return_conditional_losses while saving (showing 5 of 5). These functions will not be directly callable after loading.\n"
          ],
          "name": "stderr"
        },
        {
          "output_type": "stream",
          "text": [
            "INFO:tensorflow:Assets written to: saved_model/basic-lstm32meteo/model15\\assets\n"
          ],
          "name": "stdout"
        },
        {
          "output_type": "stream",
          "text": [
            "INFO:tensorflow:Assets written to: saved_model/basic-lstm32meteo/model15\\assets\n",
            "\u001b[32m[I 2021-06-02 23:27:17,699]\u001b[0m Trial 15 finished with value: 8.107468605041504 and parameters: {'weight_decay': 2.444645751383393e-10, 'n_units_l': 73, 'adam_lr': 0.01004890651077326}. Best is trial 13 with value: 7.581644058227539.\u001b[0m\n"
          ],
          "name": "stderr"
        },
        {
          "output_type": "stream",
          "text": [
            "RMSE val:  8.107469 5.893777\n",
            "16\n",
            "(None, 48, 9) (None, 24, 1)\n",
            "(None, 48, 9) (None, 24, 1)\n",
            "Epoch 1/10\n",
            "821/821 [==============================] - 38s 44ms/step - loss: 0.0035 - root_mean_squared_error: 0.0595 - val_loss: 0.0018 - val_root_mean_squared_error: 0.0427\n",
            "Epoch 2/10\n",
            "821/821 [==============================] - 36s 44ms/step - loss: 0.0021 - root_mean_squared_error: 0.0455 - val_loss: 0.0016 - val_root_mean_squared_error: 0.0404\n",
            "Epoch 3/10\n",
            "821/821 [==============================] - 36s 44ms/step - loss: 0.0020 - root_mean_squared_error: 0.0443 - val_loss: 0.0015 - val_root_mean_squared_error: 0.0383\n",
            "Epoch 4/10\n",
            "821/821 [==============================] - 36s 44ms/step - loss: 0.0019 - root_mean_squared_error: 0.0437 - val_loss: 0.0017 - val_root_mean_squared_error: 0.0406\n",
            "Epoch 5/10\n",
            "821/821 [==============================] - 35s 43ms/step - loss: 0.0018 - root_mean_squared_error: 0.0428 - val_loss: 0.0017 - val_root_mean_squared_error: 0.0414\n"
          ],
          "name": "stdout"
        },
        {
          "output_type": "stream",
          "text": [
            "WARNING:absl:Found untraced functions such as lstm_cell_1684_layer_call_and_return_conditional_losses, lstm_cell_1684_layer_call_fn, lstm_cell_1684_layer_call_fn, lstm_cell_1684_layer_call_and_return_conditional_losses, lstm_cell_1684_layer_call_and_return_conditional_losses while saving (showing 5 of 5). These functions will not be directly callable after loading.\n"
          ],
          "name": "stderr"
        },
        {
          "output_type": "stream",
          "text": [
            "INFO:tensorflow:Assets written to: saved_model/basic-lstm32meteo/model16\\assets\n"
          ],
          "name": "stdout"
        },
        {
          "output_type": "stream",
          "text": [
            "INFO:tensorflow:Assets written to: saved_model/basic-lstm32meteo/model16\\assets\n",
            "\u001b[32m[I 2021-06-02 23:30:32,037]\u001b[0m Trial 16 finished with value: 8.285017967224121 and parameters: {'weight_decay': 1.000016823547496e-10, 'n_units_l': 78, 'adam_lr': 0.00170888491461495}. Best is trial 13 with value: 7.581644058227539.\u001b[0m\n"
          ],
          "name": "stderr"
        },
        {
          "output_type": "stream",
          "text": [
            "RMSE val:  8.285018 6.2119164\n",
            "17\n",
            "(None, 48, 9) (None, 24, 1)\n",
            "(None, 48, 9) (None, 24, 1)\n",
            "Epoch 1/10\n",
            "821/821 [==============================] - 50s 59ms/step - loss: 0.0039 - root_mean_squared_error: 0.0621 - val_loss: 0.0016 - val_root_mean_squared_error: 0.0402\n",
            "Epoch 2/10\n",
            "821/821 [==============================] - 48s 58ms/step - loss: 0.0022 - root_mean_squared_error: 0.0473 - val_loss: 0.0020 - val_root_mean_squared_error: 0.0449\n",
            "Epoch 3/10\n",
            "821/821 [==============================] - 49s 60ms/step - loss: 0.0023 - root_mean_squared_error: 0.0482 - val_loss: 0.0016 - val_root_mean_squared_error: 0.0400\n",
            "Epoch 4/10\n",
            "821/821 [==============================] - 49s 59ms/step - loss: 0.0021 - root_mean_squared_error: 0.0459 - val_loss: 0.0016 - val_root_mean_squared_error: 0.0403\n",
            "Epoch 5/10\n",
            "821/821 [==============================] - 48s 59ms/step - loss: 0.0020 - root_mean_squared_error: 0.0450 - val_loss: 0.0015 - val_root_mean_squared_error: 0.0386\n",
            "Epoch 6/10\n",
            "821/821 [==============================] - 48s 59ms/step - loss: 0.0020 - root_mean_squared_error: 0.0449 - val_loss: 0.0015 - val_root_mean_squared_error: 0.0389\n",
            "Epoch 7/10\n",
            "821/821 [==============================] - 48s 59ms/step - loss: 0.0020 - root_mean_squared_error: 0.0448 - val_loss: 0.0016 - val_root_mean_squared_error: 0.0395\n"
          ],
          "name": "stdout"
        },
        {
          "output_type": "stream",
          "text": [
            "WARNING:absl:Found untraced functions such as lstm_cell_1685_layer_call_and_return_conditional_losses, lstm_cell_1685_layer_call_fn, lstm_cell_1685_layer_call_fn, lstm_cell_1685_layer_call_and_return_conditional_losses, lstm_cell_1685_layer_call_and_return_conditional_losses while saving (showing 5 of 5). These functions will not be directly callable after loading.\n"
          ],
          "name": "stderr"
        },
        {
          "output_type": "stream",
          "text": [
            "INFO:tensorflow:Assets written to: saved_model/basic-lstm32meteo/model17\\assets\n"
          ],
          "name": "stdout"
        },
        {
          "output_type": "stream",
          "text": [
            "INFO:tensorflow:Assets written to: saved_model/basic-lstm32meteo/model17\\assets\n",
            "\u001b[32m[I 2021-06-02 23:36:29,763]\u001b[0m Trial 17 finished with value: 7.899009704589844 and parameters: {'weight_decay': 5.3120597027795065e-08, 'n_units_l': 100, 'adam_lr': 0.020131749418680987}. Best is trial 13 with value: 7.581644058227539.\u001b[0m\n"
          ],
          "name": "stderr"
        },
        {
          "output_type": "stream",
          "text": [
            "RMSE val:  7.8990097 5.7649093\n",
            "18\n",
            "(None, 48, 9) (None, 24, 1)\n",
            "(None, 48, 9) (None, 24, 1)\n",
            "Epoch 1/10\n",
            "821/821 [==============================] - 15s 16ms/step - loss: 0.0085 - root_mean_squared_error: 0.0925 - val_loss: 0.0046 - val_root_mean_squared_error: 0.0677\n",
            "Epoch 2/10\n",
            "821/821 [==============================] - 12s 15ms/step - loss: 0.0052 - root_mean_squared_error: 0.0718 - val_loss: 0.0030 - val_root_mean_squared_error: 0.0550\n",
            "Epoch 3/10\n",
            "821/821 [==============================] - 13s 15ms/step - loss: 0.0033 - root_mean_squared_error: 0.0576 - val_loss: 0.0021 - val_root_mean_squared_error: 0.0463\n",
            "Epoch 4/10\n",
            "821/821 [==============================] - 13s 16ms/step - loss: 0.0027 - root_mean_squared_error: 0.0521 - val_loss: 0.0020 - val_root_mean_squared_error: 0.0448\n",
            "Epoch 5/10\n",
            "821/821 [==============================] - 14s 17ms/step - loss: 0.0026 - root_mean_squared_error: 0.0508 - val_loss: 0.0020 - val_root_mean_squared_error: 0.0442\n",
            "Epoch 6/10\n",
            "821/821 [==============================] - 14s 16ms/step - loss: 0.0025 - root_mean_squared_error: 0.0501 - val_loss: 0.0019 - val_root_mean_squared_error: 0.0440\n",
            "Epoch 7/10\n",
            "821/821 [==============================] - 13s 15ms/step - loss: 0.0025 - root_mean_squared_error: 0.0497 - val_loss: 0.0019 - val_root_mean_squared_error: 0.0440\n",
            "Epoch 8/10\n",
            "821/821 [==============================] - 13s 15ms/step - loss: 0.0024 - root_mean_squared_error: 0.0494 - val_loss: 0.0019 - val_root_mean_squared_error: 0.0439\n",
            "Epoch 9/10\n",
            "821/821 [==============================] - 14s 17ms/step - loss: 0.0024 - root_mean_squared_error: 0.0491 - val_loss: 0.0019 - val_root_mean_squared_error: 0.0433\n",
            "Epoch 10/10\n",
            "821/821 [==============================] - 14s 17ms/step - loss: 0.0024 - root_mean_squared_error: 0.0489 - val_loss: 0.0019 - val_root_mean_squared_error: 0.0438\n"
          ],
          "name": "stdout"
        },
        {
          "output_type": "stream",
          "text": [
            "WARNING:absl:Found untraced functions such as lstm_cell_1686_layer_call_and_return_conditional_losses, lstm_cell_1686_layer_call_fn, lstm_cell_1686_layer_call_fn, lstm_cell_1686_layer_call_and_return_conditional_losses, lstm_cell_1686_layer_call_and_return_conditional_losses while saving (showing 5 of 5). These functions will not be directly callable after loading.\n"
          ],
          "name": "stderr"
        },
        {
          "output_type": "stream",
          "text": [
            "INFO:tensorflow:Assets written to: saved_model/basic-lstm32meteo/model18\\assets\n"
          ],
          "name": "stdout"
        },
        {
          "output_type": "stream",
          "text": [
            "INFO:tensorflow:Assets written to: saved_model/basic-lstm32meteo/model18\\assets\n",
            "\u001b[32m[I 2021-06-02 23:38:51,330]\u001b[0m Trial 18 finished with value: 8.760516166687012 and parameters: {'weight_decay': 1.8003977681512796e-09, 'n_units_l': 4, 'adam_lr': 0.00023007143938356175}. Best is trial 13 with value: 7.581644058227539.\u001b[0m\n"
          ],
          "name": "stderr"
        },
        {
          "output_type": "stream",
          "text": [
            "RMSE val:  8.760516 6.5252275\n",
            "19\n",
            "(None, 48, 9) (None, 24, 1)\n",
            "(None, 48, 9) (None, 24, 1)\n",
            "Epoch 1/10\n",
            "821/821 [==============================] - 33s 38ms/step - loss: 0.0045 - root_mean_squared_error: 0.0669 - val_loss: 0.0020 - val_root_mean_squared_error: 0.0446\n",
            "Epoch 2/10\n",
            "821/821 [==============================] - 33s 40ms/step - loss: 0.0022 - root_mean_squared_error: 0.0469 - val_loss: 0.0015 - val_root_mean_squared_error: 0.0392\n",
            "Epoch 3/10\n",
            "821/821 [==============================] - 33s 40ms/step - loss: 0.0019 - root_mean_squared_error: 0.0439 - val_loss: 0.0016 - val_root_mean_squared_error: 0.0400\n",
            "Epoch 4/10\n",
            "821/821 [==============================] - 28s 34ms/step - loss: 0.0019 - root_mean_squared_error: 0.0434 - val_loss: 0.0015 - val_root_mean_squared_error: 0.0384\n",
            "Epoch 5/10\n",
            "821/821 [==============================] - 28s 34ms/step - loss: 0.0018 - root_mean_squared_error: 0.0426 - val_loss: 0.0015 - val_root_mean_squared_error: 0.0389\n",
            "Epoch 6/10\n",
            "821/821 [==============================] - 28s 34ms/step - loss: 0.0018 - root_mean_squared_error: 0.0420 - val_loss: 0.0015 - val_root_mean_squared_error: 0.0392\n"
          ],
          "name": "stdout"
        },
        {
          "output_type": "stream",
          "text": [
            "WARNING:absl:Found untraced functions such as lstm_cell_1687_layer_call_and_return_conditional_losses, lstm_cell_1687_layer_call_fn, lstm_cell_1687_layer_call_fn, lstm_cell_1687_layer_call_and_return_conditional_losses, lstm_cell_1687_layer_call_and_return_conditional_losses while saving (showing 5 of 5). These functions will not be directly callable after loading.\n"
          ],
          "name": "stderr"
        },
        {
          "output_type": "stream",
          "text": [
            "INFO:tensorflow:Assets written to: saved_model/basic-lstm32meteo/model19\\assets\n"
          ],
          "name": "stdout"
        },
        {
          "output_type": "stream",
          "text": [
            "INFO:tensorflow:Assets written to: saved_model/basic-lstm32meteo/model19\\assets\n",
            "\u001b[32m[I 2021-06-02 23:42:05,663]\u001b[0m Trial 19 finished with value: 7.842072486877441 and parameters: {'weight_decay': 7.80144259798342e-10, 'n_units_l': 54, 'adam_lr': 0.0023822923935524175}. Best is trial 13 with value: 7.581644058227539.\u001b[0m\n"
          ],
          "name": "stderr"
        },
        {
          "output_type": "stream",
          "text": [
            "RMSE val:  7.8420725 5.8782334\n",
            "20\n",
            "(None, 48, 9) (None, 24, 1)\n",
            "(None, 48, 9) (None, 24, 1)\n",
            "Epoch 1/10\n",
            "821/821 [==============================] - 15s 17ms/step - loss: 0.0058 - root_mean_squared_error: 0.0762 - val_loss: 0.0028 - val_root_mean_squared_error: 0.0526\n",
            "Epoch 2/10\n",
            "821/821 [==============================] - 13s 16ms/step - loss: 0.0037 - root_mean_squared_error: 0.0611 - val_loss: 0.0025 - val_root_mean_squared_error: 0.0504\n",
            "Epoch 3/10\n",
            "821/821 [==============================] - 14s 17ms/step - loss: 0.0036 - root_mean_squared_error: 0.0598 - val_loss: 0.0025 - val_root_mean_squared_error: 0.0499\n",
            "Epoch 4/10\n",
            "821/821 [==============================] - 14s 17ms/step - loss: 0.0035 - root_mean_squared_error: 0.0593 - val_loss: 0.0025 - val_root_mean_squared_error: 0.0495\n",
            "Epoch 5/10\n",
            "821/821 [==============================] - 13s 16ms/step - loss: 0.0035 - root_mean_squared_error: 0.0588 - val_loss: 0.0025 - val_root_mean_squared_error: 0.0495 \n",
            "Epoch 6/10\n",
            "821/821 [==============================] - 14s 17ms/step - loss: 0.0034 - root_mean_squared_error: 0.0585 - val_loss: 0.0024 - val_root_mean_squared_error: 0.0490\n",
            "Epoch 7/10\n",
            "821/821 [==============================] - 13s 16ms/step - loss: 0.0034 - root_mean_squared_error: 0.0581 - val_loss: 0.0025 - val_root_mean_squared_error: 0.0495\n",
            "Epoch 8/10\n",
            "821/821 [==============================] - 14s 17ms/step - loss: 0.0033 - root_mean_squared_error: 0.0579 - val_loss: 0.0024 - val_root_mean_squared_error: 0.0489\n",
            "Epoch 9/10\n",
            "821/821 [==============================] - 15s 18ms/step - loss: 0.0033 - root_mean_squared_error: 0.0576 - val_loss: 0.0024 - val_root_mean_squared_error: 0.0485\n",
            "Epoch 10/10\n",
            "821/821 [==============================] - 14s 17ms/step - loss: 0.0033 - root_mean_squared_error: 0.0573 - val_loss: 0.0024 - val_root_mean_squared_error: 0.0489\n"
          ],
          "name": "stdout"
        },
        {
          "output_type": "stream",
          "text": [
            "WARNING:absl:Found untraced functions such as lstm_cell_1688_layer_call_and_return_conditional_losses, lstm_cell_1688_layer_call_fn, lstm_cell_1688_layer_call_fn, lstm_cell_1688_layer_call_and_return_conditional_losses, lstm_cell_1688_layer_call_and_return_conditional_losses while saving (showing 5 of 5). These functions will not be directly callable after loading.\n"
          ],
          "name": "stderr"
        },
        {
          "output_type": "stream",
          "text": [
            "INFO:tensorflow:Assets written to: saved_model/basic-lstm32meteo/model20\\assets\n"
          ],
          "name": "stdout"
        },
        {
          "output_type": "stream",
          "text": [
            "INFO:tensorflow:Assets written to: saved_model/basic-lstm32meteo/model20\\assets\n",
            "\u001b[32m[I 2021-06-02 23:44:33,453]\u001b[0m Trial 20 finished with value: 9.771097183227539 and parameters: {'weight_decay': 8.009197371203212e-09, 'n_units_l': 17, 'adam_lr': 0.000414718831267953}. Best is trial 13 with value: 7.581644058227539.\u001b[0m\n"
          ],
          "name": "stderr"
        },
        {
          "output_type": "stream",
          "text": [
            "RMSE val:  9.771097 6.9701896\n",
            "21\n",
            "(None, 48, 9) (None, 24, 1)\n",
            "(None, 48, 9) (None, 24, 1)\n",
            "Epoch 1/10\n",
            "821/821 [==============================] - 29s 34ms/step - loss: 0.0046 - root_mean_squared_error: 0.0679 - val_loss: 0.0023 - val_root_mean_squared_error: 0.0483\n",
            "Epoch 2/10\n",
            "821/821 [==============================] - 28s 34ms/step - loss: 0.0021 - root_mean_squared_error: 0.0459 - val_loss: 0.0016 - val_root_mean_squared_error: 0.0397\n",
            "Epoch 3/10\n",
            "821/821 [==============================] - 28s 34ms/step - loss: 0.0019 - root_mean_squared_error: 0.0441 - val_loss: 0.0015 - val_root_mean_squared_error: 0.0387\n",
            "Epoch 4/10\n",
            "821/821 [==============================] - 27s 33ms/step - loss: 0.0019 - root_mean_squared_error: 0.0432 - val_loss: 0.0015 - val_root_mean_squared_error: 0.0391\n",
            "Epoch 5/10\n",
            "821/821 [==============================] - 27s 33ms/step - loss: 0.0018 - root_mean_squared_error: 0.0426 - val_loss: 0.0015 - val_root_mean_squared_error: 0.0389\n"
          ],
          "name": "stdout"
        },
        {
          "output_type": "stream",
          "text": [
            "WARNING:absl:Found untraced functions such as lstm_cell_1689_layer_call_and_return_conditional_losses, lstm_cell_1689_layer_call_fn, lstm_cell_1689_layer_call_fn, lstm_cell_1689_layer_call_and_return_conditional_losses, lstm_cell_1689_layer_call_and_return_conditional_losses while saving (showing 5 of 5). These functions will not be directly callable after loading.\n"
          ],
          "name": "stderr"
        },
        {
          "output_type": "stream",
          "text": [
            "INFO:tensorflow:Assets written to: saved_model/basic-lstm32meteo/model21\\assets\n"
          ],
          "name": "stdout"
        },
        {
          "output_type": "stream",
          "text": [
            "INFO:tensorflow:Assets written to: saved_model/basic-lstm32meteo/model21\\assets\n",
            "\u001b[32m[I 2021-06-02 23:47:05,902]\u001b[0m Trial 21 finished with value: 7.78419303894043 and parameters: {'weight_decay': 1.0840745752868582e-10, 'n_units_l': 54, 'adam_lr': 0.005243597671463983}. Best is trial 13 with value: 7.581644058227539.\u001b[0m\n"
          ],
          "name": "stderr"
        },
        {
          "output_type": "stream",
          "text": [
            "RMSE val:  7.784193 5.7350774\n",
            "22\n",
            "(None, 48, 9) (None, 24, 1)\n",
            "(None, 48, 9) (None, 24, 1)\n",
            "Epoch 1/10\n",
            "821/821 [==============================] - 23s 26ms/step - loss: 0.0040 - root_mean_squared_error: 0.0630 - val_loss: 0.0018 - val_root_mean_squared_error: 0.0426\n",
            "Epoch 2/10\n",
            "821/821 [==============================] - 21s 26ms/step - loss: 0.0020 - root_mean_squared_error: 0.0448 - val_loss: 0.0015 - val_root_mean_squared_error: 0.0388\n",
            "Epoch 3/10\n",
            "821/821 [==============================] - 21s 26ms/step - loss: 0.0019 - root_mean_squared_error: 0.0439 - val_loss: 0.0015 - val_root_mean_squared_error: 0.0390\n",
            "Epoch 4/10\n",
            "821/821 [==============================] - 22s 26ms/step - loss: 0.0019 - root_mean_squared_error: 0.0433 - val_loss: 0.0015 - val_root_mean_squared_error: 0.0383\n",
            "Epoch 5/10\n",
            "821/821 [==============================] - 21s 26ms/step - loss: 0.0018 - root_mean_squared_error: 0.0424 - val_loss: 0.0017 - val_root_mean_squared_error: 0.0408\n",
            "Epoch 6/10\n",
            "821/821 [==============================] - 23s 28ms/step - loss: 0.0018 - root_mean_squared_error: 0.0420 - val_loss: 0.0015 - val_root_mean_squared_error: 0.0384\n"
          ],
          "name": "stdout"
        },
        {
          "output_type": "stream",
          "text": [
            "WARNING:absl:Found untraced functions such as lstm_cell_1690_layer_call_and_return_conditional_losses, lstm_cell_1690_layer_call_fn, lstm_cell_1690_layer_call_fn, lstm_cell_1690_layer_call_and_return_conditional_losses, lstm_cell_1690_layer_call_and_return_conditional_losses while saving (showing 5 of 5). These functions will not be directly callable after loading.\n"
          ],
          "name": "stderr"
        },
        {
          "output_type": "stream",
          "text": [
            "INFO:tensorflow:Assets written to: saved_model/basic-lstm32meteo/model22\\assets\n"
          ],
          "name": "stdout"
        },
        {
          "output_type": "stream",
          "text": [
            "INFO:tensorflow:Assets written to: saved_model/basic-lstm32meteo/model22\\assets\n",
            "\u001b[32m[I 2021-06-02 23:49:27,904]\u001b[0m Trial 22 finished with value: 7.677739143371582 and parameters: {'weight_decay': 1.0564166193381354e-09, 'n_units_l': 41, 'adam_lr': 0.0031392127289465114}. Best is trial 13 with value: 7.581644058227539.\u001b[0m\n"
          ],
          "name": "stderr"
        },
        {
          "output_type": "stream",
          "text": [
            "RMSE val:  7.677739 5.4911733\n",
            "23\n",
            "(None, 48, 9) (None, 24, 1)\n",
            "(None, 48, 9) (None, 24, 1)\n",
            "Epoch 1/10\n",
            "821/821 [==============================] - 32s 37ms/step - loss: 0.0082 - root_mean_squared_error: 0.0907 - val_loss: 0.0026 - val_root_mean_squared_error: 0.0509\n",
            "Epoch 2/10\n",
            "821/821 [==============================] - 30s 37ms/step - loss: 0.0038 - root_mean_squared_error: 0.0616 - val_loss: 0.0025 - val_root_mean_squared_error: 0.0504\n",
            "Epoch 3/10\n",
            "821/821 [==============================] - 30s 36ms/step - loss: 0.0037 - root_mean_squared_error: 0.0611 - val_loss: 0.0023 - val_root_mean_squared_error: 0.0484\n",
            "Epoch 4/10\n",
            "821/821 [==============================] - 31s 38ms/step - loss: 0.0032 - root_mean_squared_error: 0.0564 - val_loss: 0.0022 - val_root_mean_squared_error: 0.0467\n",
            "Epoch 5/10\n",
            "821/821 [==============================] - 31s 38ms/step - loss: 0.0031 - root_mean_squared_error: 0.0556 - val_loss: 0.0021 - val_root_mean_squared_error: 0.0461\n",
            "Epoch 6/10\n",
            "821/821 [==============================] - 31s 37ms/step - loss: 0.0030 - root_mean_squared_error: 0.0549 - val_loss: 0.0021 - val_root_mean_squared_error: 0.0456\n",
            "Epoch 7/10\n",
            "821/821 [==============================] - 33s 40ms/step - loss: 0.0029 - root_mean_squared_error: 0.0542 - val_loss: 0.0023 - val_root_mean_squared_error: 0.0479\n",
            "Epoch 8/10\n",
            "821/821 [==============================] - 34s 42ms/step - loss: 0.0029 - root_mean_squared_error: 0.0537 - val_loss: 0.0021 - val_root_mean_squared_error: 0.0460\n"
          ],
          "name": "stdout"
        },
        {
          "output_type": "stream",
          "text": [
            "WARNING:absl:Found untraced functions such as lstm_cell_1691_layer_call_and_return_conditional_losses, lstm_cell_1691_layer_call_fn, lstm_cell_1691_layer_call_fn, lstm_cell_1691_layer_call_and_return_conditional_losses, lstm_cell_1691_layer_call_and_return_conditional_losses while saving (showing 5 of 5). These functions will not be directly callable after loading.\n"
          ],
          "name": "stderr"
        },
        {
          "output_type": "stream",
          "text": [
            "INFO:tensorflow:Assets written to: saved_model/basic-lstm32meteo/model23\\assets\n"
          ],
          "name": "stdout"
        },
        {
          "output_type": "stream",
          "text": [
            "INFO:tensorflow:Assets written to: saved_model/basic-lstm32meteo/model23\\assets\n",
            "\u001b[32m[I 2021-06-02 23:53:54,505]\u001b[0m Trial 23 finished with value: 9.205652236938477 and parameters: {'weight_decay': 7.934837240591869e-08, 'n_units_l': 69, 'adam_lr': 0.013270042248967369}. Best is trial 13 with value: 7.581644058227539.\u001b[0m\n"
          ],
          "name": "stderr"
        },
        {
          "output_type": "stream",
          "text": [
            "RMSE val:  9.205652 6.416027\n",
            "24\n",
            "(None, 48, 9) (None, 24, 1)\n",
            "(None, 48, 9) (None, 24, 1)\n",
            "Epoch 1/10\n",
            "821/821 [==============================] - 73s 87ms/step - loss: 0.0043 - root_mean_squared_error: 0.0655 - val_loss: 0.0019 - val_root_mean_squared_error: 0.0435\n",
            "Epoch 2/10\n",
            "821/821 [==============================] - 70s 85ms/step - loss: 0.0026 - root_mean_squared_error: 0.0506 - val_loss: 0.0019 - val_root_mean_squared_error: 0.0432\n",
            "Epoch 3/10\n",
            "821/821 [==============================] - 70s 86ms/step - loss: 0.0025 - root_mean_squared_error: 0.0502 - val_loss: 0.0019 - val_root_mean_squared_error: 0.0441\n",
            "Epoch 4/10\n",
            "821/821 [==============================] - 70s 86ms/step - loss: 0.0025 - root_mean_squared_error: 0.0496 - val_loss: 0.0018 - val_root_mean_squared_error: 0.0422\n",
            "Epoch 5/10\n",
            "821/821 [==============================] - 70s 86ms/step - loss: 0.0024 - root_mean_squared_error: 0.0489 - val_loss: 0.0018 - val_root_mean_squared_error: 0.0426\n",
            "Epoch 6/10\n",
            "821/821 [==============================] - 70s 85ms/step - loss: 0.0023 - root_mean_squared_error: 0.0483 - val_loss: 0.0018 - val_root_mean_squared_error: 0.0419\n",
            "Epoch 7/10\n",
            "821/821 [==============================] - 70s 85ms/step - loss: 0.0023 - root_mean_squared_error: 0.0476 - val_loss: 0.0017 - val_root_mean_squared_error: 0.0413\n",
            "Epoch 8/10\n",
            "821/821 [==============================] - 71s 86ms/step - loss: 0.0022 - root_mean_squared_error: 0.0468 - val_loss: 0.0018 - val_root_mean_squared_error: 0.0424\n",
            "Epoch 9/10\n",
            "821/821 [==============================] - 70s 86ms/step - loss: 0.0021 - root_mean_squared_error: 0.0460 - val_loss: 0.0018 - val_root_mean_squared_error: 0.0421\n"
          ],
          "name": "stdout"
        },
        {
          "output_type": "stream",
          "text": [
            "WARNING:absl:Found untraced functions such as lstm_cell_1692_layer_call_and_return_conditional_losses, lstm_cell_1692_layer_call_fn, lstm_cell_1692_layer_call_fn, lstm_cell_1692_layer_call_and_return_conditional_losses, lstm_cell_1692_layer_call_and_return_conditional_losses while saving (showing 5 of 5). These functions will not be directly callable after loading.\n"
          ],
          "name": "stderr"
        },
        {
          "output_type": "stream",
          "text": [
            "INFO:tensorflow:Assets written to: saved_model/basic-lstm32meteo/model24\\assets\n"
          ],
          "name": "stdout"
        },
        {
          "output_type": "stream",
          "text": [
            "INFO:tensorflow:Assets written to: saved_model/basic-lstm32meteo/model24\\assets\n",
            "\u001b[32m[I 2021-06-03 00:04:48,081]\u001b[0m Trial 24 finished with value: 8.411666870117188 and parameters: {'weight_decay': 5.822422792103022e-09, 'n_units_l': 121, 'adam_lr': 0.004298348107815367}. Best is trial 13 with value: 7.581644058227539.\u001b[0m\n"
          ],
          "name": "stderr"
        },
        {
          "output_type": "stream",
          "text": [
            "RMSE val:  8.411667 5.834144\n",
            "Number of finished trials:  25\n",
            "Best trial:\n",
            "  Value:  7.581644058227539\n",
            "  Params: \n",
            "    weight_decay: 1.1456671556198361e-10\n",
            "    n_units_l: 69\n",
            "    adam_lr: 0.004599415503627671\n",
            "model:  basic-lstm ; batch size:  32 ; data:  meteo\n"
          ],
          "name": "stdout"
        }
      ]
    },
    {
      "cell_type": "markdown",
      "metadata": {
        "id": "kWRumfH0JgsS"
      },
      "source": [
        "### optuna cnn-lstm"
      ]
    },
    {
      "cell_type": "code",
      "metadata": {
        "colab": {
          "base_uri": "https://localhost:8080/"
        },
        "id": "Eh3G5vyvYLcM",
        "scrolled": true,
        "outputId": "a327b52d-a38b-4c31-b02f-20ccbca191e8"
      },
      "source": [
        "model = 'cnn-lstm'\n",
        "fold = 'saved_model/' + model + str(BATCH_SIZE) + zakres\n",
        "os.mkdir(fold)\n",
        "\n",
        "def create_model(trial):\n",
        "    # We optimize the numbers of layers, their units and weight decay parameter.\n",
        "\n",
        "    weight_decay = trial.suggest_float(\"weight_decay\", 1e-10, 1e-3, log=True)\n",
        "    num_hidden = trial.suggest_int(\"n_units_l\", 4, 128, log=True)\n",
        "    num_kernel = trial.suggest_int(\"n_kernel\", 2, 6)\n",
        "    #dropout1 = trial.suggest_float(\"dropout_l{}\".format(1), 0.21, 1)\n",
        "    dropout2 = trial.suggest_float(\"dropout_l{}\".format(2), 0.20, 0.75)\n",
        "\n",
        "    model = Sequential()\n",
        "\n",
        "    model.add(Conv1D(num_features, activation='relu', kernel_size=(num_kernel),padding='same')),\n",
        "    model.add(MaxPool1D(pool_size=2, strides=None, padding='valid')),\n",
        "    #model.add(Dropout(dropout1)),\n",
        "    model.add(LSTM(num_hidden, return_sequences=False)),\n",
        "    model.add(Dropout(dropout2)),\n",
        "    model.add(Dense(OUT_STEPS, activation='relu', kernel_regularizer=tf.keras.regularizers.l2(weight_decay))),\n",
        "    model.add(Reshape([OUT_STEPS, 1]))\n",
        "\n",
        "    return model\n",
        "\n",
        "def create_optimizer(trial):\n",
        "    # We optimize the choice of optimizers as well as their parameters.\n",
        "    \n",
        "    adam_lr = trial.suggest_float(\"adam_lr\", 1e-5, 1e-1, log=True)\n",
        "    return tf.keras.optimizers.Adam(learning_rate=adam_lr)\n",
        "\n",
        "\n",
        "def objective(trial):\n",
        "    \n",
        "    model = create_model(trial)\n",
        "    optimizer = create_optimizer(trial)\n",
        "\n",
        "    model.compile(loss=tf.losses.MeanSquaredError(),\n",
        "          optimizer=optimizer,\n",
        "          metrics=[tf.metrics.RootMeanSquaredError()])\n",
        " \n",
        "    early_stopping = tf.keras.callbacks.EarlyStopping(monitor='val_loss',\n",
        "                                              patience=patience, mode='min')\n",
        "\n",
        "    history = model.fit(multi_window.train, epochs=MAX_EPOCHS,\n",
        "                    validation_data=multi_window.val,\n",
        "                    callbacks=[early_stopping])\n",
        "\n",
        "    model.save('{}/model{}'.format(fold,trial.number))\n",
        "    results = metrics(model)\n",
        "    wyniki.append(results)\n",
        "\n",
        "    return results[1]\n",
        "\n",
        "\n",
        "if __name__ == \"__main__\":\n",
        "    sampler = TPESampler(seed=2021)\n",
        "    wyniki = []\n",
        "    study = optuna.create_study(direction=\"minimize\",sampler=sampler)\n",
        "    study.optimize(objective, n_trials=25) \n",
        "\n",
        "    print(\"Number of finished trials: \", len(study.trials))\n",
        "\n",
        "    print(\"Best trial:\")\n",
        "    trial = study.best_trial\n",
        "\n",
        "    print(\"  Value: \", trial.value)\n",
        "\n",
        "    print(\"  Params: \")\n",
        "    for key, value in trial.params.items():\n",
        "        print(\"    {}: {}\".format(key, value))\n",
        "        \n",
        "    print(\"model: \", model, \"; batch size: \", BATCH_SIZE , \"; data: \", zakres  )\n",
        "    \n",
        "    \n",
        "file = open(\"trials_3{}_{}_{}.txt\".format(model,BATCH_SIZE, zakres),\"w\")\n",
        "file.write(\"study trials: \\n\")\n",
        "file.writelines(str(study.trials))\n",
        "file.write(\"\\nBATCH_SIZE:\" + str(BATCH_SIZE))\n",
        "file.write(\"\\nDATA:\" + str(do_modelu))\n",
        "file.write(\"\\nbest trial: \\n\")\n",
        "file.writelines(str(study.best_trial))\n",
        "file.close()\n",
        "\n",
        "df_wyniki=pd.DataFrame()\n",
        "df_wyniki['RMSE_train'] = [item[0] for item in wyniki]\n",
        "df_wyniki['RMSE_val'] = [item[1] for item in wyniki]\n",
        "df_wyniki['RMSE_test'] = [item[2] for item in wyniki]\n",
        "df_wyniki['MAE_train'] = [item[3] for item in wyniki]\n",
        "df_wyniki['MAE_val'] = [item[4] for item in wyniki]\n",
        "df_wyniki['MAE_test'] = [item[5] for item in wyniki]\n",
        "df_wyniki.to_csv('wyniki_3{}_batch{}_{}.csv'.format(model, BATCH_SIZE,zakres))  \n",
        "\n",
        "for mod in os.listdir(fold):\n",
        "    if int(mod[5:]) == trial.number:\n",
        "        os.rename(fold + \"/\" + mod, fold + \"/best_\" + mod)"
      ],
      "execution_count": null,
      "outputs": [
        {
          "output_type": "stream",
          "text": [
            "\u001b[32m[I 2021-06-03 00:04:48,194]\u001b[0m A new study created in memory with name: no-name-c9011ec1-5dfd-4676-943b-1f18d4cfc4fa\u001b[0m\n"
          ],
          "name": "stderr"
        },
        {
          "output_type": "stream",
          "text": [
            "(None, 48, 9) (None, 24, 1)\n",
            "(None, 48, 9) (None, 24, 1)\n",
            "Epoch 1/10\n",
            "821/821 [==============================] - 19s 21ms/step - loss: 0.0185 - root_mean_squared_error: 0.1348 - val_loss: 0.0098 - val_root_mean_squared_error: 0.0979\n",
            "Epoch 2/10\n",
            "821/821 [==============================] - 18s 21ms/step - loss: 0.0160 - root_mean_squared_error: 0.1259 - val_loss: 0.0097 - val_root_mean_squared_error: 0.0979\n",
            "Epoch 3/10\n",
            "821/821 [==============================] - 17s 20ms/step - loss: 0.0159 - root_mean_squared_error: 0.1259 - val_loss: 0.0096 - val_root_mean_squared_error: 0.0979\n",
            "Epoch 4/10\n",
            "821/821 [==============================] - 17s 20ms/step - loss: 0.0159 - root_mean_squared_error: 0.1259 - val_loss: 0.0096 - val_root_mean_squared_error: 0.0979\n",
            "Epoch 5/10\n",
            "821/821 [==============================] - 17s 20ms/step - loss: 0.0159 - root_mean_squared_error: 0.1259 - val_loss: 0.0096 - val_root_mean_squared_error: 0.0979\n",
            "Epoch 6/10\n",
            "821/821 [==============================] - 17s 21ms/step - loss: 0.0159 - root_mean_squared_error: 0.1259 - val_loss: 0.0096 - val_root_mean_squared_error: 0.0979\n",
            "Epoch 7/10\n",
            "821/821 [==============================] - 16s 20ms/step - loss: 0.0159 - root_mean_squared_error: 0.1259 - val_loss: 0.0096 - val_root_mean_squared_error: 0.0979\n",
            "Epoch 8/10\n",
            "821/821 [==============================] - 17s 20ms/step - loss: 0.0159 - root_mean_squared_error: 0.1259 - val_loss: 0.0096 - val_root_mean_squared_error: 0.0979\n",
            "Epoch 9/10\n",
            "821/821 [==============================] - 17s 20ms/step - loss: 0.0159 - root_mean_squared_error: 0.1259 - val_loss: 0.0096 - val_root_mean_squared_error: 0.0979\n",
            "Epoch 10/10\n",
            "821/821 [==============================] - 18s 22ms/step - loss: 0.0159 - root_mean_squared_error: 0.1259 - val_loss: 0.0096 - val_root_mean_squared_error: 0.0979\n"
          ],
          "name": "stdout"
        },
        {
          "output_type": "stream",
          "text": [
            "WARNING:absl:Found untraced functions such as lstm_cell_1693_layer_call_and_return_conditional_losses, lstm_cell_1693_layer_call_fn, lstm_cell_1693_layer_call_fn, lstm_cell_1693_layer_call_and_return_conditional_losses, lstm_cell_1693_layer_call_and_return_conditional_losses while saving (showing 5 of 5). These functions will not be directly callable after loading.\n"
          ],
          "name": "stderr"
        },
        {
          "output_type": "stream",
          "text": [
            "INFO:tensorflow:Assets written to: saved_model/cnn-lstm32meteo/model0\\assets\n"
          ],
          "name": "stdout"
        },
        {
          "output_type": "stream",
          "text": [
            "INFO:tensorflow:Assets written to: saved_model/cnn-lstm32meteo/model0\\assets\n",
            "\u001b[32m[I 2021-06-03 00:07:49,678]\u001b[0m Trial 0 finished with value: 19.589365005493164 and parameters: {'weight_decay': 1.7452110401305704e-06, 'n_units_l': 49, 'n_kernel': 2, 'dropout_l2': 0.37197019612007787, 'adam_lr': 0.09749293061113862}. Best is trial 0 with value: 19.589365005493164.\u001b[0m\n"
          ],
          "name": "stderr"
        },
        {
          "output_type": "stream",
          "text": [
            "RMSE val:  19.589365 15.989601\n",
            "(None, 48, 9) (None, 24, 1)\n",
            "(None, 48, 9) (None, 24, 1)\n",
            "Epoch 1/10\n",
            "821/821 [==============================] - 12s 13ms/step - loss: 0.0038 - root_mean_squared_error: 0.0620 - val_loss: 0.0022 - val_root_mean_squared_error: 0.0470\n",
            "Epoch 2/10\n",
            "821/821 [==============================] - 10s 13ms/step - loss: 0.0030 - root_mean_squared_error: 0.0550 - val_loss: 0.0021 - val_root_mean_squared_error: 0.0456\n",
            "Epoch 3/10\n",
            "821/821 [==============================] - 10s 12ms/step - loss: 0.0030 - root_mean_squared_error: 0.0549 - val_loss: 0.0020 - val_root_mean_squared_error: 0.0448\n",
            "Epoch 4/10\n",
            "821/821 [==============================] - 12s 15ms/step - loss: 0.0029 - root_mean_squared_error: 0.0541 - val_loss: 0.0020 - val_root_mean_squared_error: 0.0443\n",
            "Epoch 5/10\n",
            "821/821 [==============================] - 10s 12ms/step - loss: 0.0030 - root_mean_squared_error: 0.0545 - val_loss: 0.0020 - val_root_mean_squared_error: 0.0443\n",
            "Epoch 6/10\n",
            "821/821 [==============================] - 10s 12ms/step - loss: 0.0029 - root_mean_squared_error: 0.0537 - val_loss: 0.0021 - val_root_mean_squared_error: 0.0455\n",
            "Epoch 7/10\n",
            "821/821 [==============================] - 11s 14ms/step - loss: 0.0029 - root_mean_squared_error: 0.0536 - val_loss: 0.0023 - val_root_mean_squared_error: 0.0483\n"
          ],
          "name": "stdout"
        },
        {
          "output_type": "stream",
          "text": [
            "WARNING:absl:Found untraced functions such as lstm_cell_1694_layer_call_and_return_conditional_losses, lstm_cell_1694_layer_call_fn, lstm_cell_1694_layer_call_fn, lstm_cell_1694_layer_call_and_return_conditional_losses, lstm_cell_1694_layer_call_and_return_conditional_losses while saving (showing 5 of 5). These functions will not be directly callable after loading.\n"
          ],
          "name": "stderr"
        },
        {
          "output_type": "stream",
          "text": [
            "INFO:tensorflow:Assets written to: saved_model/cnn-lstm32meteo/model1\\assets\n"
          ],
          "name": "stdout"
        },
        {
          "output_type": "stream",
          "text": [
            "INFO:tensorflow:Assets written to: saved_model/cnn-lstm32meteo/model1\\assets\n",
            "\u001b[32m[I 2021-06-03 00:09:14,816]\u001b[0m Trial 1 finished with value: 9.663442611694336 and parameters: {'weight_decay': 7.891083300344531e-10, 'n_units_l': 7, 'n_kernel': 5, 'dropout_l2': 0.5641882828702438, 'adam_lr': 0.013716412221654385}. Best is trial 1 with value: 9.663442611694336.\u001b[0m\n"
          ],
          "name": "stderr"
        },
        {
          "output_type": "stream",
          "text": [
            "RMSE val:  9.663443 7.936947\n",
            "(None, 48, 9) (None, 24, 1)\n",
            "(None, 48, 9) (None, 24, 1)\n",
            "Epoch 1/10\n",
            "821/821 [==============================] - 12s 13ms/step - loss: 0.0134 - root_mean_squared_error: 0.1159 - val_loss: 0.0062 - val_root_mean_squared_error: 0.0788\n",
            "Epoch 2/10\n",
            "821/821 [==============================] - 10s 12ms/step - loss: 0.0104 - root_mean_squared_error: 0.1020 - val_loss: 0.0050 - val_root_mean_squared_error: 0.0707\n",
            "Epoch 3/10\n",
            "821/821 [==============================] - 10s 12ms/step - loss: 0.0089 - root_mean_squared_error: 0.0941 - val_loss: 0.0042 - val_root_mean_squared_error: 0.06450089 - root_mean_squared_error\n",
            "Epoch 4/10\n",
            "821/821 [==============================] - 10s 12ms/step - loss: 0.0073 - root_mean_squared_error: 0.0857 - val_loss: 0.0034 - val_root_mean_squared_error: 0.0580\n",
            "Epoch 5/10\n",
            "821/821 [==============================] - 10s 13ms/step - loss: 0.0062 - root_mean_squared_error: 0.0787 - val_loss: 0.0031 - val_root_mean_squared_error: 0.0557\n",
            "Epoch 6/10\n",
            "821/821 [==============================] - 10s 13ms/step - loss: 0.0055 - root_mean_squared_error: 0.0743 - val_loss: 0.0031 - val_root_mean_squared_error: 0.0555\n",
            "Epoch 7/10\n",
            "821/821 [==============================] - 10s 12ms/step - loss: 0.0052 - root_mean_squared_error: 0.0718 - val_loss: 0.0031 - val_root_mean_squared_error: 0.0560\n",
            "Epoch 8/10\n",
            "821/821 [==============================] - 10s 12ms/step - loss: 0.0049 - root_mean_squared_error: 0.0703 - val_loss: 0.0031 - val_root_mean_squared_error: 0.0561\n"
          ],
          "name": "stdout"
        },
        {
          "output_type": "stream",
          "text": [
            "WARNING:absl:Found untraced functions such as lstm_cell_1695_layer_call_and_return_conditional_losses, lstm_cell_1695_layer_call_fn, lstm_cell_1695_layer_call_fn, lstm_cell_1695_layer_call_and_return_conditional_losses, lstm_cell_1695_layer_call_and_return_conditional_losses while saving (showing 5 of 5). These functions will not be directly callable after loading.\n"
          ],
          "name": "stderr"
        },
        {
          "output_type": "stream",
          "text": [
            "INFO:tensorflow:Assets written to: saved_model/cnn-lstm32meteo/model2\\assets\n"
          ],
          "name": "stdout"
        },
        {
          "output_type": "stream",
          "text": [
            "INFO:tensorflow:Assets written to: saved_model/cnn-lstm32meteo/model2\\assets\n",
            "\u001b[32m[I 2021-06-03 00:10:46,158]\u001b[0m Trial 2 finished with value: 11.214920043945312 and parameters: {'weight_decay': 4.767171449840025e-10, 'n_units_l': 4, 'n_kernel': 6, 'dropout_l2': 0.5391065941420158, 'adam_lr': 2.2208531625461777e-05}. Best is trial 1 with value: 9.663442611694336.\u001b[0m\n"
          ],
          "name": "stderr"
        },
        {
          "output_type": "stream",
          "text": [
            "RMSE val:  11.21492 8.995235\n",
            "(None, 48, 9) (None, 24, 1)\n",
            "(None, 48, 9) (None, 24, 1)\n",
            "Epoch 1/10\n",
            "821/821 [==============================] - 15s 16ms/step - loss: 0.0056 - root_mean_squared_error: 0.0748 - val_loss: 0.0020 - val_root_mean_squared_error: 0.0441\n",
            "Epoch 2/10\n",
            "821/821 [==============================] - 13s 15ms/step - loss: 0.0030 - root_mean_squared_error: 0.0547 - val_loss: 0.0019 - val_root_mean_squared_error: 0.0432\n",
            "Epoch 3/10\n",
            "821/821 [==============================] - 13s 16ms/step - loss: 0.0028 - root_mean_squared_error: 0.0528 - val_loss: 0.0019 - val_root_mean_squared_error: 0.0429\n",
            "Epoch 4/10\n",
            "821/821 [==============================] - 13s 16ms/step - loss: 0.0027 - root_mean_squared_error: 0.0516 - val_loss: 0.0019 - val_root_mean_squared_error: 0.0438\n",
            "Epoch 5/10\n",
            "821/821 [==============================] - 13s 15ms/step - loss: 0.0026 - root_mean_squared_error: 0.0505 - val_loss: 0.0020 - val_root_mean_squared_error: 0.0444\n"
          ],
          "name": "stdout"
        },
        {
          "output_type": "stream",
          "text": [
            "WARNING:absl:Found untraced functions such as lstm_cell_1696_layer_call_and_return_conditional_losses, lstm_cell_1696_layer_call_fn, lstm_cell_1696_layer_call_fn, lstm_cell_1696_layer_call_and_return_conditional_losses, lstm_cell_1696_layer_call_and_return_conditional_losses while saving (showing 5 of 5). These functions will not be directly callable after loading.\n"
          ],
          "name": "stderr"
        },
        {
          "output_type": "stream",
          "text": [
            "INFO:tensorflow:Assets written to: saved_model/cnn-lstm32meteo/model3\\assets\n"
          ],
          "name": "stdout"
        },
        {
          "output_type": "stream",
          "text": [
            "INFO:tensorflow:Assets written to: saved_model/cnn-lstm32meteo/model3\\assets\n",
            "\u001b[32m[I 2021-06-03 00:12:00,783]\u001b[0m Trial 3 finished with value: 8.88007926940918 and parameters: {'weight_decay': 8.489977465125874e-07, 'n_units_l': 32, 'n_kernel': 6, 'dropout_l2': 0.5158673619500689, 'adam_lr': 0.00030524136896086646}. Best is trial 3 with value: 8.88007926940918.\u001b[0m\n"
          ],
          "name": "stderr"
        },
        {
          "output_type": "stream",
          "text": [
            "RMSE val:  8.880079 6.8444524\n",
            "(None, 48, 9) (None, 24, 1)\n",
            "(None, 48, 9) (None, 24, 1)\n",
            "Epoch 1/10\n",
            "821/821 [==============================] - 12s 12ms/step - loss: 0.0035 - root_mean_squared_error: 0.0591 - val_loss: 0.0020 - val_root_mean_squared_error: 0.0444\n",
            "Epoch 2/10\n",
            "821/821 [==============================] - 10s 12ms/step - loss: 0.0026 - root_mean_squared_error: 0.0506 - val_loss: 0.0018 - val_root_mean_squared_error: 0.0422\n",
            "Epoch 3/10\n",
            "821/821 [==============================] - 10s 13ms/step - loss: 0.0025 - root_mean_squared_error: 0.0497 - val_loss: 0.0018 - val_root_mean_squared_error: 0.0422\n",
            "Epoch 4/10\n",
            "821/821 [==============================] - 10s 12ms/step - loss: 0.0024 - root_mean_squared_error: 0.0493 - val_loss: 0.0017 - val_root_mean_squared_error: 0.0412\n",
            "Epoch 5/10\n",
            "821/821 [==============================] - 10s 12ms/step - loss: 0.0024 - root_mean_squared_error: 0.0487 - val_loss: 0.0017 - val_root_mean_squared_error: 0.0413\n",
            "Epoch 6/10\n",
            "821/821 [==============================] - 10s 12ms/step - loss: 0.0024 - root_mean_squared_error: 0.0486 - val_loss: 0.0017 - val_root_mean_squared_error: 0.0415\n"
          ],
          "name": "stdout"
        },
        {
          "output_type": "stream",
          "text": [
            "WARNING:absl:Found untraced functions such as lstm_cell_1697_layer_call_and_return_conditional_losses, lstm_cell_1697_layer_call_fn, lstm_cell_1697_layer_call_fn, lstm_cell_1697_layer_call_and_return_conditional_losses, lstm_cell_1697_layer_call_and_return_conditional_losses while saving (showing 5 of 5). These functions will not be directly callable after loading.\n"
          ],
          "name": "stderr"
        },
        {
          "output_type": "stream",
          "text": [
            "INFO:tensorflow:Assets written to: saved_model/cnn-lstm32meteo/model4\\assets\n"
          ],
          "name": "stdout"
        },
        {
          "output_type": "stream",
          "text": [
            "INFO:tensorflow:Assets written to: saved_model/cnn-lstm32meteo/model4\\assets\n",
            "\u001b[32m[I 2021-06-03 00:13:10,890]\u001b[0m Trial 4 finished with value: 8.306950569152832 and parameters: {'weight_decay': 1.4622334228624528e-07, 'n_units_l': 7, 'n_kernel': 4, 'dropout_l2': 0.30730278588816345, 'adam_lr': 0.0021618027516387694}. Best is trial 4 with value: 8.306950569152832.\u001b[0m\n"
          ],
          "name": "stderr"
        },
        {
          "output_type": "stream",
          "text": [
            "RMSE val:  8.306951 5.8720374\n",
            "(None, 48, 9) (None, 24, 1)\n",
            "(None, 48, 9) (None, 24, 1)\n",
            "Epoch 1/10\n",
            "821/821 [==============================] - 13s 14ms/step - loss: 0.0149 - root_mean_squared_error: 0.1219 - val_loss: 0.0065 - val_root_mean_squared_error: 0.0808\n",
            "Epoch 2/10\n",
            "821/821 [==============================] - 12s 15ms/step - loss: 0.0110 - root_mean_squared_error: 0.1049 - val_loss: 0.0046 - val_root_mean_squared_error: 0.0678\n",
            "Epoch 3/10\n",
            "821/821 [==============================] - 11s 13ms/step - loss: 0.0089 - root_mean_squared_error: 0.0941 - val_loss: 0.0035 - val_root_mean_squared_error: 0.0588\n",
            "Epoch 4/10\n",
            "821/821 [==============================] - 11s 13ms/step - loss: 0.0071 - root_mean_squared_error: 0.0845 - val_loss: 0.0029 - val_root_mean_squared_error: 0.0540\n",
            "Epoch 5/10\n",
            "821/821 [==============================] - 12s 15ms/step - loss: 0.0059 - root_mean_squared_error: 0.0768 - val_loss: 0.0027 - val_root_mean_squared_error: 0.0515\n",
            "Epoch 6/10\n",
            "821/821 [==============================] - 11s 13ms/step - loss: 0.0051 - root_mean_squared_error: 0.0712 - val_loss: 0.0026 - val_root_mean_squared_error: 0.0505\n",
            "Epoch 7/10\n",
            "821/821 [==============================] - 11s 13ms/step - loss: 0.0046 - root_mean_squared_error: 0.0675 - val_loss: 0.0025 - val_root_mean_squared_error: 0.0500\n",
            "Epoch 8/10\n",
            "821/821 [==============================] - 11s 14ms/step - loss: 0.0042 - root_mean_squared_error: 0.0650 - val_loss: 0.0025 - val_root_mean_squared_error: 0.0496 0.0043 -  - ETA: 1s - loss: 0.0042 - root_mean_sq\n",
            "Epoch 9/10\n",
            "821/821 [==============================] - 11s 13ms/step - loss: 0.0040 - root_mean_squared_error: 0.0633 - val_loss: 0.0025 - val_root_mean_squared_error: 0.0496\n",
            "Epoch 10/10\n",
            "821/821 [==============================] - 11s 14ms/step - loss: 0.0039 - root_mean_squared_error: 0.0621 - val_loss: 0.0024 - val_root_mean_squared_error: 0.0491\n"
          ],
          "name": "stdout"
        },
        {
          "output_type": "stream",
          "text": [
            "WARNING:absl:Found untraced functions such as lstm_cell_1698_layer_call_and_return_conditional_losses, lstm_cell_1698_layer_call_fn, lstm_cell_1698_layer_call_fn, lstm_cell_1698_layer_call_and_return_conditional_losses, lstm_cell_1698_layer_call_and_return_conditional_losses while saving (showing 5 of 5). These functions will not be directly callable after loading.\n"
          ],
          "name": "stderr"
        },
        {
          "output_type": "stream",
          "text": [
            "INFO:tensorflow:Assets written to: saved_model/cnn-lstm32meteo/model5\\assets\n"
          ],
          "name": "stdout"
        },
        {
          "output_type": "stream",
          "text": [
            "INFO:tensorflow:Assets written to: saved_model/cnn-lstm32meteo/model5\\assets\n",
            "\u001b[32m[I 2021-06-03 00:15:12,880]\u001b[0m Trial 5 finished with value: 9.811563491821289 and parameters: {'weight_decay': 2.1587100586093647e-07, 'n_units_l': 23, 'n_kernel': 6, 'dropout_l2': 0.602723764816445, 'adam_lr': 1.8889701680886102e-05}. Best is trial 4 with value: 8.306950569152832.\u001b[0m\n"
          ],
          "name": "stderr"
        },
        {
          "output_type": "stream",
          "text": [
            "RMSE val:  9.8115635 7.761141\n",
            "(None, 48, 9) (None, 24, 1)\n",
            "(None, 48, 9) (None, 24, 1)\n",
            "Epoch 1/10\n",
            "821/821 [==============================] - 17s 18ms/step - loss: 0.0032 - root_mean_squared_error: 0.0556 - val_loss: 0.0019 - val_root_mean_squared_error: 0.0428\n",
            "Epoch 2/10\n",
            "821/821 [==============================] - 14s 18ms/step - loss: 0.0024 - root_mean_squared_error: 0.0481 - val_loss: 0.0018 - val_root_mean_squared_error: 0.0422\n",
            "Epoch 3/10\n",
            "821/821 [==============================] - 14s 17ms/step - loss: 0.0022 - root_mean_squared_error: 0.0468 - val_loss: 0.0016 - val_root_mean_squared_error: 0.0403\n",
            "Epoch 4/10\n",
            "821/821 [==============================] - 14s 17ms/step - loss: 0.0021 - root_mean_squared_error: 0.0455 - val_loss: 0.0017 - val_root_mean_squared_error: 0.0412\n",
            "Epoch 5/10\n",
            "821/821 [==============================] - 14s 17ms/step - loss: 0.0021 - root_mean_squared_error: 0.0457 - val_loss: 0.0017 - val_root_mean_squared_error: 0.0408\n"
          ],
          "name": "stdout"
        },
        {
          "output_type": "stream",
          "text": [
            "WARNING:absl:Found untraced functions such as lstm_cell_1699_layer_call_and_return_conditional_losses, lstm_cell_1699_layer_call_fn, lstm_cell_1699_layer_call_fn, lstm_cell_1699_layer_call_and_return_conditional_losses, lstm_cell_1699_layer_call_and_return_conditional_losses while saving (showing 5 of 5). These functions will not be directly callable after loading.\n"
          ],
          "name": "stderr"
        },
        {
          "output_type": "stream",
          "text": [
            "INFO:tensorflow:Assets written to: saved_model/cnn-lstm32meteo/model6\\assets\n"
          ],
          "name": "stdout"
        },
        {
          "output_type": "stream",
          "text": [
            "INFO:tensorflow:Assets written to: saved_model/cnn-lstm32meteo/model6\\assets\n",
            "\u001b[32m[I 2021-06-03 00:16:35,036]\u001b[0m Trial 6 finished with value: 8.162410736083984 and parameters: {'weight_decay': 5.068769539078346e-06, 'n_units_l': 36, 'n_kernel': 6, 'dropout_l2': 0.31245816689515854, 'adam_lr': 0.0029509089780652155}. Best is trial 6 with value: 8.162410736083984.\u001b[0m\n"
          ],
          "name": "stderr"
        },
        {
          "output_type": "stream",
          "text": [
            "RMSE val:  8.162411 6.051006\n",
            "(None, 48, 9) (None, 24, 1)\n",
            "(None, 48, 9) (None, 24, 1)\n",
            "Epoch 1/10\n",
            "821/821 [==============================] - 13s 14ms/step - loss: 0.0093 - root_mean_squared_error: 0.0964 - val_loss: 0.0074 - val_root_mean_squared_error: 0.0861\n",
            "Epoch 2/10\n",
            "821/821 [==============================] - 11s 13ms/step - loss: 0.0090 - root_mean_squared_error: 0.0951 - val_loss: 0.0054 - val_root_mean_squared_error: 0.0733\n",
            "Epoch 3/10\n",
            "821/821 [==============================] - 11s 13ms/step - loss: 0.0091 - root_mean_squared_error: 0.0952 - val_loss: 0.0058 - val_root_mean_squared_error: 0.0763\n",
            "Epoch 4/10\n",
            "821/821 [==============================] - 10s 13ms/step - loss: 0.0090 - root_mean_squared_error: 0.0950 - val_loss: 0.0060 - val_root_mean_squared_error: 0.0776\n"
          ],
          "name": "stdout"
        },
        {
          "output_type": "stream",
          "text": [
            "WARNING:absl:Found untraced functions such as lstm_cell_1700_layer_call_and_return_conditional_losses, lstm_cell_1700_layer_call_fn, lstm_cell_1700_layer_call_fn, lstm_cell_1700_layer_call_and_return_conditional_losses, lstm_cell_1700_layer_call_and_return_conditional_losses while saving (showing 5 of 5). These functions will not be directly callable after loading.\n"
          ],
          "name": "stderr"
        },
        {
          "output_type": "stream",
          "text": [
            "INFO:tensorflow:Assets written to: saved_model/cnn-lstm32meteo/model7\\assets\n"
          ],
          "name": "stdout"
        },
        {
          "output_type": "stream",
          "text": [
            "INFO:tensorflow:Assets written to: saved_model/cnn-lstm32meteo/model7\\assets\n",
            "\u001b[32m[I 2021-06-03 00:17:28,439]\u001b[0m Trial 7 finished with value: 15.529244422912598 and parameters: {'weight_decay': 2.108177064285155e-06, 'n_units_l': 10, 'n_kernel': 6, 'dropout_l2': 0.5243097451368719, 'adam_lr': 0.08454352866024936}. Best is trial 6 with value: 8.162410736083984.\u001b[0m\n"
          ],
          "name": "stderr"
        },
        {
          "output_type": "stream",
          "text": [
            "RMSE val:  15.529244 12.708651\n",
            "(None, 48, 9) (None, 24, 1)\n",
            "(None, 48, 9) (None, 24, 1)\n",
            "Epoch 1/10\n",
            "821/821 [==============================] - 12s 13ms/step - loss: 0.0088 - root_mean_squared_error: 0.0936 - val_loss: 0.0048 - val_root_mean_squared_error: 0.0695\n",
            "Epoch 2/10\n",
            "821/821 [==============================] - 10s 13ms/step - loss: 0.0078 - root_mean_squared_error: 0.0885 - val_loss: 0.0047 - val_root_mean_squared_error: 0.0688\n",
            "Epoch 3/10\n",
            "821/821 [==============================] - 10s 12ms/step - loss: 0.0078 - root_mean_squared_error: 0.0881 - val_loss: 0.0051 - val_root_mean_squared_error: 0.0711\n",
            "Epoch 4/10\n",
            "821/821 [==============================] - 10s 12ms/step - loss: 0.0078 - root_mean_squared_error: 0.0883 - val_loss: 0.0048 - val_root_mean_squared_error: 0.0690\n"
          ],
          "name": "stdout"
        },
        {
          "output_type": "stream",
          "text": [
            "WARNING:absl:Found untraced functions such as lstm_cell_1701_layer_call_and_return_conditional_losses, lstm_cell_1701_layer_call_fn, lstm_cell_1701_layer_call_fn, lstm_cell_1701_layer_call_and_return_conditional_losses, lstm_cell_1701_layer_call_and_return_conditional_losses while saving (showing 5 of 5). These functions will not be directly callable after loading.\n"
          ],
          "name": "stderr"
        },
        {
          "output_type": "stream",
          "text": [
            "INFO:tensorflow:Assets written to: saved_model/cnn-lstm32meteo/model8\\assets\n"
          ],
          "name": "stdout"
        },
        {
          "output_type": "stream",
          "text": [
            "INFO:tensorflow:Assets written to: saved_model/cnn-lstm32meteo/model8\\assets\n",
            "\u001b[32m[I 2021-06-03 00:18:18,623]\u001b[0m Trial 8 finished with value: 13.797653198242188 and parameters: {'weight_decay': 1.2463087226516153e-07, 'n_units_l': 6, 'n_kernel': 4, 'dropout_l2': 0.4374824010887284, 'adam_lr': 0.046106085986847026}. Best is trial 6 with value: 8.162410736083984.\u001b[0m\n"
          ],
          "name": "stderr"
        },
        {
          "output_type": "stream",
          "text": [
            "RMSE val:  13.797653 9.991145\n",
            "(None, 48, 9) (None, 24, 1)\n",
            "(None, 48, 9) (None, 24, 1)\n",
            "Epoch 1/10\n",
            "821/821 [==============================] - 28s 32ms/step - loss: 0.0052 - root_mean_squared_error: 0.0698 - val_loss: 0.0023 - val_root_mean_squared_error: 0.0446\n",
            "Epoch 2/10\n",
            "821/821 [==============================] - 27s 33ms/step - loss: 0.0030 - root_mean_squared_error: 0.0527 - val_loss: 0.0022 - val_root_mean_squared_error: 0.0441\n",
            "Epoch 3/10\n",
            "821/821 [==============================] - 26s 32ms/step - loss: 0.0028 - root_mean_squared_error: 0.0507 - val_loss: 0.0022 - val_root_mean_squared_error: 0.0448\n",
            "Epoch 4/10\n",
            "821/821 [==============================] - 26s 32ms/step - loss: 0.0026 - root_mean_squared_error: 0.0497 - val_loss: 0.0019 - val_root_mean_squared_error: 0.0425\n",
            "Epoch 5/10\n",
            "821/821 [==============================] - 25s 31ms/step - loss: 0.0025 - root_mean_squared_error: 0.0488 - val_loss: 0.0019 - val_root_mean_squared_error: 0.0429\n",
            "Epoch 6/10\n",
            "821/821 [==============================] - 26s 32ms/step - loss: 0.0024 - root_mean_squared_error: 0.0477 - val_loss: 0.0017 - val_root_mean_squared_error: 0.0408\n",
            "Epoch 7/10\n",
            "821/821 [==============================] - 26s 32ms/step - loss: 0.0023 - root_mean_squared_error: 0.0469 - val_loss: 0.0017 - val_root_mean_squared_error: 0.0405\n",
            "Epoch 8/10\n",
            "821/821 [==============================] - 27s 32ms/step - loss: 0.0022 - root_mean_squared_error: 0.0465 - val_loss: 0.0017 - val_root_mean_squared_error: 0.0400\n",
            "Epoch 9/10\n",
            "821/821 [==============================] - 26s 32ms/step - loss: 0.0022 - root_mean_squared_error: 0.0460 - val_loss: 0.0017 - val_root_mean_squared_error: 0.0412\n",
            "Epoch 10/10\n",
            "821/821 [==============================] - 26s 31ms/step - loss: 0.0021 - root_mean_squared_error: 0.0457 - val_loss: 0.0017 - val_root_mean_squared_error: 0.0409\n"
          ],
          "name": "stdout"
        },
        {
          "output_type": "stream",
          "text": [
            "WARNING:absl:Found untraced functions such as lstm_cell_1702_layer_call_and_return_conditional_losses, lstm_cell_1702_layer_call_fn, lstm_cell_1702_layer_call_fn, lstm_cell_1702_layer_call_and_return_conditional_losses, lstm_cell_1702_layer_call_and_return_conditional_losses while saving (showing 5 of 5). These functions will not be directly callable after loading.\n"
          ],
          "name": "stderr"
        },
        {
          "output_type": "stream",
          "text": [
            "INFO:tensorflow:Assets written to: saved_model/cnn-lstm32meteo/model9\\assets\n"
          ],
          "name": "stdout"
        },
        {
          "output_type": "stream",
          "text": [
            "INFO:tensorflow:Assets written to: saved_model/cnn-lstm32meteo/model9\\assets\n",
            "\u001b[32m[I 2021-06-03 00:22:53,386]\u001b[0m Trial 9 finished with value: 8.177095413208008 and parameters: {'weight_decay': 9.18564161248827e-06, 'n_units_l': 87, 'n_kernel': 4, 'dropout_l2': 0.5502564585050022, 'adam_lr': 0.00023379528483241513}. Best is trial 6 with value: 8.162410736083984.\u001b[0m\n"
          ],
          "name": "stderr"
        },
        {
          "output_type": "stream",
          "text": [
            "RMSE val:  8.177095 6.111951\n",
            "(None, 48, 9) (None, 24, 1)\n",
            "(None, 48, 9) (None, 24, 1)\n",
            "Epoch 1/10\n",
            "821/821 [==============================] - 41s 48ms/step - loss: 0.0041 - root_mean_squared_error: 0.0568 - val_loss: 0.0024 - val_root_mean_squared_error: 0.0454\n",
            "Epoch 2/10\n",
            "821/821 [==============================] - 41s 50ms/step - loss: 0.0030 - root_mean_squared_error: 0.0518 - val_loss: 0.0023 - val_root_mean_squared_error: 0.0436\n",
            "Epoch 3/10\n",
            "821/821 [==============================] - 39s 47ms/step - loss: 0.0028 - root_mean_squared_error: 0.0498 - val_loss: 0.0021 - val_root_mean_squared_error: 0.0416\n",
            "Epoch 4/10\n",
            "821/821 [==============================] - 39s 48ms/step - loss: 0.0028 - root_mean_squared_error: 0.0491 - val_loss: 0.0021 - val_root_mean_squared_error: 0.0407\n",
            "Epoch 5/10\n",
            "821/821 [==============================] - 39s 48ms/step - loss: 0.0027 - root_mean_squared_error: 0.0485 - val_loss: 0.0021 - val_root_mean_squared_error: 0.0413\n",
            "Epoch 6/10\n",
            "821/821 [==============================] - 39s 48ms/step - loss: 0.0027 - root_mean_squared_error: 0.0483 - val_loss: 0.0021 - val_root_mean_squared_error: 0.0412\n",
            "Epoch 7/10\n",
            "821/821 [==============================] - 38s 47ms/step - loss: 0.0026 - root_mean_squared_error: 0.0477 - val_loss: 0.0019 - val_root_mean_squared_error: 0.0388\n",
            "Epoch 8/10\n",
            "821/821 [==============================] - 40s 48ms/step - loss: 0.0026 - root_mean_squared_error: 0.0476 - val_loss: 0.0026 - val_root_mean_squared_error: 0.0452\n",
            "Epoch 9/10\n",
            "821/821 [==============================] - 40s 48ms/step - loss: 0.0026 - root_mean_squared_error: 0.0472 - val_loss: 0.0020 - val_root_mean_squared_error: 0.0393\n"
          ],
          "name": "stdout"
        },
        {
          "output_type": "stream",
          "text": [
            "WARNING:absl:Found untraced functions such as lstm_cell_1703_layer_call_and_return_conditional_losses, lstm_cell_1703_layer_call_fn, lstm_cell_1703_layer_call_fn, lstm_cell_1703_layer_call_and_return_conditional_losses, lstm_cell_1703_layer_call_and_return_conditional_losses while saving (showing 5 of 5). These functions will not be directly callable after loading.\n"
          ],
          "name": "stderr"
        },
        {
          "output_type": "stream",
          "text": [
            "INFO:tensorflow:Assets written to: saved_model/cnn-lstm32meteo/model10\\assets\n"
          ],
          "name": "stdout"
        },
        {
          "output_type": "stream",
          "text": [
            "INFO:tensorflow:Assets written to: saved_model/cnn-lstm32meteo/model10\\assets\n",
            "\u001b[32m[I 2021-06-03 00:29:03,551]\u001b[0m Trial 10 finished with value: 7.85351037979126 and parameters: {'weight_decay': 0.0007275784814871831, 'n_units_l': 114, 'n_kernel': 2, 'dropout_l2': 0.7216105960736392, 'adam_lr': 0.004314640094347045}. Best is trial 10 with value: 7.85351037979126.\u001b[0m\n"
          ],
          "name": "stderr"
        },
        {
          "output_type": "stream",
          "text": [
            "RMSE val:  7.8535104 5.6635604\n",
            "(None, 48, 9) (None, 24, 1)\n",
            "(None, 48, 9) (None, 24, 1)\n",
            "Epoch 1/10\n",
            "821/821 [==============================] - 28s 32ms/step - loss: 0.0043 - root_mean_squared_error: 0.0569 - val_loss: 0.0020 - val_root_mean_squared_error: 0.0412\n",
            "Epoch 2/10\n",
            "821/821 [==============================] - 26s 31ms/step - loss: 0.0029 - root_mean_squared_error: 0.0504 - val_loss: 0.0020 - val_root_mean_squared_error: 0.0406\n",
            "Epoch 3/10\n",
            "821/821 [==============================] - 25s 31ms/step - loss: 0.0028 - root_mean_squared_error: 0.0498 - val_loss: 0.0019 - val_root_mean_squared_error: 0.0395\n",
            "Epoch 4/10\n",
            "821/821 [==============================] - 25s 31ms/step - loss: 0.0027 - root_mean_squared_error: 0.0492 - val_loss: 0.0018 - val_root_mean_squared_error: 0.0393\n",
            "Epoch 5/10\n",
            "821/821 [==============================] - 26s 31ms/step - loss: 0.0027 - root_mean_squared_error: 0.0488 - val_loss: 0.0019 - val_root_mean_squared_error: 0.0403\n",
            "Epoch 6/10\n",
            "821/821 [==============================] - 26s 31ms/step - loss: 0.0027 - root_mean_squared_error: 0.0484 - val_loss: 0.0021 - val_root_mean_squared_error: 0.0429\n"
          ],
          "name": "stdout"
        },
        {
          "output_type": "stream",
          "text": [
            "WARNING:absl:Found untraced functions such as lstm_cell_1704_layer_call_and_return_conditional_losses, lstm_cell_1704_layer_call_fn, lstm_cell_1704_layer_call_fn, lstm_cell_1704_layer_call_and_return_conditional_losses, lstm_cell_1704_layer_call_and_return_conditional_losses while saving (showing 5 of 5). These functions will not be directly callable after loading.\n"
          ],
          "name": "stderr"
        },
        {
          "output_type": "stream",
          "text": [
            "INFO:tensorflow:Assets written to: saved_model/cnn-lstm32meteo/model11\\assets\n"
          ],
          "name": "stdout"
        },
        {
          "output_type": "stream",
          "text": [
            "INFO:tensorflow:Assets written to: saved_model/cnn-lstm32meteo/model11\\assets\n",
            "\u001b[32m[I 2021-06-03 00:31:51,235]\u001b[0m Trial 11 finished with value: 8.585549354553223 and parameters: {'weight_decay': 0.0008545222924156731, 'n_units_l': 84, 'n_kernel': 2, 'dropout_l2': 0.7407974754285519, 'adam_lr': 0.003931444246459139}. Best is trial 10 with value: 7.85351037979126.\u001b[0m\n"
          ],
          "name": "stderr"
        },
        {
          "output_type": "stream",
          "text": [
            "RMSE val:  8.585549 6.8280177\n",
            "(None, 48, 9) (None, 24, 1)\n",
            "(None, 48, 9) (None, 24, 1)\n",
            "Epoch 1/10\n",
            "821/821 [==============================] - 43s 50ms/step - loss: 0.0036 - root_mean_squared_error: 0.0544 - val_loss: 0.0025 - val_root_mean_squared_error: 0.0471\n",
            "Epoch 2/10\n",
            "821/821 [==============================] - 42s 51ms/step - loss: 0.0027 - root_mean_squared_error: 0.0495 - val_loss: 0.0020 - val_root_mean_squared_error: 0.0424\n",
            "Epoch 3/10\n",
            "821/821 [==============================] - 44s 54ms/step - loss: 0.0026 - root_mean_squared_error: 0.0485 - val_loss: 0.0020 - val_root_mean_squared_error: 0.0415\n",
            "Epoch 4/10\n",
            "821/821 [==============================] - 42s 52ms/step - loss: 0.0026 - root_mean_squared_error: 0.0479 - val_loss: 0.0019 - val_root_mean_squared_error: 0.0408\n",
            "Epoch 5/10\n",
            "821/821 [==============================] - 41s 50ms/step - loss: 0.0026 - root_mean_squared_error: 0.0479 - val_loss: 0.0021 - val_root_mean_squared_error: 0.0438\n",
            "Epoch 6/10\n",
            "821/821 [==============================] - 41s 50ms/step - loss: 0.0025 - root_mean_squared_error: 0.0474 - val_loss: 0.0022 - val_root_mean_squared_error: 0.0431\n"
          ],
          "name": "stdout"
        },
        {
          "output_type": "stream",
          "text": [
            "WARNING:absl:Found untraced functions such as lstm_cell_1705_layer_call_and_return_conditional_losses, lstm_cell_1705_layer_call_fn, lstm_cell_1705_layer_call_fn, lstm_cell_1705_layer_call_and_return_conditional_losses, lstm_cell_1705_layer_call_and_return_conditional_losses while saving (showing 5 of 5). These functions will not be directly callable after loading.\n"
          ],
          "name": "stderr"
        },
        {
          "output_type": "stream",
          "text": [
            "INFO:tensorflow:Assets written to: saved_model/cnn-lstm32meteo/model12\\assets\n"
          ],
          "name": "stdout"
        },
        {
          "output_type": "stream",
          "text": [
            "INFO:tensorflow:Assets written to: saved_model/cnn-lstm32meteo/model12\\assets\n",
            "\u001b[32m[I 2021-06-03 00:36:19,049]\u001b[0m Trial 12 finished with value: 8.611798286437988 and parameters: {'weight_decay': 0.000901890208809806, 'n_units_l': 124, 'n_kernel': 3, 'dropout_l2': 0.24009050329777132, 'adam_lr': 0.009370147013050762}. Best is trial 10 with value: 7.85351037979126.\u001b[0m\n"
          ],
          "name": "stderr"
        },
        {
          "output_type": "stream",
          "text": [
            "RMSE val:  8.611798 6.3945\n",
            "(None, 48, 9) (None, 24, 1)\n",
            "(None, 48, 9) (None, 24, 1)\n",
            "Epoch 1/10\n",
            "821/821 [==============================] - 19s 21ms/step - loss: 0.0048 - root_mean_squared_error: 0.0635 - val_loss: 0.0024 - val_root_mean_squared_error: 0.0468\n",
            "Epoch 2/10\n",
            "821/821 [==============================] - 17s 21ms/step - loss: 0.0028 - root_mean_squared_error: 0.0519 - val_loss: 0.0021 - val_root_mean_squared_error: 0.0444\n",
            "Epoch 3/10\n",
            "821/821 [==============================] - 18s 22ms/step - loss: 0.0026 - root_mean_squared_error: 0.0507 - val_loss: 0.0020 - val_root_mean_squared_error: 0.0445\n",
            "Epoch 4/10\n",
            "821/821 [==============================] - 17s 21ms/step - loss: 0.0026 - root_mean_squared_error: 0.0501 - val_loss: 0.0019 - val_root_mean_squared_error: 0.0425\n",
            "Epoch 5/10\n",
            "821/821 [==============================] - 17s 21ms/step - loss: 0.0025 - root_mean_squared_error: 0.0497 - val_loss: 0.0019 - val_root_mean_squared_error: 0.0432\n",
            "Epoch 6/10\n",
            "821/821 [==============================] - 18s 21ms/step - loss: 0.0024 - root_mean_squared_error: 0.0490 - val_loss: 0.0020 - val_root_mean_squared_error: 0.0443\n"
          ],
          "name": "stdout"
        },
        {
          "output_type": "stream",
          "text": [
            "WARNING:absl:Found untraced functions such as lstm_cell_1706_layer_call_and_return_conditional_losses, lstm_cell_1706_layer_call_fn, lstm_cell_1706_layer_call_fn, lstm_cell_1706_layer_call_and_return_conditional_losses, lstm_cell_1706_layer_call_and_return_conditional_losses while saving (showing 5 of 5). These functions will not be directly callable after loading.\n"
          ],
          "name": "stderr"
        },
        {
          "output_type": "stream",
          "text": [
            "INFO:tensorflow:Assets written to: saved_model/cnn-lstm32meteo/model13\\assets\n"
          ],
          "name": "stdout"
        },
        {
          "output_type": "stream",
          "text": [
            "INFO:tensorflow:Assets written to: saved_model/cnn-lstm32meteo/model13\\assets\n",
            "\u001b[32m[I 2021-06-03 00:38:14,386]\u001b[0m Trial 13 finished with value: 8.85600471496582 and parameters: {'weight_decay': 6.849263090466908e-05, 'n_units_l': 50, 'n_kernel': 3, 'dropout_l2': 0.7381094587087238, 'adam_lr': 0.0007142244719590123}. Best is trial 10 with value: 7.85351037979126.\u001b[0m\n"
          ],
          "name": "stderr"
        },
        {
          "output_type": "stream",
          "text": [
            "RMSE val:  8.856005 6.7270365\n",
            "(None, 48, 9) (None, 24, 1)\n",
            "(None, 48, 9) (None, 24, 1)\n",
            "Epoch 1/10\n",
            "821/821 [==============================] - 12s 13ms/step - loss: 0.0042 - root_mean_squared_error: 0.0631 - val_loss: 0.0024 - val_root_mean_squared_error: 0.0477\n",
            "Epoch 2/10\n",
            "821/821 [==============================] - 11s 14ms/step - loss: 0.0037 - root_mean_squared_error: 0.0599 - val_loss: 0.0027 - val_root_mean_squared_error: 0.0508\n",
            "Epoch 3/10\n",
            "821/821 [==============================] - 12s 15ms/step - loss: 0.0036 - root_mean_squared_error: 0.0592 - val_loss: 0.0024 - val_root_mean_squared_error: 0.0480\n"
          ],
          "name": "stdout"
        },
        {
          "output_type": "stream",
          "text": [
            "WARNING:absl:Found untraced functions such as lstm_cell_1707_layer_call_and_return_conditional_losses, lstm_cell_1707_layer_call_fn, lstm_cell_1707_layer_call_fn, lstm_cell_1707_layer_call_and_return_conditional_losses, lstm_cell_1707_layer_call_and_return_conditional_losses while saving (showing 5 of 5). These functions will not be directly callable after loading.\n"
          ],
          "name": "stderr"
        },
        {
          "output_type": "stream",
          "text": [
            "INFO:tensorflow:Assets written to: saved_model/cnn-lstm32meteo/model14\\assets\n"
          ],
          "name": "stdout"
        },
        {
          "output_type": "stream",
          "text": [
            "INFO:tensorflow:Assets written to: saved_model/cnn-lstm32meteo/model14\\assets\n",
            "\u001b[32m[I 2021-06-03 00:38:58,327]\u001b[0m Trial 14 finished with value: 9.609042167663574 and parameters: {'weight_decay': 0.00013469529062082807, 'n_units_l': 17, 'n_kernel': 5, 'dropout_l2': 0.21128856980888255, 'adam_lr': 0.016826298176145556}. Best is trial 10 with value: 7.85351037979126.\u001b[0m\n"
          ],
          "name": "stderr"
        },
        {
          "output_type": "stream",
          "text": [
            "RMSE val:  9.609042 6.6517334\n",
            "(None, 48, 9) (None, 24, 1)\n",
            "(None, 48, 9) (None, 24, 1)\n",
            "Epoch 1/10\n",
            "821/821 [==============================] - 45s 53ms/step - loss: 0.0030 - root_mean_squared_error: 0.0551 - val_loss: 0.0016 - val_root_mean_squared_error: 0.0405\n",
            "Epoch 2/10\n",
            "821/821 [==============================] - 42s 51ms/step - loss: 0.0022 - root_mean_squared_error: 0.0474 - val_loss: 0.0016 - val_root_mean_squared_error: 0.0400\n",
            "Epoch 3/10\n",
            "821/821 [==============================] - 46s 56ms/step - loss: 0.0021 - root_mean_squared_error: 0.0463 - val_loss: 0.0016 - val_root_mean_squared_error: 0.0401\n",
            "Epoch 4/10\n",
            "821/821 [==============================] - 47s 57ms/step - loss: 0.0021 - root_mean_squared_error: 0.0459 - val_loss: 0.0015 - val_root_mean_squared_error: 0.0389\n",
            "Epoch 5/10\n",
            "821/821 [==============================] - 41s 50ms/step - loss: 0.0020 - root_mean_squared_error: 0.0451 - val_loss: 0.0017 - val_root_mean_squared_error: 0.0408\n",
            "Epoch 6/10\n",
            "821/821 [==============================] - 41s 50ms/step - loss: 0.0021 - root_mean_squared_error: 0.0454 - val_loss: 0.0016 - val_root_mean_squared_error: 0.0394\n"
          ],
          "name": "stdout"
        },
        {
          "output_type": "stream",
          "text": [
            "WARNING:absl:Found untraced functions such as lstm_cell_1708_layer_call_and_return_conditional_losses, lstm_cell_1708_layer_call_fn, lstm_cell_1708_layer_call_fn, lstm_cell_1708_layer_call_and_return_conditional_losses, lstm_cell_1708_layer_call_and_return_conditional_losses while saving (showing 5 of 5). These functions will not be directly callable after loading.\n"
          ],
          "name": "stderr"
        },
        {
          "output_type": "stream",
          "text": [
            "INFO:tensorflow:Assets written to: saved_model/cnn-lstm32meteo/model15\\assets\n"
          ],
          "name": "stdout"
        },
        {
          "output_type": "stream",
          "text": [
            "INFO:tensorflow:Assets written to: saved_model/cnn-lstm32meteo/model15\\assets\n",
            "\u001b[32m[I 2021-06-03 00:43:33,394]\u001b[0m Trial 15 finished with value: 7.884225368499756 and parameters: {'weight_decay': 1.1756831625342445e-08, 'n_units_l': 127, 'n_kernel': 3, 'dropout_l2': 0.6655988267792274, 'adam_lr': 0.002858756601074842}. Best is trial 10 with value: 7.85351037979126.\u001b[0m\n"
          ],
          "name": "stderr"
        },
        {
          "output_type": "stream",
          "text": [
            "RMSE val:  7.8842254 5.5825424\n",
            "(None, 48, 9) (None, 24, 1)\n",
            "(None, 48, 9) (None, 24, 1)\n",
            "Epoch 1/10\n",
            "821/821 [==============================] - 46s 54ms/step - loss: 0.0057 - root_mean_squared_error: 0.0753 - val_loss: 0.0024 - val_root_mean_squared_error: 0.0493\n",
            "Epoch 2/10\n",
            "821/821 [==============================] - 40s 49ms/step - loss: 0.0033 - root_mean_squared_error: 0.0577 - val_loss: 0.0022 - val_root_mean_squared_error: 0.0465\n",
            "Epoch 3/10\n",
            "821/821 [==============================] - 42s 51ms/step - loss: 0.0029 - root_mean_squared_error: 0.0542 - val_loss: 0.0021 - val_root_mean_squared_error: 0.0461\n",
            "Epoch 4/10\n",
            "821/821 [==============================] - 41s 50ms/step - loss: 0.0028 - root_mean_squared_error: 0.0528 - val_loss: 0.0022 - val_root_mean_squared_error: 0.0468\n",
            "Epoch 5/10\n",
            "821/821 [==============================] - 41s 50ms/step - loss: 0.0027 - root_mean_squared_error: 0.0520 - val_loss: 0.0020 - val_root_mean_squared_error: 0.0444\n",
            "Epoch 6/10\n",
            "821/821 [==============================] - 42s 51ms/step - loss: 0.0027 - root_mean_squared_error: 0.0515 - val_loss: 0.0020 - val_root_mean_squared_error: 0.0446\n",
            "Epoch 7/10\n",
            "821/821 [==============================] - 42s 51ms/step - loss: 0.0026 - root_mean_squared_error: 0.0509 - val_loss: 0.0019 - val_root_mean_squared_error: 0.0435\n",
            "Epoch 8/10\n",
            "821/821 [==============================] - 42s 51ms/step - loss: 0.0025 - root_mean_squared_error: 0.0504 - val_loss: 0.0019 - val_root_mean_squared_error: 0.0436\n",
            "Epoch 9/10\n",
            "821/821 [==============================] - 42s 51ms/step - loss: 0.0025 - root_mean_squared_error: 0.0498 - val_loss: 0.0019 - val_root_mean_squared_error: 0.0438\n"
          ],
          "name": "stdout"
        },
        {
          "output_type": "stream",
          "text": [
            "WARNING:absl:Found untraced functions such as lstm_cell_1709_layer_call_and_return_conditional_losses, lstm_cell_1709_layer_call_fn, lstm_cell_1709_layer_call_fn, lstm_cell_1709_layer_call_and_return_conditional_losses, lstm_cell_1709_layer_call_and_return_conditional_losses while saving (showing 5 of 5). These functions will not be directly callable after loading.\n"
          ],
          "name": "stderr"
        },
        {
          "output_type": "stream",
          "text": [
            "INFO:tensorflow:Assets written to: saved_model/cnn-lstm32meteo/model16\\assets\n"
          ],
          "name": "stdout"
        },
        {
          "output_type": "stream",
          "text": [
            "INFO:tensorflow:Assets written to: saved_model/cnn-lstm32meteo/model16\\assets\n",
            "\u001b[32m[I 2021-06-03 00:50:03,994]\u001b[0m Trial 16 finished with value: 8.760937690734863 and parameters: {'weight_decay': 4.363711250152818e-09, 'n_units_l': 124, 'n_kernel': 3, 'dropout_l2': 0.6569236412801598, 'adam_lr': 0.00012413491096183125}. Best is trial 10 with value: 7.85351037979126.\u001b[0m\n"
          ],
          "name": "stderr"
        },
        {
          "output_type": "stream",
          "text": [
            "RMSE val:  8.760938 6.6011186\n",
            "(None, 48, 9) (None, 24, 1)\n",
            "(None, 48, 9) (None, 24, 1)\n",
            "Epoch 1/10\n",
            "821/821 [==============================] - 23s 26ms/step - loss: 0.0041 - root_mean_squared_error: 0.0641 - val_loss: 0.0020 - val_root_mean_squared_error: 0.0447\n",
            "Epoch 2/10\n",
            "821/821 [==============================] - 20s 24ms/step - loss: 0.0026 - root_mean_squared_error: 0.0512 - val_loss: 0.0018 - val_root_mean_squared_error: 0.0427\n",
            "Epoch 3/10\n",
            "821/821 [==============================] - 20s 24ms/step - loss: 0.0023 - root_mean_squared_error: 0.0485 - val_loss: 0.0015 - val_root_mean_squared_error: 0.0389\n",
            "Epoch 4/10\n",
            "821/821 [==============================] - 20s 25ms/step - loss: 0.0022 - root_mean_squared_error: 0.0473 - val_loss: 0.0016 - val_root_mean_squared_error: 0.0394\n",
            "Epoch 5/10\n",
            "821/821 [==============================] - 20s 25ms/step - loss: 0.0022 - root_mean_squared_error: 0.0467 - val_loss: 0.0015 - val_root_mean_squared_error: 0.0383\n",
            "Epoch 6/10\n",
            "821/821 [==============================] - 20s 24ms/step - loss: 0.0021 - root_mean_squared_error: 0.0463 - val_loss: 0.0015 - val_root_mean_squared_error: 0.0382\n",
            "Epoch 7/10\n",
            "821/821 [==============================] - 20s 25ms/step - loss: 0.0021 - root_mean_squared_error: 0.0459 - val_loss: 0.0015 - val_root_mean_squared_error: 0.0381\n",
            "Epoch 8/10\n",
            "821/821 [==============================] - 20s 25ms/step - loss: 0.0021 - root_mean_squared_error: 0.0456 - val_loss: 0.0015 - val_root_mean_squared_error: 0.0383\n",
            "Epoch 9/10\n",
            "821/821 [==============================] - 21s 26ms/step - loss: 0.0021 - root_mean_squared_error: 0.0454 - val_loss: 0.0015 - val_root_mean_squared_error: 0.0381\n"
          ],
          "name": "stdout"
        },
        {
          "output_type": "stream",
          "text": [
            "WARNING:absl:Found untraced functions such as lstm_cell_1710_layer_call_and_return_conditional_losses, lstm_cell_1710_layer_call_fn, lstm_cell_1710_layer_call_fn, lstm_cell_1710_layer_call_and_return_conditional_losses, lstm_cell_1710_layer_call_and_return_conditional_losses while saving (showing 5 of 5). These functions will not be directly callable after loading.\n"
          ],
          "name": "stderr"
        },
        {
          "output_type": "stream",
          "text": [
            "INFO:tensorflow:Assets written to: saved_model/cnn-lstm32meteo/model17\\assets\n"
          ],
          "name": "stdout"
        },
        {
          "output_type": "stream",
          "text": [
            "INFO:tensorflow:Assets written to: saved_model/cnn-lstm32meteo/model17\\assets\n",
            "\u001b[32m[I 2021-06-03 00:53:19,901]\u001b[0m Trial 17 finished with value: 7.622661113739014 and parameters: {'weight_decay': 1.2772546420587624e-08, 'n_units_l': 75, 'n_kernel': 2, 'dropout_l2': 0.673931147748008, 'adam_lr': 0.0009019104089595003}. Best is trial 17 with value: 7.622661113739014.\u001b[0m\n"
          ],
          "name": "stderr"
        },
        {
          "output_type": "stream",
          "text": [
            "RMSE val:  7.622661 5.3695574\n",
            "(None, 48, 9) (None, 24, 1)\n",
            "(None, 48, 9) (None, 24, 1)\n",
            "Epoch 1/10\n",
            "821/821 [==============================] - 28s 32ms/step - loss: 0.0035 - root_mean_squared_error: 0.0595 - val_loss: 0.0019 - val_root_mean_squared_error: 0.0439\n",
            "Epoch 2/10\n",
            "821/821 [==============================] - 26s 32ms/step - loss: 0.0027 - root_mean_squared_error: 0.0519 - val_loss: 0.0018 - val_root_mean_squared_error: 0.0427\n",
            "Epoch 3/10\n",
            "821/821 [==============================] - 26s 31ms/step - loss: 0.0025 - root_mean_squared_error: 0.0499 - val_loss: 0.0018 - val_root_mean_squared_error: 0.0421\n",
            "Epoch 4/10\n",
            "821/821 [==============================] - 25s 31ms/step - loss: 0.0023 - root_mean_squared_error: 0.0481 - val_loss: 0.0017 - val_root_mean_squared_error: 0.0406\n",
            "Epoch 5/10\n",
            "821/821 [==============================] - 26s 31ms/step - loss: 0.0022 - root_mean_squared_error: 0.0470 - val_loss: 0.0016 - val_root_mean_squared_error: 0.0394\n",
            "Epoch 6/10\n",
            "821/821 [==============================] - 25s 31ms/step - loss: 0.0021 - root_mean_squared_error: 0.0462 - val_loss: 0.0016 - val_root_mean_squared_error: 0.0394\n",
            "Epoch 7/10\n",
            "821/821 [==============================] - 25s 31ms/step - loss: 0.0021 - root_mean_squared_error: 0.0461 - val_loss: 0.0015 - val_root_mean_squared_error: 0.0390\n",
            "Epoch 8/10\n",
            "821/821 [==============================] - 26s 31ms/step - loss: 0.0021 - root_mean_squared_error: 0.0457 - val_loss: 0.0016 - val_root_mean_squared_error: 0.0397\n",
            "Epoch 9/10\n",
            "821/821 [==============================] - 25s 31ms/step - loss: 0.0021 - root_mean_squared_error: 0.0457 - val_loss: 0.0015 - val_root_mean_squared_error: 0.0389\n",
            "Epoch 10/10\n",
            "821/821 [==============================] - 25s 31ms/step - loss: 0.0021 - root_mean_squared_error: 0.0454 - val_loss: 0.0015 - val_root_mean_squared_error: 0.0390\n"
          ],
          "name": "stdout"
        },
        {
          "output_type": "stream",
          "text": [
            "WARNING:absl:Found untraced functions such as lstm_cell_1711_layer_call_and_return_conditional_losses, lstm_cell_1711_layer_call_fn, lstm_cell_1711_layer_call_fn, lstm_cell_1711_layer_call_and_return_conditional_losses, lstm_cell_1711_layer_call_and_return_conditional_losses while saving (showing 5 of 5). These functions will not be directly callable after loading.\n"
          ],
          "name": "stderr"
        },
        {
          "output_type": "stream",
          "text": [
            "INFO:tensorflow:Assets written to: saved_model/cnn-lstm32meteo/model18\\assets\n"
          ],
          "name": "stdout"
        },
        {
          "output_type": "stream",
          "text": [
            "INFO:tensorflow:Assets written to: saved_model/cnn-lstm32meteo/model18\\assets\n",
            "\u001b[32m[I 2021-06-03 00:57:48,932]\u001b[0m Trial 18 finished with value: 7.799448013305664 and parameters: {'weight_decay': 1.4788131401652236e-08, 'n_units_l': 80, 'n_kernel': 2, 'dropout_l2': 0.6779315165881566, 'adam_lr': 0.0007704925888398909}. Best is trial 17 with value: 7.622661113739014.\u001b[0m\n"
          ],
          "name": "stderr"
        },
        {
          "output_type": "stream",
          "text": [
            "RMSE val:  7.799448 5.625207\n",
            "(None, 48, 9) (None, 24, 1)\n",
            "(None, 48, 9) (None, 24, 1)\n",
            "Epoch 1/10\n",
            "821/821 [==============================] - 24s 27ms/step - loss: 0.0156 - root_mean_squared_error: 0.1248 - val_loss: 0.0063 - val_root_mean_squared_error: 0.0795\n",
            "Epoch 2/10\n",
            "821/821 [==============================] - 22s 27ms/step - loss: 0.0085 - root_mean_squared_error: 0.0921 - val_loss: 0.0027 - val_root_mean_squared_error: 0.0522\n",
            "Epoch 3/10\n",
            "821/821 [==============================] - 22s 27ms/step - loss: 0.0047 - root_mean_squared_error: 0.0687 - val_loss: 0.0022 - val_root_mean_squared_error: 0.0464\n",
            "Epoch 4/10\n",
            "821/821 [==============================] - 23s 28ms/step - loss: 0.0037 - root_mean_squared_error: 0.0611 - val_loss: 0.0021 - val_root_mean_squared_error: 0.0454\n",
            "Epoch 5/10\n",
            "821/821 [==============================] - 22s 27ms/step - loss: 0.0034 - root_mean_squared_error: 0.0581 - val_loss: 0.0020 - val_root_mean_squared_error: 0.0448\n",
            "Epoch 6/10\n",
            "821/821 [==============================] - 22s 27ms/step - loss: 0.0032 - root_mean_squared_error: 0.0564 - val_loss: 0.0020 - val_root_mean_squared_error: 0.0445\n",
            "Epoch 7/10\n",
            "821/821 [==============================] - 22s 27ms/step - loss: 0.0031 - root_mean_squared_error: 0.0552 - val_loss: 0.0020 - val_root_mean_squared_error: 0.0445\n",
            "Epoch 8/10\n",
            "821/821 [==============================] - 22s 27ms/step - loss: 0.0030 - root_mean_squared_error: 0.0546 - val_loss: 0.0019 - val_root_mean_squared_error: 0.0441\n",
            "Epoch 9/10\n",
            "821/821 [==============================] - 22s 27ms/step - loss: 0.0029 - root_mean_squared_error: 0.0541 - val_loss: 0.0019 - val_root_mean_squared_error: 0.0442\n",
            "Epoch 10/10\n",
            "821/821 [==============================] - 22s 27ms/step - loss: 0.0028 - root_mean_squared_error: 0.0532 - val_loss: 0.0020 - val_root_mean_squared_error: 0.0442\n"
          ],
          "name": "stdout"
        },
        {
          "output_type": "stream",
          "text": [
            "WARNING:absl:Found untraced functions such as lstm_cell_1712_layer_call_and_return_conditional_losses, lstm_cell_1712_layer_call_fn, lstm_cell_1712_layer_call_fn, lstm_cell_1712_layer_call_and_return_conditional_losses, lstm_cell_1712_layer_call_and_return_conditional_losses while saving (showing 5 of 5). These functions will not be directly callable after loading.\n"
          ],
          "name": "stderr"
        },
        {
          "output_type": "stream",
          "text": [
            "INFO:tensorflow:Assets written to: saved_model/cnn-lstm32meteo/model19\\assets\n"
          ],
          "name": "stdout"
        },
        {
          "output_type": "stream",
          "text": [
            "INFO:tensorflow:Assets written to: saved_model/cnn-lstm32meteo/model19\\assets\n",
            "\u001b[32m[I 2021-06-03 01:01:44,198]\u001b[0m Trial 19 finished with value: 8.84884262084961 and parameters: {'weight_decay': 1.9498401212071602e-08, 'n_units_l': 66, 'n_kernel': 2, 'dropout_l2': 0.6580599294961716, 'adam_lr': 6.136793922259465e-05}. Best is trial 17 with value: 7.622661113739014.\u001b[0m\n"
          ],
          "name": "stderr"
        },
        {
          "output_type": "stream",
          "text": [
            "RMSE val:  8.848843 6.6567183\n",
            "(None, 48, 9) (None, 24, 1)\n",
            "(None, 48, 9) (None, 24, 1)\n",
            "Epoch 1/10\n",
            "821/821 [==============================] - 24s 26ms/step - loss: 0.0039 - root_mean_squared_error: 0.0623 - val_loss: 0.0019 - val_root_mean_squared_error: 0.0431\n",
            "Epoch 2/10\n",
            "821/821 [==============================] - 21s 26ms/step - loss: 0.0026 - root_mean_squared_error: 0.0505 - val_loss: 0.0018 - val_root_mean_squared_error: 0.0419\n",
            "Epoch 3/10\n",
            "821/821 [==============================] - 22s 26ms/step - loss: 0.0024 - root_mean_squared_error: 0.0487 - val_loss: 0.0016 - val_root_mean_squared_error: 0.0406\n",
            "Epoch 4/10\n",
            "821/821 [==============================] - 22s 26ms/step - loss: 0.0022 - root_mean_squared_error: 0.0474 - val_loss: 0.0016 - val_root_mean_squared_error: 0.0401\n",
            "Epoch 5/10\n",
            "821/821 [==============================] - 21s 26ms/step - loss: 0.0022 - root_mean_squared_error: 0.0467 - val_loss: 0.0016 - val_root_mean_squared_error: 0.0403\n",
            "Epoch 6/10\n",
            "821/821 [==============================] - 22s 26ms/step - loss: 0.0022 - root_mean_squared_error: 0.0464 - val_loss: 0.0016 - val_root_mean_squared_error: 0.0400\n",
            "Epoch 7/10\n",
            "821/821 [==============================] - 22s 27ms/step - loss: 0.0021 - root_mean_squared_error: 0.0458 - val_loss: 0.0015 - val_root_mean_squared_error: 0.0382\n",
            "Epoch 8/10\n",
            "821/821 [==============================] - 22s 27ms/step - loss: 0.0020 - root_mean_squared_error: 0.0451 - val_loss: 0.0015 - val_root_mean_squared_error: 0.0386\n",
            "Epoch 9/10\n",
            "821/821 [==============================] - 21s 26ms/step - loss: 0.0020 - root_mean_squared_error: 0.0451 - val_loss: 0.0015 - val_root_mean_squared_error: 0.0381\n",
            "Epoch 10/10\n",
            "821/821 [==============================] - 21s 26ms/step - loss: 0.0020 - root_mean_squared_error: 0.0449 - val_loss: 0.0016 - val_root_mean_squared_error: 0.0402\n"
          ],
          "name": "stdout"
        },
        {
          "output_type": "stream",
          "text": [
            "WARNING:absl:Found untraced functions such as lstm_cell_1713_layer_call_and_return_conditional_losses, lstm_cell_1713_layer_call_fn, lstm_cell_1713_layer_call_fn, lstm_cell_1713_layer_call_and_return_conditional_losses, lstm_cell_1713_layer_call_and_return_conditional_losses while saving (showing 5 of 5). These functions will not be directly callable after loading.\n"
          ],
          "name": "stderr"
        },
        {
          "output_type": "stream",
          "text": [
            "INFO:tensorflow:Assets written to: saved_model/cnn-lstm32meteo/model20\\assets\n"
          ],
          "name": "stdout"
        },
        {
          "output_type": "stream",
          "text": [
            "INFO:tensorflow:Assets written to: saved_model/cnn-lstm32meteo/model20\\assets\n",
            "\u001b[32m[I 2021-06-03 01:05:32,609]\u001b[0m Trial 20 finished with value: 8.046133041381836 and parameters: {'weight_decay': 1.392247200167151e-10, 'n_units_l': 64, 'n_kernel': 2, 'dropout_l2': 0.6131205172832512, 'adam_lr': 0.0009455425435365263}. Best is trial 17 with value: 7.622661113739014.\u001b[0m\n"
          ],
          "name": "stderr"
        },
        {
          "output_type": "stream",
          "text": [
            "RMSE val:  8.046133 6.0942593\n",
            "(None, 48, 9) (None, 24, 1)\n",
            "(None, 48, 9) (None, 24, 1)\n",
            "Epoch 1/10\n",
            "821/821 [==============================] - 31s 35ms/step - loss: 0.0060 - root_mean_squared_error: 0.0777 - val_loss: 0.0019 - val_root_mean_squared_error: 0.0438\n",
            "Epoch 2/10\n",
            "821/821 [==============================] - 28s 34ms/step - loss: 0.0029 - root_mean_squared_error: 0.0543 - val_loss: 0.0019 - val_root_mean_squared_error: 0.0439ared_error: 0.\n",
            "Epoch 3/10\n",
            "821/821 [==============================] - 29s 35ms/step - loss: 0.0027 - root_mean_squared_error: 0.0524 - val_loss: 0.0018 - val_root_mean_squared_error: 0.0429\n",
            "Epoch 4/10\n",
            "821/821 [==============================] - 28s 35ms/step - loss: 0.0027 - root_mean_squared_error: 0.0515 - val_loss: 0.0018 - val_root_mean_squared_error: 0.0426: 9s - loss: 0.0027 -\n",
            "Epoch 5/10\n",
            "821/821 [==============================] - 29s 35ms/step - loss: 0.0026 - root_mean_squared_error: 0.0509 - val_loss: 0.0018 - val_root_mean_squared_error: 0.0424\n",
            "Epoch 6/10\n",
            "821/821 [==============================] - 29s 35ms/step - loss: 0.0025 - root_mean_squared_error: 0.0499 - val_loss: 0.0017 - val_root_mean_squared_error: 0.0414\n",
            "Epoch 7/10\n",
            "821/821 [==============================] - 30s 37ms/step - loss: 0.0024 - root_mean_squared_error: 0.0493 - val_loss: 0.0017 - val_root_mean_squared_error: 0.0410\n",
            "Epoch 8/10\n",
            "821/821 [==============================] - 30s 36ms/step - loss: 0.0024 - root_mean_squared_error: 0.0486 - val_loss: 0.0016 - val_root_mean_squared_error: 0.0401\n",
            "Epoch 9/10\n",
            "821/821 [==============================] - 29s 35ms/step - loss: 0.0023 - root_mean_squared_error: 0.0480 - val_loss: 0.0017 - val_root_mean_squared_error: 0.0417\n",
            "Epoch 10/10\n",
            "821/821 [==============================] - 28s 34ms/step - loss: 0.0023 - root_mean_squared_error: 0.0476 - val_loss: 0.0016 - val_root_mean_squared_error: 0.0401\n"
          ],
          "name": "stdout"
        },
        {
          "output_type": "stream",
          "text": [
            "WARNING:absl:Found untraced functions such as lstm_cell_1714_layer_call_and_return_conditional_losses, lstm_cell_1714_layer_call_fn, lstm_cell_1714_layer_call_fn, lstm_cell_1714_layer_call_and_return_conditional_losses, lstm_cell_1714_layer_call_and_return_conditional_losses while saving (showing 5 of 5). These functions will not be directly callable after loading.\n"
          ],
          "name": "stderr"
        },
        {
          "output_type": "stream",
          "text": [
            "INFO:tensorflow:Assets written to: saved_model/cnn-lstm32meteo/model21\\assets\n"
          ],
          "name": "stdout"
        },
        {
          "output_type": "stream",
          "text": [
            "INFO:tensorflow:Assets written to: saved_model/cnn-lstm32meteo/model21\\assets\n",
            "\u001b[32m[I 2021-06-03 01:10:35,904]\u001b[0m Trial 21 finished with value: 8.028701782226562 and parameters: {'weight_decay': 3.5568581764685484e-08, 'n_units_l': 98, 'n_kernel': 2, 'dropout_l2': 0.7492910539498078, 'adam_lr': 0.0004319779843513176}. Best is trial 17 with value: 7.622661113739014.\u001b[0m\n"
          ],
          "name": "stderr"
        },
        {
          "output_type": "stream",
          "text": [
            "RMSE val:  8.028702 5.8654943\n",
            "(None, 48, 9) (None, 24, 1)\n",
            "(None, 48, 9) (None, 24, 1)\n",
            "Epoch 1/10\n",
            "821/821 [==============================] - 20s 23ms/step - loss: 0.0046 - root_mean_squared_error: 0.0675 - val_loss: 0.0020 - val_root_mean_squared_error: 0.0444\n",
            "Epoch 2/10\n",
            "821/821 [==============================] - 18s 22ms/step - loss: 0.0027 - root_mean_squared_error: 0.0522 - val_loss: 0.0020 - val_root_mean_squared_error: 0.0450: 0s - loss: 0.0027 - root_mean_squared_erro\n",
            "Epoch 3/10\n",
            "821/821 [==============================] - 18s 22ms/step - loss: 0.0026 - root_mean_squared_error: 0.0507 - val_loss: 0.0017 - val_root_mean_squared_error: 0.0416\n",
            "Epoch 4/10\n",
            "821/821 [==============================] - 19s 23ms/step - loss: 0.0024 - root_mean_squared_error: 0.0493 - val_loss: 0.0016 - val_root_mean_squared_error: 0.0398\n",
            "Epoch 5/10\n",
            "821/821 [==============================] - 18s 22ms/step - loss: 0.0023 - root_mean_squared_error: 0.0483 - val_loss: 0.0016 - val_root_mean_squared_error: 0.0405\n",
            "Epoch 6/10\n",
            "821/821 [==============================] - 18s 22ms/step - loss: 0.0022 - root_mean_squared_error: 0.0474 - val_loss: 0.0016 - val_root_mean_squared_error: 0.0396\n",
            "Epoch 7/10\n",
            "821/821 [==============================] - 18s 22ms/step - loss: 0.0022 - root_mean_squared_error: 0.0471 - val_loss: 0.0015 - val_root_mean_squared_error: 0.0388\n",
            "Epoch 8/10\n",
            "821/821 [==============================] - 19s 23ms/step - loss: 0.0022 - root_mean_squared_error: 0.0465 - val_loss: 0.0016 - val_root_mean_squared_error: 0.0398\n",
            "Epoch 9/10\n",
            "821/821 [==============================] - 18s 22ms/step - loss: 0.0022 - root_mean_squared_error: 0.0464 - val_loss: 0.0015 - val_root_mean_squared_error: 0.0390\n"
          ],
          "name": "stdout"
        },
        {
          "output_type": "stream",
          "text": [
            "WARNING:absl:Found untraced functions such as lstm_cell_1715_layer_call_and_return_conditional_losses, lstm_cell_1715_layer_call_fn, lstm_cell_1715_layer_call_fn, lstm_cell_1715_layer_call_and_return_conditional_losses, lstm_cell_1715_layer_call_and_return_conditional_losses while saving (showing 5 of 5). These functions will not be directly callable after loading.\n"
          ],
          "name": "stderr"
        },
        {
          "output_type": "stream",
          "text": [
            "INFO:tensorflow:Assets written to: saved_model/cnn-lstm32meteo/model22\\assets\n"
          ],
          "name": "stdout"
        },
        {
          "output_type": "stream",
          "text": [
            "INFO:tensorflow:Assets written to: saved_model/cnn-lstm32meteo/model22\\assets\n",
            "\u001b[32m[I 2021-06-03 01:13:32,286]\u001b[0m Trial 22 finished with value: 7.806779384613037 and parameters: {'weight_decay': 2.579317785426248e-09, 'n_units_l': 57, 'n_kernel': 2, 'dropout_l2': 0.7099697572814063, 'adam_lr': 0.0012839971218175938}. Best is trial 17 with value: 7.622661113739014.\u001b[0m\n"
          ],
          "name": "stderr"
        },
        {
          "output_type": "stream",
          "text": [
            "RMSE val:  7.8067794 5.790939\n",
            "(None, 48, 9) (None, 24, 1)\n",
            "(None, 48, 9) (None, 24, 1)\n",
            "Epoch 1/10\n",
            "821/821 [==============================] - 17s 18ms/step - loss: 0.0040 - root_mean_squared_error: 0.0633 - val_loss: 0.0018 - val_root_mean_squared_error: 0.0427\n",
            "Epoch 2/10\n",
            "821/821 [==============================] - 15s 19ms/step - loss: 0.0027 - root_mean_squared_error: 0.0518 - val_loss: 0.0018 - val_root_mean_squared_error: 0.0423\n",
            "Epoch 3/10\n",
            "821/821 [==============================] - 15s 19ms/step - loss: 0.0025 - root_mean_squared_error: 0.0503 - val_loss: 0.0017 - val_root_mean_squared_error: 0.0413\n",
            "Epoch 4/10\n",
            "821/821 [==============================] - 15s 18ms/step - loss: 0.0024 - root_mean_squared_error: 0.0493 - val_loss: 0.0019 - val_root_mean_squared_error: 0.0439\n",
            "Epoch 5/10\n",
            "821/821 [==============================] - 14s 18ms/step - loss: 0.0024 - root_mean_squared_error: 0.0490 - val_loss: 0.0016 - val_root_mean_squared_error: 0.0396\n",
            "Epoch 6/10\n",
            "821/821 [==============================] - 15s 18ms/step - loss: 0.0023 - root_mean_squared_error: 0.0482 - val_loss: 0.0016 - val_root_mean_squared_error: 0.0396\n",
            "Epoch 7/10\n",
            "821/821 [==============================] - 15s 18ms/step - loss: 0.0023 - root_mean_squared_error: 0.0478 - val_loss: 0.0016 - val_root_mean_squared_error: 0.0394- roo - ETA: 1s - loss: 0.0023 - root_mean_\n",
            "Epoch 8/10\n",
            "821/821 [==============================] - 15s 18ms/step - loss: 0.0023 - root_mean_squared_error: 0.0476 - val_loss: 0.0015 - val_root_mean_squared_error: 0.0387\n",
            "Epoch 9/10\n",
            "821/821 [==============================] - 15s 19ms/step - loss: 0.0022 - root_mean_squared_error: 0.0471 - val_loss: 0.0015 - val_root_mean_squared_error: 0.0387\n",
            "Epoch 10/10\n",
            "821/821 [==============================] - 15s 19ms/step - loss: 0.0022 - root_mean_squared_error: 0.0470 - val_loss: 0.0015 - val_root_mean_squared_error: 0.0385\n"
          ],
          "name": "stdout"
        },
        {
          "output_type": "stream",
          "text": [
            "WARNING:absl:Found untraced functions such as lstm_cell_1716_layer_call_and_return_conditional_losses, lstm_cell_1716_layer_call_fn, lstm_cell_1716_layer_call_fn, lstm_cell_1716_layer_call_and_return_conditional_losses, lstm_cell_1716_layer_call_and_return_conditional_losses while saving (showing 5 of 5). These functions will not be directly callable after loading.\n"
          ],
          "name": "stderr"
        },
        {
          "output_type": "stream",
          "text": [
            "INFO:tensorflow:Assets written to: saved_model/cnn-lstm32meteo/model23\\assets\n"
          ],
          "name": "stdout"
        },
        {
          "output_type": "stream",
          "text": [
            "INFO:tensorflow:Assets written to: saved_model/cnn-lstm32meteo/model23\\assets\n",
            "\u001b[32m[I 2021-06-03 01:16:13,800]\u001b[0m Trial 23 finished with value: 7.707639694213867 and parameters: {'weight_decay': 2.5913297115573984e-09, 'n_units_l': 41, 'n_kernel': 3, 'dropout_l2': 0.6820566302892775, 'adam_lr': 0.001275083743063374}. Best is trial 17 with value: 7.622661113739014.\u001b[0m\n"
          ],
          "name": "stderr"
        },
        {
          "output_type": "stream",
          "text": [
            "RMSE val:  7.7076397 5.641189\n",
            "(None, 48, 9) (None, 24, 1)\n",
            "(None, 48, 9) (None, 24, 1)\n",
            "Epoch 1/10\n",
            "821/821 [==============================] - 16s 17ms/step - loss: 0.0071 - root_mean_squared_error: 0.0845 - val_loss: 0.0022 - val_root_mean_squared_error: 0.0472\n",
            "Epoch 2/10\n",
            "821/821 [==============================] - 14s 17ms/step - loss: 0.0035 - root_mean_squared_error: 0.0593 - val_loss: 0.0020 - val_root_mean_squared_error: 0.0442\n",
            "Epoch 3/10\n",
            "821/821 [==============================] - 14s 17ms/step - loss: 0.0031 - root_mean_squared_error: 0.0555 - val_loss: 0.0020 - val_root_mean_squared_error: 0.0444\n",
            "Epoch 4/10\n",
            "821/821 [==============================] - 14s 17ms/step - loss: 0.0029 - root_mean_squared_error: 0.0540 - val_loss: 0.0019 - val_root_mean_squared_error: 0.0437\n",
            "Epoch 5/10\n",
            "821/821 [==============================] - 14s 17ms/step - loss: 0.0028 - root_mean_squared_error: 0.0529 - val_loss: 0.0019 - val_root_mean_squared_error: 0.0436\n",
            "Epoch 6/10\n",
            "821/821 [==============================] - 13s 16ms/step - loss: 0.0027 - root_mean_squared_error: 0.0523 - val_loss: 0.0019 - val_root_mean_squared_error: 0.0431\n",
            "Epoch 7/10\n",
            "821/821 [==============================] - 14s 17ms/step - loss: 0.0027 - root_mean_squared_error: 0.0518 - val_loss: 0.0018 - val_root_mean_squared_error: 0.0423\n",
            "Epoch 8/10\n",
            "821/821 [==============================] - 14s 17ms/step - loss: 0.0026 - root_mean_squared_error: 0.0514 - val_loss: 0.0018 - val_root_mean_squared_error: 0.0424\n",
            "Epoch 9/10\n",
            "821/821 [==============================] - 14s 17ms/step - loss: 0.0026 - root_mean_squared_error: 0.0509 - val_loss: 0.0018 - val_root_mean_squared_error: 0.0429 6s - loss: 0.0026 - ETA: 0s - loss: 0.0026 - root_mean_squar\n"
          ],
          "name": "stdout"
        },
        {
          "output_type": "stream",
          "text": [
            "WARNING:absl:Found untraced functions such as lstm_cell_1717_layer_call_and_return_conditional_losses, lstm_cell_1717_layer_call_fn, lstm_cell_1717_layer_call_fn, lstm_cell_1717_layer_call_and_return_conditional_losses, lstm_cell_1717_layer_call_and_return_conditional_losses while saving (showing 5 of 5). These functions will not be directly callable after loading.\n"
          ],
          "name": "stderr"
        },
        {
          "output_type": "stream",
          "text": [
            "INFO:tensorflow:Assets written to: saved_model/cnn-lstm32meteo/model24\\assets\n"
          ],
          "name": "stdout"
        },
        {
          "output_type": "stream",
          "text": [
            "INFO:tensorflow:Assets written to: saved_model/cnn-lstm32meteo/model24\\assets\n",
            "\u001b[32m[I 2021-06-03 01:18:28,983]\u001b[0m Trial 24 finished with value: 8.575430870056152 and parameters: {'weight_decay': 1.915707339420452e-09, 'n_units_l': 36, 'n_kernel': 3, 'dropout_l2': 0.6756967565335985, 'adam_lr': 0.0001367205236872213}. Best is trial 17 with value: 7.622661113739014.\u001b[0m\n"
          ],
          "name": "stderr"
        },
        {
          "output_type": "stream",
          "text": [
            "RMSE val:  8.575431 6.458577\n",
            "Number of finished trials:  25\n",
            "Best trial:\n",
            "  Value:  7.622661113739014\n",
            "  Params: \n",
            "    weight_decay: 1.2772546420587624e-08\n",
            "    n_units_l: 75\n",
            "    n_kernel: 2\n",
            "    dropout_l2: 0.673931147748008\n",
            "    adam_lr: 0.0009019104089595003\n",
            "model:  cnn-lstm ; batch size:  32 ; data:  meteo\n"
          ],
          "name": "stdout"
        }
      ]
    },
    {
      "cell_type": "markdown",
      "metadata": {
        "id": "WHA1O2WbG3t1"
      },
      "source": [
        "### optuna autoencoder"
      ]
    },
    {
      "cell_type": "code",
      "metadata": {
        "colab": {
          "base_uri": "https://localhost:8080/"
        },
        "id": "xvhEblTJJa0P",
        "outputId": "427a7818-1fa4-4bbb-c496-a9ef8c95afd5"
      },
      "source": [
        "model = 'autoencoder'\n",
        "fold = 'saved_model/' + model + str(BATCH_SIZE) + zakres\n",
        "os.mkdir(fold)\n",
        "\n",
        "def create_model(trial):\n",
        "    # We optimize the numbers of layers, their units and weight decay parameter.\n",
        "\n",
        "    weight_decay = trial.suggest_float(\"weight_decay\", 1e-10, 1e-3, log=True)\n",
        "    num_hidden1 = trial.suggest_int(\"n_units_l1\", 4, 128, log=True)\n",
        "    num_hidden2 = trial.suggest_int(\"n_units_l2\", 4, 128, log=True)\n",
        "\n",
        "    model = Sequential()\n",
        "\n",
        "    model.add(LSTM(num_hidden1 , return_sequences=False))\n",
        "    model.add(RepeatVector(24))\n",
        "    model.add(LSTM(num_hidden2 , return_sequences=True))\n",
        "    model.add(Dense(1, activation='relu', kernel_regularizer=tf.keras.regularizers.l2(weight_decay)))\n",
        "\n",
        "    return model\n",
        "\n",
        "def create_optimizer(trial):\n",
        "    # We optimize the choice of optimizers as well as their parameters.\n",
        "\n",
        "    adam_lr = trial.suggest_float(\"adam_lr\", 1e-5, 1e-1, log=True)\n",
        "    return tf.keras.optimizers.Adam(learning_rate=adam_lr)\n",
        "\n",
        "\n",
        "def objective(trial):\n",
        "    \n",
        "    model = create_model(trial)\n",
        "    optimizer = create_optimizer(trial)\n",
        "\n",
        "    model.compile(loss=tf.losses.MeanSquaredError(),\n",
        "          optimizer=optimizer,\n",
        "          metrics=[tf.metrics.RootMeanSquaredError()])\n",
        " \n",
        "    early_stopping = tf.keras.callbacks.EarlyStopping(monitor='val_loss',\n",
        "                                              patience=patience, mode='min')\n",
        "\n",
        "    history = model.fit(multi_window.train, epochs=MAX_EPOCHS,\n",
        "                    validation_data=multi_window.val,\n",
        "                    callbacks=[early_stopping])\n",
        "    \n",
        "    model.save('{}/model{}'.format(fold,trial.number))\n",
        "    results = metrics(model)\n",
        "    wyniki.append(results)\n",
        "\n",
        "    return results[1]\n",
        "\n",
        "\n",
        "if __name__ == \"__main__\":\n",
        "    sampler = TPESampler(seed=2021)\n",
        "    wyniki = []\n",
        "    study = optuna.create_study(direction=\"minimize\",sampler=sampler)\n",
        "    study.optimize(objective, n_trials=25) \n",
        "\n",
        "    print(\"Number of finished trials: \", len(study.trials))\n",
        "\n",
        "    print(\"Best trial:\")\n",
        "    trial = study.best_trial\n",
        "\n",
        "    print(\"  Value: \", trial.value)\n",
        "\n",
        "    print(\"  Params: \")\n",
        "    for key, value in trial.params.items():\n",
        "        print(\"    {}: {}\".format(key, value))\n",
        "        \n",
        "    print(\"model: \", model, \"; batch size: \", BATCH_SIZE , \"; data: \", zakres  )\n",
        "    \n",
        "    \n",
        "file = open(\"trials_4{}_{}_{}.txt\".format(model,BATCH_SIZE, zakres),\"w\")\n",
        "file.write(\"study trials: \\n\")\n",
        "file.writelines(str(study.trials))\n",
        "file.write(\"\\nBATCH_SIZE:\" + str(BATCH_SIZE))\n",
        "file.write(\"\\nDATA:\" + str(do_modelu))\n",
        "file.write(\"\\nbest trial: \\n\")\n",
        "file.writelines(str(study.best_trial))\n",
        "file.close()\n",
        "\n",
        "df_wyniki=pd.DataFrame()\n",
        "df_wyniki['RMSE_train'] = [item[0] for item in wyniki]\n",
        "df_wyniki['RMSE_val'] = [item[1] for item in wyniki]\n",
        "df_wyniki['RMSE_test'] = [item[2] for item in wyniki]\n",
        "df_wyniki['MAE_train'] = [item[3] for item in wyniki]\n",
        "df_wyniki['MAE_val'] = [item[4] for item in wyniki]\n",
        "df_wyniki['MAE_test'] = [item[5] for item in wyniki]\n",
        "df_wyniki.to_csv('wyniki_4{}_batch{}_{}.csv'.format(model, BATCH_SIZE,zakres))  \n",
        "\n",
        "for mod in os.listdir(fold):\n",
        "    if int(mod[5:]) == trial.number:\n",
        "        os.rename(fold + \"/\" + mod, fold + \"/best_\" + mod)"
      ],
      "execution_count": null,
      "outputs": [
        {
          "output_type": "stream",
          "text": [
            "\u001b[32m[I 2021-06-03 01:18:29,064]\u001b[0m A new study created in memory with name: no-name-f660e117-b94f-4a14-949f-0c3101442de3\u001b[0m\n"
          ],
          "name": "stderr"
        },
        {
          "output_type": "stream",
          "text": [
            "(None, 48, 9) (None, 24, 1)\n",
            "(None, 48, 9) (None, 24, 1)\n",
            "Epoch 1/10\n",
            "821/821 [==============================] - 38s 42ms/step - loss: 0.0039 - root_mean_squared_error: 0.0622 - val_loss: 0.0021 - val_root_mean_squared_error: 0.0453\n",
            "Epoch 2/10\n",
            "821/821 [==============================] - 33s 40ms/step - loss: 0.0026 - root_mean_squared_error: 0.0512 - val_loss: 0.0020 - val_root_mean_squared_error: 0.0449\n",
            "Epoch 3/10\n",
            "821/821 [==============================] - 33s 40ms/step - loss: 0.0025 - root_mean_squared_error: 0.0498 - val_loss: 0.0020 - val_root_mean_squared_error: 0.0445\n",
            "Epoch 4/10\n",
            "821/821 [==============================] - 32s 39ms/step - loss: 0.0024 - root_mean_squared_error: 0.0490 - val_loss: 0.0019 - val_root_mean_squared_error: 0.0435\n",
            "Epoch 5/10\n",
            "821/821 [==============================] - 33s 40ms/step - loss: 0.0023 - root_mean_squared_error: 0.0484 - val_loss: 0.0019 - val_root_mean_squared_error: 0.0433\n",
            "Epoch 6/10\n",
            "821/821 [==============================] - 32s 39ms/step - loss: 0.0023 - root_mean_squared_error: 0.0479 - val_loss: 0.0019 - val_root_mean_squared_error: 0.0433\n",
            "Epoch 7/10\n",
            "821/821 [==============================] - 32s 39ms/step - loss: 0.0022 - root_mean_squared_error: 0.0473 - val_loss: 0.0018 - val_root_mean_squared_error: 0.0422\n",
            "Epoch 8/10\n",
            "821/821 [==============================] - 32s 39ms/step - loss: 0.0022 - root_mean_squared_error: 0.0468 - val_loss: 0.0018 - val_root_mean_squared_error: 0.0426\n",
            "Epoch 9/10\n",
            "821/821 [==============================] - 33s 40ms/step - loss: 0.0021 - root_mean_squared_error: 0.0461 - val_loss: 0.0018 - val_root_mean_squared_error: 0.0422\n"
          ],
          "name": "stdout"
        },
        {
          "output_type": "stream",
          "text": [
            "WARNING:absl:Found untraced functions such as lstm_cell_1718_layer_call_and_return_conditional_losses, lstm_cell_1718_layer_call_fn, lstm_cell_1719_layer_call_and_return_conditional_losses, lstm_cell_1719_layer_call_fn, lstm_cell_1718_layer_call_fn while saving (showing 5 of 10). These functions will not be directly callable after loading.\n"
          ],
          "name": "stderr"
        },
        {
          "output_type": "stream",
          "text": [
            "INFO:tensorflow:Assets written to: saved_model/autoencoder32meteo/model0\\assets\n"
          ],
          "name": "stdout"
        },
        {
          "output_type": "stream",
          "text": [
            "INFO:tensorflow:Assets written to: saved_model/autoencoder32meteo/model0\\assets\n",
            "\u001b[32m[I 2021-06-03 01:23:42,177]\u001b[0m Trial 0 finished with value: 8.441183090209961 and parameters: {'weight_decay': 1.7452110401305704e-06, 'n_units_l1': 49, 'n_units_l2': 6, 'adam_lr': 0.0001781116534919438}. Best is trial 0 with value: 8.441183090209961.\u001b[0m\n"
          ],
          "name": "stderr"
        },
        {
          "output_type": "stream",
          "text": [
            "RMSE val:  8.441183 6.323018\n",
            "(None, 48, 9) (None, 24, 1)\n",
            "(None, 48, 9) (None, 24, 1)\n",
            "Epoch 1/10\n",
            "821/821 [==============================] - 24s 26ms/step - loss: 0.0030 - root_mean_squared_error: 0.0530 - val_loss: 0.0019 - val_root_mean_squared_error: 0.0435\n",
            "Epoch 2/10\n",
            "821/821 [==============================] - 20s 25ms/step - loss: 0.0024 - root_mean_squared_error: 0.0489 - val_loss: 0.0019 - val_root_mean_squared_error: 0.0430\n",
            "Epoch 3/10\n",
            "821/821 [==============================] - 20s 24ms/step - loss: 0.0024 - root_mean_squared_error: 0.0482 - val_loss: 0.0019 - val_root_mean_squared_error: 0.0432\n",
            "Epoch 4/10\n",
            "821/821 [==============================] - 19s 24ms/step - loss: 0.0023 - root_mean_squared_error: 0.0476 - val_loss: 0.0017 - val_root_mean_squared_error: 0.0409\n",
            "Epoch 5/10\n",
            "821/821 [==============================] - 20s 24ms/step - loss: 0.0022 - root_mean_squared_error: 0.0470 - val_loss: 0.0016 - val_root_mean_squared_error: 0.0399\n",
            "Epoch 6/10\n",
            "821/821 [==============================] - 20s 25ms/step - loss: 0.0022 - root_mean_squared_error: 0.0464 - val_loss: 0.0017 - val_root_mean_squared_error: 0.0404\n",
            "Epoch 7/10\n",
            "821/821 [==============================] - 21s 25ms/step - loss: 0.0021 - root_mean_squared_error: 0.0457 - val_loss: 0.0017 - val_root_mean_squared_error: 0.0405\n"
          ],
          "name": "stdout"
        },
        {
          "output_type": "stream",
          "text": [
            "WARNING:absl:Found untraced functions such as lstm_cell_1720_layer_call_and_return_conditional_losses, lstm_cell_1720_layer_call_fn, lstm_cell_1721_layer_call_and_return_conditional_losses, lstm_cell_1721_layer_call_fn, lstm_cell_1720_layer_call_fn while saving (showing 5 of 10). These functions will not be directly callable after loading.\n"
          ],
          "name": "stderr"
        },
        {
          "output_type": "stream",
          "text": [
            "INFO:tensorflow:Assets written to: saved_model/autoencoder32meteo/model1\\assets\n"
          ],
          "name": "stdout"
        },
        {
          "output_type": "stream",
          "text": [
            "INFO:tensorflow:Assets written to: saved_model/autoencoder32meteo/model1\\assets\n",
            "\u001b[32m[I 2021-06-03 01:26:20,516]\u001b[0m Trial 1 finished with value: 8.090742111206055 and parameters: {'weight_decay': 0.0009565396334581948, 'n_units_l1': 6, 'n_units_l2': 7, 'adam_lr': 0.010273104718582329}. Best is trial 1 with value: 8.090742111206055.\u001b[0m\n"
          ],
          "name": "stderr"
        },
        {
          "output_type": "stream",
          "text": [
            "RMSE val:  8.090742 6.0932198\n",
            "(None, 48, 9) (None, 24, 1)\n",
            "(None, 48, 9) (None, 24, 1)\n",
            "Epoch 1/10\n",
            "821/821 [==============================] - 41s 45ms/step - loss: 0.0048 - root_mean_squared_error: 0.0690 - val_loss: 0.0025 - val_root_mean_squared_error: 0.0504\n",
            "Epoch 2/10\n",
            "821/821 [==============================] - 37s 44ms/step - loss: 0.0033 - root_mean_squared_error: 0.0576 - val_loss: 0.0022 - val_root_mean_squared_error: 0.0470\n",
            "Epoch 3/10\n",
            "821/821 [==============================] - 37s 45ms/step - loss: 0.0030 - root_mean_squared_error: 0.0543 - val_loss: 0.0021 - val_root_mean_squared_error: 0.0456\n",
            "Epoch 4/10\n",
            "821/821 [==============================] - 37s 45ms/step - loss: 0.0028 - root_mean_squared_error: 0.0528 - val_loss: 0.0020 - val_root_mean_squared_error: 0.0451\n",
            "Epoch 5/10\n",
            "821/821 [==============================] - 38s 46ms/step - loss: 0.0027 - root_mean_squared_error: 0.0518 - val_loss: 0.0020 - val_root_mean_squared_error: 0.0449\n",
            "Epoch 6/10\n",
            "821/821 [==============================] - 37s 45ms/step - loss: 0.0026 - root_mean_squared_error: 0.0512 - val_loss: 0.0020 - val_root_mean_squared_error: 0.0444\n",
            "Epoch 7/10\n",
            "821/821 [==============================] - 37s 44ms/step - loss: 0.0026 - root_mean_squared_error: 0.0507 - val_loss: 0.0020 - val_root_mean_squared_error: 0.0444\n",
            "Epoch 8/10\n",
            "821/821 [==============================] - 37s 45ms/step - loss: 0.0025 - root_mean_squared_error: 0.0503 - val_loss: 0.0020 - val_root_mean_squared_error: 0.0442\n",
            "Epoch 9/10\n",
            "821/821 [==============================] - 37s 45ms/step - loss: 0.0025 - root_mean_squared_error: 0.0500 - val_loss: 0.0020 - val_root_mean_squared_error: 0.0445\n",
            "Epoch 10/10\n",
            "821/821 [==============================] - 37s 45ms/step - loss: 0.0025 - root_mean_squared_error: 0.0498 - val_loss: 0.0019 - val_root_mean_squared_error: 0.0441\n"
          ],
          "name": "stdout"
        },
        {
          "output_type": "stream",
          "text": [
            "WARNING:absl:Found untraced functions such as lstm_cell_1722_layer_call_and_return_conditional_losses, lstm_cell_1722_layer_call_fn, lstm_cell_1723_layer_call_and_return_conditional_losses, lstm_cell_1723_layer_call_fn, lstm_cell_1722_layer_call_fn while saving (showing 5 of 10). These functions will not be directly callable after loading.\n"
          ],
          "name": "stderr"
        },
        {
          "output_type": "stream",
          "text": [
            "INFO:tensorflow:Assets written to: saved_model/autoencoder32meteo/model2\\assets\n"
          ],
          "name": "stdout"
        },
        {
          "output_type": "stream",
          "text": [
            "INFO:tensorflow:Assets written to: saved_model/autoencoder32meteo/model2\\assets\n",
            "\u001b[32m[I 2021-06-03 01:32:52,543]\u001b[0m Trial 2 finished with value: 8.813804626464844 and parameters: {'weight_decay': 4.316419045920484e-06, 'n_units_l1': 59, 'n_units_l2': 5, 'adam_lr': 1.7150829926878746e-05}. Best is trial 1 with value: 8.090742111206055.\u001b[0m\n"
          ],
          "name": "stderr"
        },
        {
          "output_type": "stream",
          "text": [
            "RMSE val:  8.813805 6.5895457\n",
            "(None, 48, 9) (None, 24, 1)\n",
            "(None, 48, 9) (None, 24, 1)\n",
            "Epoch 1/10\n",
            "821/821 [==============================] - 29s 32ms/step - loss: 0.0032 - root_mean_squared_error: 0.0531 - val_loss: 0.0021 - val_root_mean_squared_error: 0.0425\n",
            "Epoch 2/10\n",
            "821/821 [==============================] - 25s 30ms/step - loss: 0.0025 - root_mean_squared_error: 0.0482 - val_loss: 0.0019 - val_root_mean_squared_error: 0.0420\n",
            "Epoch 3/10\n",
            "821/821 [==============================] - 26s 31ms/step - loss: 0.0023 - root_mean_squared_error: 0.0467 - val_loss: 0.0018 - val_root_mean_squared_error: 0.0413\n",
            "Epoch 4/10\n",
            "821/821 [==============================] - 25s 30ms/step - loss: 0.0022 - root_mean_squared_error: 0.0458 - val_loss: 0.0017 - val_root_mean_squared_error: 0.0403\n",
            "Epoch 5/10\n",
            "821/821 [==============================] - 25s 30ms/step - loss: 0.0021 - root_mean_squared_error: 0.0450 - val_loss: 0.0017 - val_root_mean_squared_error: 0.0404\n",
            "Epoch 6/10\n",
            "821/821 [==============================] - 25s 30ms/step - loss: 0.0020 - root_mean_squared_error: 0.0439 - val_loss: 0.0017 - val_root_mean_squared_error: 0.0403\n",
            "Epoch 7/10\n",
            "821/821 [==============================] - 25s 31ms/step - loss: 0.0019 - root_mean_squared_error: 0.0427 - val_loss: 0.0016 - val_root_mean_squared_error: 0.0393\n",
            "Epoch 8/10\n",
            "821/821 [==============================] - 24s 30ms/step - loss: 0.0018 - root_mean_squared_error: 0.0415 - val_loss: 0.0016 - val_root_mean_squared_error: 0.0399\n",
            "Epoch 9/10\n",
            "821/821 [==============================] - 25s 30ms/step - loss: 0.0017 - root_mean_squared_error: 0.0406 - val_loss: 0.0015 - val_root_mean_squared_error: 0.0383\n",
            "Epoch 10/10\n",
            "821/821 [==============================] - 25s 30ms/step - loss: 0.0016 - root_mean_squared_error: 0.0394 - val_loss: 0.0015 - val_root_mean_squared_error: 0.0388\n"
          ],
          "name": "stdout"
        },
        {
          "output_type": "stream",
          "text": [
            "WARNING:absl:Found untraced functions such as lstm_cell_1724_layer_call_and_return_conditional_losses, lstm_cell_1724_layer_call_fn, lstm_cell_1725_layer_call_and_return_conditional_losses, lstm_cell_1725_layer_call_fn, lstm_cell_1724_layer_call_fn while saving (showing 5 of 10). These functions will not be directly callable after loading.\n"
          ],
          "name": "stderr"
        },
        {
          "output_type": "stream",
          "text": [
            "INFO:tensorflow:Assets written to: saved_model/autoencoder32meteo/model3\\assets\n"
          ],
          "name": "stdout"
        },
        {
          "output_type": "stream",
          "text": [
            "INFO:tensorflow:Assets written to: saved_model/autoencoder32meteo/model3\\assets\n",
            "\u001b[32m[I 2021-06-03 01:37:19,443]\u001b[0m Trial 3 finished with value: 7.769861221313477 and parameters: {'weight_decay': 0.0005454713331247908, 'n_units_l1': 32, 'n_units_l2': 5, 'adam_lr': 0.0017582857241627771}. Best is trial 3 with value: 7.769861221313477.\u001b[0m\n"
          ],
          "name": "stderr"
        },
        {
          "output_type": "stream",
          "text": [
            "RMSE val:  7.769861 5.6629467\n",
            "(None, 48, 9) (None, 24, 1)\n",
            "(None, 48, 9) (None, 24, 1)\n",
            "Epoch 1/10\n",
            "821/821 [==============================] - 80s 94ms/step - loss: 0.0030 - root_mean_squared_error: 0.0546 - val_loss: 0.0019 - val_root_mean_squared_error: 0.0432\n",
            "Epoch 2/10\n",
            "821/821 [==============================] - 78s 95ms/step - loss: 0.0024 - root_mean_squared_error: 0.0488 - val_loss: 0.0018 - val_root_mean_squared_error: 0.0419\n",
            "Epoch 3/10\n",
            "821/821 [==============================] - 79s 96ms/step - loss: 0.0022 - root_mean_squared_error: 0.0466 - val_loss: 0.0017 - val_root_mean_squared_error: 0.0413\n",
            "Epoch 4/10\n",
            "821/821 [==============================] - 83s 101ms/step - loss: 0.0020 - root_mean_squared_error: 0.0442 - val_loss: 0.0017 - val_root_mean_squared_error: 0.0409\n",
            "Epoch 5/10\n",
            "821/821 [==============================] - 82s 100ms/step - loss: 0.0019 - root_mean_squared_error: 0.0431 - val_loss: 0.0016 - val_root_mean_squared_error: 0.0401\n",
            "Epoch 6/10\n",
            "821/821 [==============================] - 77s 94ms/step - loss: 0.0018 - root_mean_squared_error: 0.0421 - val_loss: 0.0017 - val_root_mean_squared_error: 0.0407\n",
            "Epoch 7/10\n",
            "821/821 [==============================] - 77s 94ms/step - loss: 0.0017 - root_mean_squared_error: 0.0409 - val_loss: 0.0016 - val_root_mean_squared_error: 0.0397\n",
            "Epoch 8/10\n",
            "821/821 [==============================] - 77s 93ms/step - loss: 0.0016 - root_mean_squared_error: 0.0402 - val_loss: 0.0016 - val_root_mean_squared_error: 0.0405\n",
            "Epoch 9/10\n",
            "821/821 [==============================] - 78s 95ms/step - loss: 0.0015 - root_mean_squared_error: 0.0391 - val_loss: 0.0016 - val_root_mean_squared_error: 0.0398\n"
          ],
          "name": "stdout"
        },
        {
          "output_type": "stream",
          "text": [
            "WARNING:absl:Found untraced functions such as lstm_cell_1726_layer_call_and_return_conditional_losses, lstm_cell_1726_layer_call_fn, lstm_cell_1727_layer_call_and_return_conditional_losses, lstm_cell_1727_layer_call_fn, lstm_cell_1726_layer_call_fn while saving (showing 5 of 10). These functions will not be directly callable after loading.\n"
          ],
          "name": "stderr"
        },
        {
          "output_type": "stream",
          "text": [
            "INFO:tensorflow:Assets written to: saved_model/autoencoder32meteo/model4\\assets\n"
          ],
          "name": "stdout"
        },
        {
          "output_type": "stream",
          "text": [
            "INFO:tensorflow:Assets written to: saved_model/autoencoder32meteo/model4\\assets\n",
            "\u001b[32m[I 2021-06-03 01:49:34,456]\u001b[0m Trial 4 finished with value: 7.95517110824585 and parameters: {'weight_decay': 2.068583043230336e-06, 'n_units_l1': 113, 'n_units_l2': 28, 'adam_lr': 0.00030524136896086646}. Best is trial 3 with value: 7.769861221313477.\u001b[0m\n"
          ],
          "name": "stderr"
        },
        {
          "output_type": "stream",
          "text": [
            "RMSE val:  7.955171 5.538459\n",
            "(None, 48, 9) (None, 24, 1)\n",
            "(None, 48, 9) (None, 24, 1)\n",
            "Epoch 1/10\n",
            "821/821 [==============================] - 24s 26ms/step - loss: 0.0056 - root_mean_squared_error: 0.0750 - val_loss: 0.0031 - val_root_mean_squared_error: 0.0561\n",
            "Epoch 2/10\n",
            "821/821 [==============================] - 20s 25ms/step - loss: 0.0037 - root_mean_squared_error: 0.0611 - val_loss: 0.0026 - val_root_mean_squared_error: 0.0511\n",
            "Epoch 3/10\n",
            "821/821 [==============================] - 20s 24ms/step - loss: 0.0033 - root_mean_squared_error: 0.0575 - val_loss: 0.0024 - val_root_mean_squared_error: 0.0494oss: 0.0033 - root_mean_square\n",
            "Epoch 4/10\n",
            "821/821 [==============================] - 21s 25ms/step - loss: 0.0031 - root_mean_squared_error: 0.0554 - val_loss: 0.0023 - val_root_mean_squared_error: 0.0482\n",
            "Epoch 5/10\n",
            "821/821 [==============================] - 20s 25ms/step - loss: 0.0029 - root_mean_squared_error: 0.0540 - val_loss: 0.0023 - val_root_mean_squared_error: 0.0475\n",
            "Epoch 6/10\n",
            "821/821 [==============================] - 20s 24ms/step - loss: 0.0028 - root_mean_squared_error: 0.0529 - val_loss: 0.0022 - val_root_mean_squared_error: 0.0466\n",
            "Epoch 7/10\n",
            "821/821 [==============================] - 22s 27ms/step - loss: 0.0027 - root_mean_squared_error: 0.0521 - val_loss: 0.0021 - val_root_mean_squared_error: 0.0459\n",
            "Epoch 8/10\n",
            "821/821 [==============================] - 20s 25ms/step - loss: 0.0026 - root_mean_squared_error: 0.0514 - val_loss: 0.0021 - val_root_mean_squared_error: 0.0455\n",
            "Epoch 9/10\n",
            "821/821 [==============================] - 20s 25ms/step - loss: 0.0026 - root_mean_squared_error: 0.0509 - val_loss: 0.0020 - val_root_mean_squared_error: 0.0452\n",
            "Epoch 10/10\n",
            "821/821 [==============================] - 21s 25ms/step - loss: 0.0026 - root_mean_squared_error: 0.0505 - val_loss: 0.0021 - val_root_mean_squared_error: 0.0453\n"
          ],
          "name": "stdout"
        },
        {
          "output_type": "stream",
          "text": [
            "WARNING:absl:Found untraced functions such as lstm_cell_1728_layer_call_and_return_conditional_losses, lstm_cell_1728_layer_call_fn, lstm_cell_1729_layer_call_and_return_conditional_losses, lstm_cell_1729_layer_call_fn, lstm_cell_1728_layer_call_fn while saving (showing 5 of 10). These functions will not be directly callable after loading.\n"
          ],
          "name": "stderr"
        },
        {
          "output_type": "stream",
          "text": [
            "INFO:tensorflow:Assets written to: saved_model/autoencoder32meteo/model5\\assets\n"
          ],
          "name": "stdout"
        },
        {
          "output_type": "stream",
          "text": [
            "INFO:tensorflow:Assets written to: saved_model/autoencoder32meteo/model5\\assets\n",
            "\u001b[32m[I 2021-06-03 01:53:16,038]\u001b[0m Trial 5 finished with value: 9.057729721069336 and parameters: {'weight_decay': 1.4622334228624528e-07, 'n_units_l1': 7, 'n_units_l2': 27, 'adam_lr': 6.0309245793449296e-05}. Best is trial 3 with value: 7.769861221313477.\u001b[0m\n"
          ],
          "name": "stderr"
        },
        {
          "output_type": "stream",
          "text": [
            "RMSE val:  9.05773 6.842862\n",
            "(None, 48, 9) (None, 24, 1)\n",
            "(None, 48, 9) (None, 24, 1)\n",
            "Epoch 1/10\n",
            "821/821 [==============================] - 24s 26ms/step - loss: 0.0170 - root_mean_squared_error: 0.1302 - val_loss: 0.0096 - val_root_mean_squared_error: 0.0979\n",
            "Epoch 2/10\n",
            "821/821 [==============================] - 22s 26ms/step - loss: 0.0159 - root_mean_squared_error: 0.1259 - val_loss: 0.0096 - val_root_mean_squared_error: 0.0979\n",
            "Epoch 3/10\n",
            "821/821 [==============================] - 22s 27ms/step - loss: 0.0159 - root_mean_squared_error: 0.1259 - val_loss: 0.0096 - val_root_mean_squared_error: 0.0979\n",
            "Epoch 4/10\n",
            "821/821 [==============================] - 21s 26ms/step - loss: 0.0159 - root_mean_squared_error: 0.1259 - val_loss: 0.0096 - val_root_mean_squared_error: 0.0979\n",
            "Epoch 5/10\n",
            "821/821 [==============================] - 22s 27ms/step - loss: 0.0159 - root_mean_squared_error: 0.1259 - val_loss: 0.0096 - val_root_mean_squared_error: 0.0979\n",
            "Epoch 6/10\n",
            "821/821 [==============================] - 21s 25ms/step - loss: 0.0159 - root_mean_squared_error: 0.1259 - val_loss: 0.0096 - val_root_mean_squared_error: 0.0979\n",
            "Epoch 7/10\n",
            "821/821 [==============================] - 21s 26ms/step - loss: 0.0159 - root_mean_squared_error: 0.1259 - val_loss: 0.0096 - val_root_mean_squared_error: 0.0979\n",
            "Epoch 8/10\n",
            "821/821 [==============================] - 21s 26ms/step - loss: 0.0159 - root_mean_squared_error: 0.1259 - val_loss: 0.0096 - val_root_mean_squared_error: 0.0979root - ETA: 0s - loss: 0.0159 - root_mean_squared_er\n",
            "Epoch 9/10\n",
            "821/821 [==============================] - 21s 26ms/step - loss: 0.0159 - root_mean_squared_error: 0.1259 - val_loss: 0.0096 - val_root_mean_squared_error: 0.0979\n",
            "Epoch 10/10\n",
            "821/821 [==============================] - 21s 25ms/step - loss: 0.0159 - root_mean_squared_error: 0.1259 - val_loss: 0.0096 - val_root_mean_squared_error: 0.0979\n"
          ],
          "name": "stdout"
        },
        {
          "output_type": "stream",
          "text": [
            "WARNING:absl:Found untraced functions such as lstm_cell_1730_layer_call_and_return_conditional_losses, lstm_cell_1730_layer_call_fn, lstm_cell_1731_layer_call_and_return_conditional_losses, lstm_cell_1731_layer_call_fn, lstm_cell_1730_layer_call_fn while saving (showing 5 of 10). These functions will not be directly callable after loading.\n"
          ],
          "name": "stderr"
        },
        {
          "output_type": "stream",
          "text": [
            "INFO:tensorflow:Assets written to: saved_model/autoencoder32meteo/model6\\assets\n"
          ],
          "name": "stdout"
        },
        {
          "output_type": "stream",
          "text": [
            "INFO:tensorflow:Assets written to: saved_model/autoencoder32meteo/model6\\assets\n",
            "\u001b[32m[I 2021-06-03 01:57:06,034]\u001b[0m Trial 6 finished with value: 19.589365005493164 and parameters: {'weight_decay': 1.218787844788821e-06, 'n_units_l1': 19, 'n_units_l2': 23, 'adam_lr': 0.01960624999185438}. Best is trial 3 with value: 7.769861221313477.\u001b[0m\n"
          ],
          "name": "stderr"
        },
        {
          "output_type": "stream",
          "text": [
            "RMSE val:  19.589365 15.989601\n",
            "(None, 48, 9) (None, 24, 1)\n",
            "(None, 48, 9) (None, 24, 1)\n",
            "Epoch 1/10\n",
            "821/821 [==============================] - 26s 29ms/step - loss: 0.0029 - root_mean_squared_error: 0.0539 - val_loss: 0.0019 - val_root_mean_squared_error: 0.0437\n",
            "Epoch 2/10\n",
            "821/821 [==============================] - 24s 29ms/step - loss: 0.0024 - root_mean_squared_error: 0.0487 - val_loss: 0.0020 - val_root_mean_squared_error: 0.0451\n",
            "Epoch 3/10\n",
            "821/821 [==============================] - 24s 29ms/step - loss: 0.0023 - root_mean_squared_error: 0.0476 - val_loss: 0.0018 - val_root_mean_squared_error: 0.0419\n",
            "Epoch 4/10\n",
            "821/821 [==============================] - 23s 29ms/step - loss: 0.0022 - root_mean_squared_error: 0.0466 - val_loss: 0.0017 - val_root_mean_squared_error: 0.0416\n",
            "Epoch 5/10\n",
            "821/821 [==============================] - 25s 30ms/step - loss: 0.0021 - root_mean_squared_error: 0.0459 - val_loss: 0.0016 - val_root_mean_squared_error: 0.0402\n",
            "Epoch 6/10\n",
            "821/821 [==============================] - 24s 29ms/step - loss: 0.0021 - root_mean_squared_error: 0.0455 - val_loss: 0.0017 - val_root_mean_squared_error: 0.0407\n",
            "Epoch 7/10\n",
            "821/821 [==============================] - 25s 30ms/step - loss: 0.0020 - root_mean_squared_error: 0.0450 - val_loss: 0.0015 - val_root_mean_squared_error: 0.0391\n",
            "Epoch 8/10\n",
            "821/821 [==============================] - 24s 29ms/step - loss: 0.0020 - root_mean_squared_error: 0.0448 - val_loss: 0.0015 - val_root_mean_squared_error: 0.0388\n",
            "Epoch 9/10\n",
            "821/821 [==============================] - 23s 29ms/step - loss: 0.0020 - root_mean_squared_error: 0.0446 - val_loss: 0.0015 - val_root_mean_squared_error: 0.0386\n",
            "Epoch 10/10\n",
            "821/821 [==============================] - 24s 30ms/step - loss: 0.0020 - root_mean_squared_error: 0.0445 - val_loss: 0.0016 - val_root_mean_squared_error: 0.0393\n"
          ],
          "name": "stdout"
        },
        {
          "output_type": "stream",
          "text": [
            "WARNING:absl:Found untraced functions such as lstm_cell_1732_layer_call_and_return_conditional_losses, lstm_cell_1732_layer_call_fn, lstm_cell_1733_layer_call_and_return_conditional_losses, lstm_cell_1733_layer_call_fn, lstm_cell_1732_layer_call_fn while saving (showing 5 of 10). These functions will not be directly callable after loading.\n"
          ],
          "name": "stderr"
        },
        {
          "output_type": "stream",
          "text": [
            "INFO:tensorflow:Assets written to: saved_model/autoencoder32meteo/model7\\assets\n"
          ],
          "name": "stdout"
        },
        {
          "output_type": "stream",
          "text": [
            "INFO:tensorflow:Assets written to: saved_model/autoencoder32meteo/model7\\assets\n",
            "\u001b[32m[I 2021-06-03 02:01:21,202]\u001b[0m Trial 7 finished with value: 7.865293502807617 and parameters: {'weight_decay': 1.3352887455383806e-05, 'n_units_l1': 4, 'n_units_l2': 39, 'adam_lr': 0.0037492053266503823}. Best is trial 3 with value: 7.769861221313477.\u001b[0m\n"
          ],
          "name": "stderr"
        },
        {
          "output_type": "stream",
          "text": [
            "RMSE val:  7.8652935 5.640848\n",
            "(None, 48, 9) (None, 24, 1)\n",
            "(None, 48, 9) (None, 24, 1)\n",
            "Epoch 1/10\n",
            "821/821 [==============================] - 25s 27ms/step - loss: 0.0032 - root_mean_squared_error: 0.0560 - val_loss: 0.0020 - val_root_mean_squared_error: 0.0441\n",
            "Epoch 2/10\n",
            "821/821 [==============================] - 22s 27ms/step - loss: 0.0025 - root_mean_squared_error: 0.0495 - val_loss: 0.0023 - val_root_mean_squared_error: 0.0480\n",
            "Epoch 3/10\n",
            "821/821 [==============================] - 22s 27ms/step - loss: 0.0023 - root_mean_squared_error: 0.0478 - val_loss: 0.0023 - val_root_mean_squared_error: 0.0474\n"
          ],
          "name": "stdout"
        },
        {
          "output_type": "stream",
          "text": [
            "WARNING:absl:Found untraced functions such as lstm_cell_1734_layer_call_and_return_conditional_losses, lstm_cell_1734_layer_call_fn, lstm_cell_1735_layer_call_and_return_conditional_losses, lstm_cell_1735_layer_call_fn, lstm_cell_1734_layer_call_fn while saving (showing 5 of 10). These functions will not be directly callable after loading.\n"
          ],
          "name": "stderr"
        },
        {
          "output_type": "stream",
          "text": [
            "INFO:tensorflow:Assets written to: saved_model/autoencoder32meteo/model8\\assets\n"
          ],
          "name": "stdout"
        },
        {
          "output_type": "stream",
          "text": [
            "INFO:tensorflow:Assets written to: saved_model/autoencoder32meteo/model8\\assets\n",
            "\u001b[32m[I 2021-06-03 02:02:43,493]\u001b[0m Trial 8 finished with value: 9.48320484161377 and parameters: {'weight_decay': 6.253175128033883e-05, 'n_units_l1': 7, 'n_units_l2': 32, 'adam_lr': 0.0029566781243558268}. Best is trial 3 with value: 7.769861221313477.\u001b[0m\n"
          ],
          "name": "stderr"
        },
        {
          "output_type": "stream",
          "text": [
            "RMSE val:  9.483205 7.5250406\n",
            "(None, 48, 9) (None, 24, 1)\n",
            "(None, 48, 9) (None, 24, 1)\n",
            "Epoch 1/10\n",
            "821/821 [==============================] - 60s 69ms/step - loss: 0.0191 - root_mean_squared_error: 0.1383 - val_loss: 0.0039 - val_root_mean_squared_error: 0.0625\n",
            "Epoch 2/10\n",
            "821/821 [==============================] - 57s 70ms/step - loss: 0.0060 - root_mean_squared_error: 0.0773 - val_loss: 0.0036 - val_root_mean_squared_error: 0.0599\n",
            "Epoch 3/10\n",
            "821/821 [==============================] - 56s 68ms/step - loss: 0.0061 - root_mean_squared_error: 0.0779 - val_loss: 0.0060 - val_root_mean_squared_error: 0.0775 0.0061 - root_mean_squared_error: 0.\n",
            "Epoch 4/10\n",
            "821/821 [==============================] - 56s 68ms/step - loss: 0.0057 - root_mean_squared_error: 0.0755 - val_loss: 0.0054 - val_root_mean_squared_error: 0.0735\n"
          ],
          "name": "stdout"
        },
        {
          "output_type": "stream",
          "text": [
            "WARNING:absl:Found untraced functions such as lstm_cell_1736_layer_call_and_return_conditional_losses, lstm_cell_1736_layer_call_fn, lstm_cell_1737_layer_call_and_return_conditional_losses, lstm_cell_1737_layer_call_fn, lstm_cell_1736_layer_call_fn while saving (showing 5 of 10). These functions will not be directly callable after loading.\n"
          ],
          "name": "stderr"
        },
        {
          "output_type": "stream",
          "text": [
            "INFO:tensorflow:Assets written to: saved_model/autoencoder32meteo/model9\\assets\n"
          ],
          "name": "stdout"
        },
        {
          "output_type": "stream",
          "text": [
            "INFO:tensorflow:Assets written to: saved_model/autoencoder32meteo/model9\\assets\n",
            "\u001b[32m[I 2021-06-03 02:06:52,803]\u001b[0m Trial 9 finished with value: 14.697184562683105 and parameters: {'weight_decay': 1.280797128821542e-08, 'n_units_l1': 81, 'n_units_l2': 29, 'adam_lr': 0.08454352866024936}. Best is trial 3 with value: 7.769861221313477.\u001b[0m\n"
          ],
          "name": "stderr"
        },
        {
          "output_type": "stream",
          "text": [
            "RMSE val:  14.697185 12.87279\n",
            "(None, 48, 9) (None, 24, 1)\n",
            "(None, 48, 9) (None, 24, 1)\n",
            "Epoch 1/10\n",
            "821/821 [==============================] - 25s 27ms/step - loss: 0.0059 - root_mean_squared_error: 0.0738 - val_loss: 0.0023 - val_root_mean_squared_error: 0.0443\n",
            "Epoch 2/10\n",
            "821/821 [==============================] - 21s 25ms/step - loss: 0.0027 - root_mean_squared_error: 0.0493 - val_loss: 0.0021 - val_root_mean_squared_error: 0.0436\n",
            "Epoch 3/10\n",
            "821/821 [==============================] - 22s 26ms/step - loss: 0.0024 - root_mean_squared_error: 0.0481 - val_loss: 0.0019 - val_root_mean_squared_error: 0.04280.0025 - r\n",
            "Epoch 4/10\n",
            "821/821 [==============================] - 22s 26ms/step - loss: 0.0023 - root_mean_squared_error: 0.0469 - val_loss: 0.0018 - val_root_mean_squared_error: 0.0418\n",
            "Epoch 5/10\n",
            "821/821 [==============================] - 23s 28ms/step - loss: 0.0021 - root_mean_squared_error: 0.0455 - val_loss: 0.0017 - val_root_mean_squared_error: 0.0406\n",
            "Epoch 6/10\n",
            "821/821 [==============================] - 23s 28ms/step - loss: 0.0020 - root_mean_squared_error: 0.0439 - val_loss: 0.0017 - val_root_mean_squared_error: 0.0400\n",
            "Epoch 7/10\n",
            "821/821 [==============================] - 22s 27ms/step - loss: 0.0019 - root_mean_squared_error: 0.0429 - val_loss: 0.0016 - val_root_mean_squared_error: 0.0389\n",
            "Epoch 8/10\n",
            "821/821 [==============================] - 21s 25ms/step - loss: 0.0018 - root_mean_squared_error: 0.0422 - val_loss: 0.0015 - val_root_mean_squared_error: 0.0387\n",
            "Epoch 9/10\n",
            "821/821 [==============================] - 22s 26ms/step - loss: 0.0018 - root_mean_squared_error: 0.0414 - val_loss: 0.0015 - val_root_mean_squared_error: 0.0388\n",
            "Epoch 10/10\n",
            "821/821 [==============================] - 21s 26ms/step - loss: 0.0017 - root_mean_squared_error: 0.0410 - val_loss: 0.0016 - val_root_mean_squared_error: 0.0392\n"
          ],
          "name": "stdout"
        },
        {
          "output_type": "stream",
          "text": [
            "WARNING:absl:Found untraced functions such as lstm_cell_1738_layer_call_and_return_conditional_losses, lstm_cell_1738_layer_call_fn, lstm_cell_1739_layer_call_and_return_conditional_losses, lstm_cell_1739_layer_call_fn, lstm_cell_1738_layer_call_fn while saving (showing 5 of 10). These functions will not be directly callable after loading.\n"
          ],
          "name": "stderr"
        },
        {
          "output_type": "stream",
          "text": [
            "INFO:tensorflow:Assets written to: saved_model/autoencoder32meteo/model10\\assets\n"
          ],
          "name": "stdout"
        },
        {
          "output_type": "stream",
          "text": [
            "INFO:tensorflow:Assets written to: saved_model/autoencoder32meteo/model10\\assets\n",
            "\u001b[32m[I 2021-06-03 02:10:46,510]\u001b[0m Trial 10 finished with value: 7.8308305740356445 and parameters: {'weight_decay': 0.0007275784814871831, 'n_units_l1': 23, 'n_units_l2': 11, 'adam_lr': 0.0007553186632344756}. Best is trial 3 with value: 7.769861221313477.\u001b[0m\n"
          ],
          "name": "stderr"
        },
        {
          "output_type": "stream",
          "text": [
            "RMSE val:  7.8308306 5.547683\n",
            "(None, 48, 9) (None, 24, 1)\n",
            "(None, 48, 9) (None, 24, 1)\n",
            "Epoch 1/10\n",
            "821/821 [==============================] - 60s 70ms/step - loss: 0.0036 - root_mean_squared_error: 0.0535 - val_loss: 0.0022 - val_root_mean_squared_error: 0.0449\n",
            "Epoch 2/10\n",
            "821/821 [==============================] - 57s 69ms/step - loss: 0.0025 - root_mean_squared_error: 0.0488 - val_loss: 0.0019 - val_root_mean_squared_error: 0.0425\n",
            "Epoch 3/10\n",
            "821/821 [==============================] - 57s 69ms/step - loss: 0.0023 - root_mean_squared_error: 0.0471 - val_loss: 0.0018 - val_root_mean_squared_error: 0.0418\n",
            "Epoch 4/10\n",
            "821/821 [==============================] - 57s 70ms/step - loss: 0.0021 - root_mean_squared_error: 0.0456 - val_loss: 0.0018 - val_root_mean_squared_error: 0.0419\n",
            "Epoch 5/10\n",
            "821/821 [==============================] - 56s 68ms/step - loss: 0.0019 - root_mean_squared_error: 0.0436 - val_loss: 0.0016 - val_root_mean_squared_error: 0.0393\n",
            "Epoch 6/10\n",
            "821/821 [==============================] - 57s 69ms/step - loss: 0.0018 - root_mean_squared_error: 0.0425 - val_loss: 0.0016 - val_root_mean_squared_error: 0.0394\n",
            "Epoch 7/10\n",
            "821/821 [==============================] - 57s 69ms/step - loss: 0.0018 - root_mean_squared_error: 0.0420 - val_loss: 0.0016 - val_root_mean_squared_error: 0.0390\n",
            "Epoch 8/10\n",
            "821/821 [==============================] - 57s 70ms/step - loss: 0.0017 - root_mean_squared_error: 0.0414 - val_loss: 0.0015 - val_root_mean_squared_error: 0.0387\n",
            "Epoch 9/10\n",
            "821/821 [==============================] - 60s 73ms/step - loss: 0.0017 - root_mean_squared_error: 0.0405 - val_loss: 0.0015 - val_root_mean_squared_error: 0.0387\n",
            "Epoch 10/10\n",
            "821/821 [==============================] - 56s 69ms/step - loss: 0.0016 - root_mean_squared_error: 0.0400 - val_loss: 0.0015 - val_root_mean_squared_error: 0.0390\n"
          ],
          "name": "stdout"
        },
        {
          "output_type": "stream",
          "text": [
            "WARNING:absl:Found untraced functions such as lstm_cell_1740_layer_call_and_return_conditional_losses, lstm_cell_1740_layer_call_fn, lstm_cell_1741_layer_call_and_return_conditional_losses, lstm_cell_1741_layer_call_fn, lstm_cell_1740_layer_call_fn while saving (showing 5 of 10). These functions will not be directly callable after loading.\n"
          ],
          "name": "stderr"
        },
        {
          "output_type": "stream",
          "text": [
            "INFO:tensorflow:Assets written to: saved_model/autoencoder32meteo/model11\\assets\n"
          ],
          "name": "stdout"
        },
        {
          "output_type": "stream",
          "text": [
            "INFO:tensorflow:Assets written to: saved_model/autoencoder32meteo/model11\\assets\n",
            "\u001b[32m[I 2021-06-03 02:20:40,497]\u001b[0m Trial 11 finished with value: 7.795895099639893 and parameters: {'weight_decay': 0.0009985661035231974, 'n_units_l1': 23, 'n_units_l2': 127, 'adam_lr': 0.0008893192910782873}. Best is trial 3 with value: 7.769861221313477.\u001b[0m\n"
          ],
          "name": "stderr"
        },
        {
          "output_type": "stream",
          "text": [
            "RMSE val:  7.795895 5.622107\n",
            "(None, 48, 9) (None, 24, 1)\n",
            "(None, 48, 9) (None, 24, 1)\n",
            "Epoch 1/10\n",
            "821/821 [==============================] - 58s 68ms/step - loss: 0.0159 - root_mean_squared_error: 0.1259 - val_loss: 0.0096 - val_root_mean_squared_error: 0.0979\n",
            "Epoch 2/10\n",
            "821/821 [==============================] - 55s 67ms/step - loss: 0.0159 - root_mean_squared_error: 0.1259 - val_loss: 0.0096 - val_root_mean_squared_error: 0.0979\n",
            "Epoch 3/10\n",
            "821/821 [==============================] - 55s 67ms/step - loss: 0.0159 - root_mean_squared_error: 0.1259 - val_loss: 0.0096 - val_root_mean_squared_error: 0.0979\n",
            "Epoch 4/10\n",
            "821/821 [==============================] - 56s 68ms/step - loss: 0.0159 - root_mean_squared_error: 0.1259 - val_loss: 0.0096 - val_root_mean_squared_error: 0.0979\n"
          ],
          "name": "stdout"
        },
        {
          "output_type": "stream",
          "text": [
            "WARNING:absl:Found untraced functions such as lstm_cell_1742_layer_call_and_return_conditional_losses, lstm_cell_1742_layer_call_fn, lstm_cell_1743_layer_call_and_return_conditional_losses, lstm_cell_1743_layer_call_fn, lstm_cell_1742_layer_call_fn while saving (showing 5 of 10). These functions will not be directly callable after loading.\n"
          ],
          "name": "stderr"
        },
        {
          "output_type": "stream",
          "text": [
            "INFO:tensorflow:Assets written to: saved_model/autoencoder32meteo/model12\\assets\n"
          ],
          "name": "stdout"
        },
        {
          "output_type": "stream",
          "text": [
            "INFO:tensorflow:Assets written to: saved_model/autoencoder32meteo/model12\\assets\n",
            "\u001b[32m[I 2021-06-03 02:24:44,664]\u001b[0m Trial 12 finished with value: 19.58936309814453 and parameters: {'weight_decay': 1.0819992299429519e-10, 'n_units_l1': 24, 'n_units_l2': 121, 'adam_lr': 0.0022961298563996774}. Best is trial 3 with value: 7.769861221313477.\u001b[0m\n"
          ],
          "name": "stderr"
        },
        {
          "output_type": "stream",
          "text": [
            "RMSE val:  19.589363 15.989596\n",
            "(None, 48, 9) (None, 24, 1)\n",
            "(None, 48, 9) (None, 24, 1)\n",
            "Epoch 1/10\n",
            "821/821 [==============================] - 47s 54ms/step - loss: 0.0159 - root_mean_squared_error: 0.1259 - val_loss: 0.0096 - val_root_mean_squared_error: 0.0979\n",
            "Epoch 2/10\n",
            "821/821 [==============================] - 44s 53ms/step - loss: 0.0159 - root_mean_squared_error: 0.1259 - val_loss: 0.0096 - val_root_mean_squared_error: 0.0979\n",
            "Epoch 3/10\n",
            "821/821 [==============================] - 44s 53ms/step - loss: 0.0122 - root_mean_squared_error: 0.1102 - val_loss: 0.0019 - val_root_mean_squared_error: 0.0437\n",
            "Epoch 4/10\n",
            "821/821 [==============================] - 44s 53ms/step - loss: 0.0025 - root_mean_squared_error: 0.0496 - val_loss: 0.0018 - val_root_mean_squared_error: 0.0426\n",
            "Epoch 5/10\n",
            "821/821 [==============================] - 44s 53ms/step - loss: 0.0023 - root_mean_squared_error: 0.0480 - val_loss: 0.0018 - val_root_mean_squared_error: 0.0425\n",
            "Epoch 6/10\n",
            "821/821 [==============================] - 46s 56ms/step - loss: 0.0022 - root_mean_squared_error: 0.0469 - val_loss: 0.0018 - val_root_mean_squared_error: 0.0416\n",
            "Epoch 7/10\n",
            "821/821 [==============================] - 44s 53ms/step - loss: 0.0021 - root_mean_squared_error: 0.0453 - val_loss: 0.0016 - val_root_mean_squared_error: 0.0393\n",
            "Epoch 8/10\n",
            "821/821 [==============================] - 44s 53ms/step - loss: 0.0019 - root_mean_squared_error: 0.0436 - val_loss: 0.0017 - val_root_mean_squared_error: 0.0408\n",
            "Epoch 9/10\n",
            "821/821 [==============================] - 44s 53ms/step - loss: 0.0018 - root_mean_squared_error: 0.0427 - val_loss: 0.0016 - val_root_mean_squared_error: 0.0396\n"
          ],
          "name": "stdout"
        },
        {
          "output_type": "stream",
          "text": [
            "WARNING:absl:Found untraced functions such as lstm_cell_1744_layer_call_and_return_conditional_losses, lstm_cell_1744_layer_call_fn, lstm_cell_1745_layer_call_and_return_conditional_losses, lstm_cell_1745_layer_call_fn, lstm_cell_1744_layer_call_fn while saving (showing 5 of 10). These functions will not be directly callable after loading.\n"
          ],
          "name": "stderr"
        },
        {
          "output_type": "stream",
          "text": [
            "INFO:tensorflow:Assets written to: saved_model/autoencoder32meteo/model13\\assets\n"
          ],
          "name": "stdout"
        },
        {
          "output_type": "stream",
          "text": [
            "INFO:tensorflow:Assets written to: saved_model/autoencoder32meteo/model13\\assets\n",
            "\u001b[32m[I 2021-06-03 02:31:40,271]\u001b[0m Trial 13 finished with value: 7.926206111907959 and parameters: {'weight_decay': 0.0001813842253631499, 'n_units_l1': 15, 'n_units_l2': 104, 'adam_lr': 0.0008456796508719039}. Best is trial 3 with value: 7.769861221313477.\u001b[0m\n"
          ],
          "name": "stderr"
        },
        {
          "output_type": "stream",
          "text": [
            "RMSE val:  7.926206 5.9056387\n",
            "(None, 48, 9) (None, 24, 1)\n",
            "(None, 48, 9) (None, 24, 1)\n",
            "Epoch 1/10\n",
            "821/821 [==============================] - 44s 50ms/step - loss: 0.0047 - root_mean_squared_error: 0.0581 - val_loss: 0.0031 - val_root_mean_squared_error: 0.0445\n",
            "Epoch 2/10\n",
            "821/821 [==============================] - 42s 51ms/step - loss: 0.0035 - root_mean_squared_error: 0.0508 - val_loss: 0.0027 - val_root_mean_squared_error: 0.0439\n",
            "Epoch 3/10\n",
            "821/821 [==============================] - 41s 50ms/step - loss: 0.0031 - root_mean_squared_error: 0.0494 - val_loss: 0.0024 - val_root_mean_squared_error: 0.0432\n",
            "Epoch 4/10\n",
            "821/821 [==============================] - 42s 51ms/step - loss: 0.0028 - root_mean_squared_error: 0.0485 - val_loss: 0.0024 - val_root_mean_squared_error: 0.0448\n",
            "Epoch 5/10\n",
            "821/821 [==============================] - 41s 49ms/step - loss: 0.0026 - root_mean_squared_error: 0.0477 - val_loss: 0.0021 - val_root_mean_squared_error: 0.0429\n",
            "Epoch 6/10\n",
            "821/821 [==============================] - 40s 49ms/step - loss: 0.0025 - root_mean_squared_error: 0.0470 - val_loss: 0.0020 - val_root_mean_squared_error: 0.0424\n",
            "Epoch 7/10\n",
            "821/821 [==============================] - 40s 49ms/step - loss: 0.0023 - root_mean_squared_error: 0.0463 - val_loss: 0.0020 - val_root_mean_squared_error: 0.0423\n",
            "Epoch 8/10\n",
            "821/821 [==============================] - 40s 49ms/step - loss: 0.0022 - root_mean_squared_error: 0.0456 - val_loss: 0.0020 - val_root_mean_squared_error: 0.0430\n",
            "Epoch 9/10\n",
            "821/821 [==============================] - 40s 49ms/step - loss: 0.0022 - root_mean_squared_error: 0.0449 - val_loss: 0.0019 - val_root_mean_squared_error: 0.0421\n",
            "Epoch 10/10\n",
            "821/821 [==============================] - 40s 49ms/step - loss: 0.0020 - root_mean_squared_error: 0.0439 - val_loss: 0.0018 - val_root_mean_squared_error: 0.0409\n"
          ],
          "name": "stdout"
        },
        {
          "output_type": "stream",
          "text": [
            "WARNING:absl:Found untraced functions such as lstm_cell_1746_layer_call_and_return_conditional_losses, lstm_cell_1746_layer_call_fn, lstm_cell_1747_layer_call_and_return_conditional_losses, lstm_cell_1747_layer_call_fn, lstm_cell_1746_layer_call_fn while saving (showing 5 of 10). These functions will not be directly callable after loading.\n"
          ],
          "name": "stderr"
        },
        {
          "output_type": "stream",
          "text": [
            "INFO:tensorflow:Assets written to: saved_model/autoencoder32meteo/model14\\assets\n"
          ],
          "name": "stdout"
        },
        {
          "output_type": "stream",
          "text": [
            "INFO:tensorflow:Assets written to: saved_model/autoencoder32meteo/model14\\assets\n",
            "\u001b[32m[I 2021-06-03 02:38:48,837]\u001b[0m Trial 14 finished with value: 8.178105354309082 and parameters: {'weight_decay': 0.0008118182177676508, 'n_units_l1': 37, 'n_units_l2': 56, 'adam_lr': 0.00016968618738182913}. Best is trial 3 with value: 7.769861221313477.\u001b[0m\n"
          ],
          "name": "stderr"
        },
        {
          "output_type": "stream",
          "text": [
            "RMSE val:  8.178105 5.8737364\n",
            "(None, 48, 9) (None, 24, 1)\n",
            "(None, 48, 9) (None, 24, 1)\n",
            "Epoch 1/10\n",
            "821/821 [==============================] - 25s 28ms/step - loss: 0.0164 - root_mean_squared_error: 0.1280 - val_loss: 0.0096 - val_root_mean_squared_error: 0.0979\n",
            "Epoch 2/10\n",
            "821/821 [==============================] - 20s 24ms/step - loss: 0.0159 - root_mean_squared_error: 0.1259 - val_loss: 0.0096 - val_root_mean_squared_error: 0.0979\n",
            "Epoch 3/10\n",
            "821/821 [==============================] - 20s 25ms/step - loss: 0.0159 - root_mean_squared_error: 0.1259 - val_loss: 0.0096 - val_root_mean_squared_error: 0.0979\n",
            "Epoch 4/10\n",
            "821/821 [==============================] - 20s 25ms/step - loss: 0.0159 - root_mean_squared_error: 0.1259 - val_loss: 0.0096 - val_root_mean_squared_error: 0.0979\n",
            "Epoch 5/10\n",
            "821/821 [==============================] - 20s 24ms/step - loss: 0.0159 - root_mean_squared_error: 0.1259 - val_loss: 0.0096 - val_root_mean_squared_error: 0.0979\n",
            "Epoch 6/10\n",
            "821/821 [==============================] - 20s 24ms/step - loss: 0.0159 - root_mean_squared_error: 0.1259 - val_loss: 0.0096 - val_root_mean_squared_error: 0.0979\n",
            "Epoch 7/10\n",
            "821/821 [==============================] - 20s 24ms/step - loss: 0.0159 - root_mean_squared_error: 0.1259 - val_loss: 0.0096 - val_root_mean_squared_error: 0.0979\n",
            "Epoch 8/10\n",
            "821/821 [==============================] - 21s 26ms/step - loss: 0.0159 - root_mean_squared_error: 0.1259 - val_loss: 0.0096 - val_root_mean_squared_error: 0.0979\n",
            "Epoch 9/10\n",
            "821/821 [==============================] - 22s 26ms/step - loss: 0.0159 - root_mean_squared_error: 0.1259 - val_loss: 0.0096 - val_root_mean_squared_error: 0.0979\n",
            "Epoch 10/10\n",
            "821/821 [==============================] - 20s 25ms/step - loss: 0.0159 - root_mean_squared_error: 0.1259 - val_loss: 0.0096 - val_root_mean_squared_error: 0.0979\n"
          ],
          "name": "stdout"
        },
        {
          "output_type": "stream",
          "text": [
            "WARNING:absl:Found untraced functions such as lstm_cell_1748_layer_call_and_return_conditional_losses, lstm_cell_1748_layer_call_fn, lstm_cell_1749_layer_call_and_return_conditional_losses, lstm_cell_1749_layer_call_fn, lstm_cell_1748_layer_call_fn while saving (showing 5 of 10). These functions will not be directly callable after loading.\n"
          ],
          "name": "stderr"
        },
        {
          "output_type": "stream",
          "text": [
            "INFO:tensorflow:Assets written to: saved_model/autoencoder32meteo/model15\\assets\n"
          ],
          "name": "stdout"
        },
        {
          "output_type": "stream",
          "text": [
            "INFO:tensorflow:Assets written to: saved_model/autoencoder32meteo/model15\\assets\n",
            "\u001b[32m[I 2021-06-03 02:42:31,725]\u001b[0m Trial 15 finished with value: 19.589365005493164 and parameters: {'weight_decay': 5.511515442733653e-05, 'n_units_l1': 14, 'n_units_l2': 11, 'adam_lr': 0.02945073344143664}. Best is trial 3 with value: 7.769861221313477.\u001b[0m\n"
          ],
          "name": "stderr"
        },
        {
          "output_type": "stream",
          "text": [
            "RMSE val:  19.589365 15.989601\n",
            "(None, 48, 9) (None, 24, 1)\n",
            "(None, 48, 9) (None, 24, 1)\n",
            "Epoch 1/10\n",
            "821/821 [==============================] - 31s 34ms/step - loss: 0.0159 - root_mean_squared_error: 0.1259 - val_loss: 0.0096 - val_root_mean_squared_error: 0.0979\n",
            "Epoch 2/10\n",
            "821/821 [==============================] - 29s 36ms/step - loss: 0.0159 - root_mean_squared_error: 0.1259 - val_loss: 0.0096 - val_root_mean_squared_error: 0.0979\n",
            "Epoch 3/10\n",
            "821/821 [==============================] - 33s 41ms/step - loss: 0.0159 - root_mean_squared_error: 0.1259 - val_loss: 0.0096 - val_root_mean_squared_error: 0.0979\n",
            "Epoch 4/10\n",
            "821/821 [==============================] - 33s 40ms/step - loss: 0.0159 - root_mean_squared_error: 0.1259 - val_loss: 0.0096 - val_root_mean_squared_error: 0.0979\n"
          ],
          "name": "stdout"
        },
        {
          "output_type": "stream",
          "text": [
            "WARNING:absl:Found untraced functions such as lstm_cell_1750_layer_call_and_return_conditional_losses, lstm_cell_1750_layer_call_fn, lstm_cell_1751_layer_call_and_return_conditional_losses, lstm_cell_1751_layer_call_fn, lstm_cell_1750_layer_call_fn while saving (showing 5 of 10). These functions will not be directly callable after loading.\n"
          ],
          "name": "stderr"
        },
        {
          "output_type": "stream",
          "text": [
            "INFO:tensorflow:Assets written to: saved_model/autoencoder32meteo/model16\\assets\n"
          ],
          "name": "stdout"
        },
        {
          "output_type": "stream",
          "text": [
            "INFO:tensorflow:Assets written to: saved_model/autoencoder32meteo/model16\\assets\n",
            "\u001b[32m[I 2021-06-03 02:44:55,588]\u001b[0m Trial 16 finished with value: 19.589365005493164 and parameters: {'weight_decay': 8.614437698245245e-10, 'n_units_l1': 35, 'n_units_l2': 4, 'adam_lr': 0.0053386733620842215}. Best is trial 3 with value: 7.769861221313477.\u001b[0m\n"
          ],
          "name": "stderr"
        },
        {
          "output_type": "stream",
          "text": [
            "RMSE val:  19.589365 15.989601\n",
            "(None, 48, 9) (None, 24, 1)\n",
            "(None, 48, 9) (None, 24, 1)\n",
            "Epoch 1/10\n",
            "821/821 [==============================] - 24s 26ms/step - loss: 0.0031 - root_mean_squared_error: 0.0553 - val_loss: 0.0018 - val_root_mean_squared_error: 0.0430\n",
            "Epoch 2/10\n",
            "821/821 [==============================] - 20s 24ms/step - loss: 0.0024 - root_mean_squared_error: 0.0491 - val_loss: 0.0019 - val_root_mean_squared_error: 0.0441\n",
            "Epoch 3/10\n",
            "821/821 [==============================] - 21s 25ms/step - loss: 0.0023 - root_mean_squared_error: 0.0477 - val_loss: 0.0017 - val_root_mean_squared_error: 0.0418\n",
            "Epoch 4/10\n",
            "821/821 [==============================] - 20s 24ms/step - loss: 0.0021 - root_mean_squared_error: 0.0461 - val_loss: 0.0019 - val_root_mean_squared_error: 0.0434\n",
            "Epoch 5/10\n",
            "821/821 [==============================] - 20s 24ms/step - loss: 0.0020 - root_mean_squared_error: 0.0452 - val_loss: 0.0016 - val_root_mean_squared_error: 0.0399- loss: 0.0\n",
            "Epoch 6/10\n",
            "821/821 [==============================] - 20s 25ms/step - loss: 0.0020 - root_mean_squared_error: 0.0445 - val_loss: 0.0016 - val_root_mean_squared_error: 0.0396\n",
            "Epoch 7/10\n",
            "821/821 [==============================] - 20s 24ms/step - loss: 0.0019 - root_mean_squared_error: 0.0437 - val_loss: 0.0016 - val_root_mean_squared_error: 0.0399\n",
            "Epoch 8/10\n",
            "821/821 [==============================] - 19s 24ms/step - loss: 0.0019 - root_mean_squared_error: 0.0431 - val_loss: 0.0015 - val_root_mean_squared_error: 0.0390\n",
            "Epoch 9/10\n",
            "821/821 [==============================] - 20s 24ms/step - loss: 0.0018 - root_mean_squared_error: 0.0427 - val_loss: 0.0015 - val_root_mean_squared_error: 0.0387\n",
            "Epoch 10/10\n",
            "821/821 [==============================] - 20s 24ms/step - loss: 0.0018 - root_mean_squared_error: 0.0423 - val_loss: 0.0015 - val_root_mean_squared_error: 0.0392\n"
          ],
          "name": "stdout"
        },
        {
          "output_type": "stream",
          "text": [
            "WARNING:absl:Found untraced functions such as lstm_cell_1752_layer_call_and_return_conditional_losses, lstm_cell_1752_layer_call_fn, lstm_cell_1753_layer_call_and_return_conditional_losses, lstm_cell_1753_layer_call_fn, lstm_cell_1752_layer_call_fn while saving (showing 5 of 10). These functions will not be directly callable after loading.\n"
          ],
          "name": "stderr"
        },
        {
          "output_type": "stream",
          "text": [
            "INFO:tensorflow:Assets written to: saved_model/autoencoder32meteo/model17\\assets\n"
          ],
          "name": "stdout"
        },
        {
          "output_type": "stream",
          "text": [
            "INFO:tensorflow:Assets written to: saved_model/autoencoder32meteo/model17\\assets\n",
            "\u001b[32m[I 2021-06-03 02:48:32,288]\u001b[0m Trial 17 finished with value: 7.844189167022705 and parameters: {'weight_decay': 8.335570548882958e-08, 'n_units_l1': 12, 'n_units_l2': 13, 'adam_lr': 0.0011153730093801898}. Best is trial 3 with value: 7.769861221313477.\u001b[0m\n"
          ],
          "name": "stderr"
        },
        {
          "output_type": "stream",
          "text": [
            "RMSE val:  7.844189 5.695648\n",
            "(None, 48, 9) (None, 24, 1)\n",
            "(None, 48, 9) (None, 24, 1)\n",
            "Epoch 1/10\n",
            "821/821 [==============================] - 42s 48ms/step - loss: 0.0037 - root_mean_squared_error: 0.0591 - val_loss: 0.0023 - val_root_mean_squared_error: 0.0455\n",
            "Epoch 2/10\n",
            "821/821 [==============================] - 37s 45ms/step - loss: 0.0029 - root_mean_squared_error: 0.0521 - val_loss: 0.0022 - val_root_mean_squared_error: 0.0452\n",
            "Epoch 3/10\n",
            "821/821 [==============================] - 37s 45ms/step - loss: 0.0028 - root_mean_squared_error: 0.0507 - val_loss: 0.0023 - val_root_mean_squared_error: 0.0454\n",
            "Epoch 4/10\n",
            "821/821 [==============================] - 37s 45ms/step - loss: 0.0027 - root_mean_squared_error: 0.0497 - val_loss: 0.0021 - val_root_mean_squared_error: 0.0435\n",
            "Epoch 5/10\n",
            "821/821 [==============================] - 37s 45ms/step - loss: 0.0026 - root_mean_squared_error: 0.0489 - val_loss: 0.0020 - val_root_mean_squared_error: 0.0431\n",
            "Epoch 6/10\n",
            "821/821 [==============================] - 38s 46ms/step - loss: 0.0025 - root_mean_squared_error: 0.0483 - val_loss: 0.0021 - val_root_mean_squared_error: 0.0432\n",
            "Epoch 7/10\n",
            "821/821 [==============================] - 36s 44ms/step - loss: 0.0025 - root_mean_squared_error: 0.0477 - val_loss: 0.0020 - val_root_mean_squared_error: 0.0432\n"
          ],
          "name": "stdout"
        },
        {
          "output_type": "stream",
          "text": [
            "WARNING:absl:Found untraced functions such as lstm_cell_1754_layer_call_and_return_conditional_losses, lstm_cell_1754_layer_call_fn, lstm_cell_1755_layer_call_and_return_conditional_losses, lstm_cell_1755_layer_call_fn, lstm_cell_1754_layer_call_fn while saving (showing 5 of 10). These functions will not be directly callable after loading.\n"
          ],
          "name": "stderr"
        },
        {
          "output_type": "stream",
          "text": [
            "INFO:tensorflow:Assets written to: saved_model/autoencoder32meteo/model18\\assets\n"
          ],
          "name": "stdout"
        },
        {
          "output_type": "stream",
          "text": [
            "INFO:tensorflow:Assets written to: saved_model/autoencoder32meteo/model18\\assets\n",
            "\u001b[32m[I 2021-06-03 02:53:14,851]\u001b[0m Trial 18 finished with value: 8.641701698303223 and parameters: {'weight_decay': 0.00012131366322376337, 'n_units_l1': 31, 'n_units_l2': 77, 'adam_lr': 7.05977190165082e-05}. Best is trial 3 with value: 7.769861221313477.\u001b[0m\n"
          ],
          "name": "stderr"
        },
        {
          "output_type": "stream",
          "text": [
            "RMSE val:  8.641702 6.4515176\n",
            "(None, 48, 9) (None, 24, 1)\n",
            "(None, 48, 9) (None, 24, 1)\n",
            "Epoch 1/10\n",
            "821/821 [==============================] - 37s 42ms/step - loss: 0.0030 - root_mean_squared_error: 0.0542 - val_loss: 0.0020 - val_root_mean_squared_error: 0.0440\n",
            "Epoch 2/10\n",
            "821/821 [==============================] - 35s 43ms/step - loss: 0.0024 - root_mean_squared_error: 0.0491 - val_loss: 0.0019 - val_root_mean_squared_error: 0.0434\n",
            "Epoch 3/10\n",
            "821/821 [==============================] - 34s 41ms/step - loss: 0.0023 - root_mean_squared_error: 0.0479 - val_loss: 0.0019 - val_root_mean_squared_error: 0.0439\n",
            "Epoch 4/10\n",
            "821/821 [==============================] - 34s 41ms/step - loss: 0.0022 - root_mean_squared_error: 0.0467 - val_loss: 0.0017 - val_root_mean_squared_error: 0.0415\n",
            "Epoch 5/10\n",
            "821/821 [==============================] - 34s 41ms/step - loss: 0.0021 - root_mean_squared_error: 0.0457 - val_loss: 0.0017 - val_root_mean_squared_error: 0.0407\n",
            "Epoch 6/10\n",
            "821/821 [==============================] - 34s 42ms/step - loss: 0.0020 - root_mean_squared_error: 0.0445 - val_loss: 0.0020 - val_root_mean_squared_error: 0.0441\n",
            "Epoch 7/10\n",
            "821/821 [==============================] - 35s 42ms/step - loss: 0.0019 - root_mean_squared_error: 0.0434 - val_loss: 0.0017 - val_root_mean_squared_error: 0.0411\n"
          ],
          "name": "stdout"
        },
        {
          "output_type": "stream",
          "text": [
            "WARNING:absl:Found untraced functions such as lstm_cell_1756_layer_call_and_return_conditional_losses, lstm_cell_1756_layer_call_fn, lstm_cell_1757_layer_call_and_return_conditional_losses, lstm_cell_1757_layer_call_fn, lstm_cell_1756_layer_call_fn while saving (showing 5 of 10). These functions will not be directly callable after loading.\n"
          ],
          "name": "stderr"
        },
        {
          "output_type": "stream",
          "text": [
            "INFO:tensorflow:Assets written to: saved_model/autoencoder32meteo/model19\\assets\n"
          ],
          "name": "stdout"
        },
        {
          "output_type": "stream",
          "text": [
            "INFO:tensorflow:Assets written to: saved_model/autoencoder32meteo/model19\\assets\n",
            "\u001b[32m[I 2021-06-03 02:57:33,837]\u001b[0m Trial 19 finished with value: 8.226927757263184 and parameters: {'weight_decay': 1.5558929011207154e-05, 'n_units_l1': 49, 'n_units_l2': 16, 'adam_lr': 0.0003710724845693359}. Best is trial 3 with value: 7.769861221313477.\u001b[0m\n"
          ],
          "name": "stderr"
        },
        {
          "output_type": "stream",
          "text": [
            "RMSE val:  8.226928 5.8671207\n",
            "(None, 48, 9) (None, 24, 1)\n",
            "(None, 48, 9) (None, 24, 1)\n",
            "Epoch 1/10\n",
            "821/821 [==============================] - 31s 35ms/step - loss: 0.0069 - root_mean_squared_error: 0.0790 - val_loss: 0.0045 - val_root_mean_squared_error: 0.0617\n",
            "Epoch 2/10\n",
            "821/821 [==============================] - 29s 35ms/step - loss: 0.0059 - root_mean_squared_error: 0.0725 - val_loss: 0.0041 - val_root_mean_squared_error: 0.0590\n",
            "Epoch 3/10\n",
            "821/821 [==============================] - 30s 36ms/step - loss: 0.0054 - root_mean_squared_error: 0.0692 - val_loss: 0.0039 - val_root_mean_squared_error: 0.0574\n",
            "Epoch 4/10\n",
            "821/821 [==============================] - 33s 41ms/step - loss: 0.0050 - root_mean_squared_error: 0.0661 - val_loss: 0.0037 - val_root_mean_squared_error: 0.0551\n",
            "Epoch 5/10\n",
            "821/821 [==============================] - 29s 35ms/step - loss: 0.0047 - root_mean_squared_error: 0.0639 - val_loss: 0.0035 - val_root_mean_squared_error: 0.0538\n",
            "Epoch 6/10\n",
            "821/821 [==============================] - 29s 35ms/step - loss: 0.0045 - root_mean_squared_error: 0.0623 - val_loss: 0.0034 - val_root_mean_squared_error: 0.0526\n",
            "Epoch 7/10\n",
            "821/821 [==============================] - 28s 34ms/step - loss: 0.0044 - root_mean_squared_error: 0.0610 - val_loss: 0.0033 - val_root_mean_squared_error: 0.0517\n",
            "Epoch 8/10\n",
            "821/821 [==============================] - 29s 35ms/step - loss: 0.0042 - root_mean_squared_error: 0.0599 - val_loss: 0.0032 - val_root_mean_squared_error: 0.0509\n",
            "Epoch 9/10\n",
            "821/821 [==============================] - 28s 34ms/step - loss: 0.0041 - root_mean_squared_error: 0.0590 - val_loss: 0.0031 - val_root_mean_squared_error: 0.0501\n",
            "Epoch 10/10\n",
            "821/821 [==============================] - 29s 35ms/step - loss: 0.0040 - root_mean_squared_error: 0.0581 - val_loss: 0.0030 - val_root_mean_squared_error: 0.0493\n"
          ],
          "name": "stdout"
        },
        {
          "output_type": "stream",
          "text": [
            "WARNING:absl:Found untraced functions such as lstm_cell_1758_layer_call_and_return_conditional_losses, lstm_cell_1758_layer_call_fn, lstm_cell_1759_layer_call_and_return_conditional_losses, lstm_cell_1759_layer_call_fn, lstm_cell_1758_layer_call_fn while saving (showing 5 of 10). These functions will not be directly callable after loading.\n"
          ],
          "name": "stderr"
        },
        {
          "output_type": "stream",
          "text": [
            "INFO:tensorflow:Assets written to: saved_model/autoencoder32meteo/model20\\assets\n"
          ],
          "name": "stdout"
        },
        {
          "output_type": "stream",
          "text": [
            "INFO:tensorflow:Assets written to: saved_model/autoencoder32meteo/model20\\assets\n",
            "\u001b[32m[I 2021-06-03 03:02:41,510]\u001b[0m Trial 20 finished with value: 9.865360260009766 and parameters: {'weight_decay': 0.0004073686831991194, 'n_units_l1': 10, 'n_units_l2': 49, 'adam_lr': 1.0822039212397708e-05}. Best is trial 3 with value: 7.769861221313477.\u001b[0m\n"
          ],
          "name": "stderr"
        },
        {
          "output_type": "stream",
          "text": [
            "RMSE val:  9.86536 7.497654\n",
            "(None, 48, 9) (None, 24, 1)\n",
            "(None, 48, 9) (None, 24, 1)\n",
            "Epoch 1/10\n",
            "821/821 [==============================] - 24s 26ms/step - loss: 0.0049 - root_mean_squared_error: 0.0545 - val_loss: 0.0032 - val_root_mean_squared_error: 0.0432\n",
            "Epoch 2/10\n",
            "821/821 [==============================] - 21s 25ms/step - loss: 0.0033 - root_mean_squared_error: 0.0489 - val_loss: 0.0024 - val_root_mean_squared_error: 0.0423\n",
            "Epoch 3/10\n",
            "821/821 [==============================] - 21s 25ms/step - loss: 0.0028 - root_mean_squared_error: 0.0478 - val_loss: 0.0021 - val_root_mean_squared_error: 0.0418\n",
            "Epoch 4/10\n",
            "821/821 [==============================] - 21s 26ms/step - loss: 0.0024 - root_mean_squared_error: 0.0467 - val_loss: 0.0019 - val_root_mean_squared_error: 0.0409\n",
            "Epoch 5/10\n",
            "821/821 [==============================] - 21s 26ms/step - loss: 0.0023 - root_mean_squared_error: 0.0460 - val_loss: 0.0018 - val_root_mean_squared_error: 0.0408\n",
            "Epoch 6/10\n",
            "821/821 [==============================] - 20s 25ms/step - loss: 0.0022 - root_mean_squared_error: 0.0457 - val_loss: 0.0019 - val_root_mean_squared_error: 0.0426\n",
            "Epoch 7/10\n",
            "821/821 [==============================] - 20s 25ms/step - loss: 0.0021 - root_mean_squared_error: 0.0448 - val_loss: 0.0017 - val_root_mean_squared_error: 0.0401\n",
            "Epoch 8/10\n",
            "821/821 [==============================] - 21s 25ms/step - loss: 0.0020 - root_mean_squared_error: 0.0440 - val_loss: 0.0017 - val_root_mean_squared_error: 0.0401\n",
            "Epoch 9/10\n",
            "821/821 [==============================] - 20s 25ms/step - loss: 0.0020 - root_mean_squared_error: 0.0436 - val_loss: 0.0016 - val_root_mean_squared_error: 0.0395\n",
            "Epoch 10/10\n",
            "821/821 [==============================] - 21s 25ms/step - loss: 0.0019 - root_mean_squared_error: 0.0429 - val_loss: 0.0015 - val_root_mean_squared_error: 0.0385ared_error: \n"
          ],
          "name": "stdout"
        },
        {
          "output_type": "stream",
          "text": [
            "WARNING:absl:Found untraced functions such as lstm_cell_1760_layer_call_and_return_conditional_losses, lstm_cell_1760_layer_call_fn, lstm_cell_1761_layer_call_and_return_conditional_losses, lstm_cell_1761_layer_call_fn, lstm_cell_1760_layer_call_fn while saving (showing 5 of 10). These functions will not be directly callable after loading.\n"
          ],
          "name": "stderr"
        },
        {
          "output_type": "stream",
          "text": [
            "INFO:tensorflow:Assets written to: saved_model/autoencoder32meteo/model21\\assets\n"
          ],
          "name": "stdout"
        },
        {
          "output_type": "stream",
          "text": [
            "INFO:tensorflow:Assets written to: saved_model/autoencoder32meteo/model21\\assets\n",
            "\u001b[32m[I 2021-06-03 03:06:25,406]\u001b[0m Trial 21 finished with value: 7.709071159362793 and parameters: {'weight_decay': 0.0008598650343047585, 'n_units_l1': 21, 'n_units_l2': 8, 'adam_lr': 0.000883203568490129}. Best is trial 21 with value: 7.709071159362793.\u001b[0m\n"
          ],
          "name": "stderr"
        },
        {
          "output_type": "stream",
          "text": [
            "RMSE val:  7.709071 5.5599523\n",
            "(None, 48, 9) (None, 24, 1)\n",
            "(None, 48, 9) (None, 24, 1)\n",
            "Epoch 1/10\n",
            "821/821 [==============================] - 24s 25ms/step - loss: 0.0034 - root_mean_squared_error: 0.0532 - val_loss: 0.0022 - val_root_mean_squared_error: 0.0442\n",
            "Epoch 2/10\n",
            "821/821 [==============================] - 20s 25ms/step - loss: 0.0025 - root_mean_squared_error: 0.0487 - val_loss: 0.0019 - val_root_mean_squared_error: 0.0432\n",
            "Epoch 3/10\n",
            "821/821 [==============================] - 21s 25ms/step - loss: 0.0023 - root_mean_squared_error: 0.0475 - val_loss: 0.0020 - val_root_mean_squared_error: 0.0438root_mean_\n",
            "Epoch 4/10\n",
            "821/821 [==============================] - 20s 25ms/step - loss: 0.0022 - root_mean_squared_error: 0.0465 - val_loss: 0.0018 - val_root_mean_squared_error: 0.0420\n",
            "Epoch 5/10\n",
            "821/821 [==============================] - 20s 25ms/step - loss: 0.0022 - root_mean_squared_error: 0.0461 - val_loss: 0.0018 - val_root_mean_squared_error: 0.0415\n",
            "Epoch 6/10\n",
            "821/821 [==============================] - 22s 27ms/step - loss: 0.0020 - root_mean_squared_error: 0.0445 - val_loss: 0.0017 - val_root_mean_squared_error: 0.0407\n",
            "Epoch 7/10\n",
            "821/821 [==============================] - 21s 25ms/step - loss: 0.0019 - root_mean_squared_error: 0.0434 - val_loss: 0.0016 - val_root_mean_squared_error: 0.0394\n",
            "Epoch 8/10\n",
            "821/821 [==============================] - 22s 27ms/step - loss: 0.0018 - root_mean_squared_error: 0.0425 - val_loss: 0.0016 - val_root_mean_squared_error: 0.0396\n",
            "Epoch 9/10\n",
            "821/821 [==============================] - 21s 26ms/step - loss: 0.0018 - root_mean_squared_error: 0.0414 - val_loss: 0.0016 - val_root_mean_squared_error: 0.0396\n"
          ],
          "name": "stdout"
        },
        {
          "output_type": "stream",
          "text": [
            "WARNING:absl:Found untraced functions such as lstm_cell_1762_layer_call_and_return_conditional_losses, lstm_cell_1762_layer_call_fn, lstm_cell_1763_layer_call_and_return_conditional_losses, lstm_cell_1763_layer_call_fn, lstm_cell_1762_layer_call_fn while saving (showing 5 of 10). These functions will not be directly callable after loading.\n"
          ],
          "name": "stderr"
        },
        {
          "output_type": "stream",
          "text": [
            "INFO:tensorflow:Assets written to: saved_model/autoencoder32meteo/model22\\assets\n"
          ],
          "name": "stdout"
        },
        {
          "output_type": "stream",
          "text": [
            "INFO:tensorflow:Assets written to: saved_model/autoencoder32meteo/model22\\assets\n",
            "\u001b[32m[I 2021-06-03 03:09:50,541]\u001b[0m Trial 22 finished with value: 7.925295829772949 and parameters: {'weight_decay': 0.0009993628046151754, 'n_units_l1': 19, 'n_units_l2': 7, 'adam_lr': 0.0014893689994843503}. Best is trial 21 with value: 7.709071159362793.\u001b[0m\n"
          ],
          "name": "stderr"
        },
        {
          "output_type": "stream",
          "text": [
            "RMSE val:  7.925296 5.5647187\n",
            "(None, 48, 9) (None, 24, 1)\n",
            "(None, 48, 9) (None, 24, 1)\n",
            "Epoch 1/10\n",
            "821/821 [==============================] - 24s 26ms/step - loss: 0.0033 - root_mean_squared_error: 0.0571 - val_loss: 0.0020 - val_root_mean_squared_error: 0.0443\n",
            "Epoch 2/10\n",
            "821/821 [==============================] - 22s 26ms/step - loss: 0.0025 - root_mean_squared_error: 0.0502 - val_loss: 0.0019 - val_root_mean_squared_error: 0.0433\n",
            "Epoch 3/10\n",
            "821/821 [==============================] - 21s 25ms/step - loss: 0.0024 - root_mean_squared_error: 0.0490 - val_loss: 0.0020 - val_root_mean_squared_error: 0.0441\n",
            "Epoch 4/10\n",
            "821/821 [==============================] - 21s 26ms/step - loss: 0.0024 - root_mean_squared_error: 0.0483 - val_loss: 0.0018 - val_root_mean_squared_error: 0.0421\n",
            "Epoch 5/10\n",
            "821/821 [==============================] - 22s 27ms/step - loss: 0.0023 - root_mean_squared_error: 0.0476 - val_loss: 0.0018 - val_root_mean_squared_error: 0.0425\n",
            "Epoch 6/10\n",
            "821/821 [==============================] - 21s 25ms/step - loss: 0.0022 - root_mean_squared_error: 0.0469 - val_loss: 0.0018 - val_root_mean_squared_error: 0.0420\n",
            "Epoch 7/10\n",
            "821/821 [==============================] - 21s 26ms/step - loss: 0.0022 - root_mean_squared_error: 0.0466 - val_loss: 0.0018 - val_root_mean_squared_error: 0.0419022 - root_mean_squared_error: 0.046\n",
            "Epoch 8/10\n",
            "821/821 [==============================] - 21s 26ms/step - loss: 0.0021 - root_mean_squared_error: 0.0461 - val_loss: 0.0018 - val_root_mean_squared_error: 0.0425\n",
            "Epoch 9/10\n",
            "821/821 [==============================] - 22s 26ms/step - loss: 0.0021 - root_mean_squared_error: 0.0456 - val_loss: 0.0019 - val_root_mean_squared_error: 0.0429\n"
          ],
          "name": "stdout"
        },
        {
          "output_type": "stream",
          "text": [
            "WARNING:absl:Found untraced functions such as lstm_cell_1764_layer_call_and_return_conditional_losses, lstm_cell_1764_layer_call_fn, lstm_cell_1765_layer_call_and_return_conditional_losses, lstm_cell_1765_layer_call_fn, lstm_cell_1764_layer_call_fn while saving (showing 5 of 10). These functions will not be directly callable after loading.\n"
          ],
          "name": "stderr"
        },
        {
          "output_type": "stream",
          "text": [
            "INFO:tensorflow:Assets written to: saved_model/autoencoder32meteo/model23\\assets\n"
          ],
          "name": "stdout"
        },
        {
          "output_type": "stream",
          "text": [
            "INFO:tensorflow:Assets written to: saved_model/autoencoder32meteo/model23\\assets\n",
            "\u001b[32m[I 2021-06-03 03:13:18,984]\u001b[0m Trial 23 finished with value: 8.583230018615723 and parameters: {'weight_decay': 2.3184100473317925e-05, 'n_units_l1': 25, 'n_units_l2': 4, 'adam_lr': 0.00044147310377562124}. Best is trial 21 with value: 7.709071159362793.\u001b[0m\n"
          ],
          "name": "stderr"
        },
        {
          "output_type": "stream",
          "text": [
            "RMSE val:  8.58323 6.491327\n",
            "(None, 48, 9) (None, 24, 1)\n",
            "(None, 48, 9) (None, 24, 1)\n",
            "Epoch 1/10\n",
            "821/821 [==============================] - 29s 32ms/step - loss: 0.0161 - root_mean_squared_error: 0.1262 - val_loss: 0.0097 - val_root_mean_squared_error: 0.0979\n",
            "Epoch 2/10\n",
            "821/821 [==============================] - 25s 31ms/step - loss: 0.0159 - root_mean_squared_error: 0.1259 - val_loss: 0.0096 - val_root_mean_squared_error: 0.0979\n",
            "Epoch 3/10\n",
            "821/821 [==============================] - 24s 29ms/step - loss: 0.0159 - root_mean_squared_error: 0.1259 - val_loss: 0.0096 - val_root_mean_squared_error: 0.0979\n",
            "Epoch 4/10\n",
            "821/821 [==============================] - 24s 29ms/step - loss: 0.0159 - root_mean_squared_error: 0.1259 - val_loss: 0.0096 - val_root_mean_squared_error: 0.0979\n",
            "Epoch 5/10\n",
            "821/821 [==============================] - 24s 29ms/step - loss: 0.0159 - root_mean_squared_error: 0.1259 - val_loss: 0.0096 - val_root_mean_squared_error: 0.0979\n",
            "Epoch 6/10\n",
            "821/821 [==============================] - 25s 30ms/step - loss: 0.0159 - root_mean_squared_error: 0.1259 - val_loss: 0.0096 - val_root_mean_squared_error: 0.0979\n",
            "Epoch 7/10\n",
            "821/821 [==============================] - 24s 29ms/step - loss: 0.0159 - root_mean_squared_error: 0.1259 - val_loss: 0.0096 - val_root_mean_squared_error: 0.0979\n"
          ],
          "name": "stdout"
        },
        {
          "output_type": "stream",
          "text": [
            "WARNING:absl:Found untraced functions such as lstm_cell_1766_layer_call_and_return_conditional_losses, lstm_cell_1766_layer_call_fn, lstm_cell_1767_layer_call_and_return_conditional_losses, lstm_cell_1767_layer_call_fn, lstm_cell_1766_layer_call_fn while saving (showing 5 of 10). These functions will not be directly callable after loading.\n"
          ],
          "name": "stderr"
        },
        {
          "output_type": "stream",
          "text": [
            "INFO:tensorflow:Assets written to: saved_model/autoencoder32meteo/model24\\assets\n"
          ],
          "name": "stdout"
        },
        {
          "output_type": "stream",
          "text": [
            "INFO:tensorflow:Assets written to: saved_model/autoencoder32meteo/model24\\assets\n",
            "\u001b[32m[I 2021-06-03 03:16:28,141]\u001b[0m Trial 24 finished with value: 19.589365005493164 and parameters: {'weight_decay': 0.00022143035538870287, 'n_units_l1': 30, 'n_units_l2': 9, 'adam_lr': 0.007647201241724222}. Best is trial 21 with value: 7.709071159362793.\u001b[0m\n"
          ],
          "name": "stderr"
        },
        {
          "output_type": "stream",
          "text": [
            "RMSE val:  19.589365 15.989601\n",
            "Number of finished trials:  25\n",
            "Best trial:\n",
            "  Value:  7.709071159362793\n",
            "  Params: \n",
            "    weight_decay: 0.0008598650343047585\n",
            "    n_units_l1: 21\n",
            "    n_units_l2: 8\n",
            "    adam_lr: 0.000883203568490129\n",
            "model:  autoencoder ; batch size:  32 ; data:  meteo\n"
          ],
          "name": "stdout"
        }
      ]
    },
    {
      "cell_type": "markdown",
      "metadata": {
        "id": "qcz18SUm6pOW"
      },
      "source": [
        "## model machine learning"
      ]
    },
    {
      "cell_type": "code",
      "metadata": {
        "id": "lViNG0DW68GH"
      },
      "source": [
        "from math import sqrt\n",
        "from sklearn.model_selection import KFold, cross_val_score, train_test_split\n",
        "from sklearn.metrics import mean_squared_error, mean_absolute_error, mean_squared_log_error, median_absolute_error, r2_score\n",
        "import xgboost as xgb\n",
        "import lightgbm as lgb\n",
        "\n",
        "from sklearn.model_selection import train_test_split"
      ],
      "execution_count": null,
      "outputs": []
    },
    {
      "cell_type": "code",
      "metadata": {
        "id": "aJYxfNY54sEi"
      },
      "source": [
        "y_train = train_df[do_modelu[0]]\n",
        "X_train = train_df[do_modelu[1:]].values\n",
        "\n",
        "y_val = val_df[do_modelu[0]]\n",
        "X_val = val_df[do_modelu[1:]].values\n",
        "\n",
        "y_test = test_df[do_modelu[0]]\n",
        "X_test = test_df[do_modelu[1:]].values"
      ],
      "execution_count": null,
      "outputs": []
    },
    {
      "cell_type": "code",
      "metadata": {
        "colab": {
          "base_uri": "https://localhost:8080/"
        },
        "id": "99lBocjBmvCM",
        "outputId": "d20ca542-7c1e-4968-db32-63579924af52"
      },
      "source": [
        "#XGBoost Regression\n",
        "model_xgb = xgb.XGBRegressor(objective = 'reg:squarederror', random_state = 2021)\n",
        "%time model_xgb.fit(X_train, y_train)"
      ],
      "execution_count": null,
      "outputs": [
        {
          "output_type": "stream",
          "text": [
            "Wall time: 1.06 s\n"
          ],
          "name": "stdout"
        },
        {
          "output_type": "execute_result",
          "data": {
            "text/plain": [
              "XGBRegressor(base_score=0.5, booster='gbtree', colsample_bylevel=1,\n",
              "             colsample_bynode=1, colsample_bytree=1, gamma=0, gpu_id=-1,\n",
              "             importance_type='gain', interaction_constraints='',\n",
              "             learning_rate=0.300000012, max_delta_step=0, max_depth=6,\n",
              "             min_child_weight=1, missing=nan, monotone_constraints='()',\n",
              "             n_estimators=100, n_jobs=8, num_parallel_tree=1,\n",
              "             objective='reg:squarederror', random_state=2021, reg_alpha=0,\n",
              "             reg_lambda=1, scale_pos_weight=1, subsample=1, tree_method='exact',\n",
              "             validate_parameters=1, verbosity=None)"
            ]
          },
          "metadata": {
            "tags": []
          },
          "execution_count": 289
        }
      ]
    },
    {
      "cell_type": "code",
      "metadata": {
        "colab": {
          "base_uri": "https://localhost:8080/"
        },
        "id": "Vf8oz85XKSug",
        "outputId": "e1c4c5c9-fa14-4715-8fc8-f738161d9394"
      },
      "source": [
        "#LightGBM \n",
        "model_lgb = lgb.LGBMRegressor(objective='regression', random_state = 2021)\n",
        "%time model_lgb.fit(X_train, y_train)\n"
      ],
      "execution_count": null,
      "outputs": [
        {
          "output_type": "stream",
          "text": [
            "Wall time: 219 ms\n"
          ],
          "name": "stdout"
        },
        {
          "output_type": "execute_result",
          "data": {
            "text/plain": [
              "LGBMRegressor(boosting_type='gbdt', class_weight=None, colsample_bytree=1.0,\n",
              "              importance_type='split', learning_rate=0.1, max_depth=-1,\n",
              "              min_child_samples=20, min_child_weight=0.001, min_split_gain=0.0,\n",
              "              n_estimators=100, n_jobs=-1, num_leaves=31,\n",
              "              objective='regression', random_state=2021, reg_alpha=0.0,\n",
              "              reg_lambda=0.0, silent=True, subsample=1.0,\n",
              "              subsample_for_bin=200000, subsample_freq=0)"
            ]
          },
          "metadata": {
            "tags": []
          },
          "execution_count": 290
        }
      ]
    },
    {
      "cell_type": "code",
      "metadata": {
        "colab": {
          "base_uri": "https://localhost:8080/"
        },
        "id": "zNwd8GDXtnuq",
        "outputId": "ec5861c4-3a5e-4934-f699-b675cf4c73a9"
      },
      "source": [
        "y_pred_xgb = model_xgb.predict(X_train)\n",
        "mae_xgb = mean_absolute_error(y_train*200, y_pred_xgb*200)\n",
        "rmse_xgb = mean_squared_error(y_train*200, y_pred_xgb*200, squared=False)\n",
        "r2_xgb = r2_score(y_train, y_pred_xgb)\n",
        "print(\"XGB model, train dataset\")\n",
        "print(\"mean_absolute_error: {:.4f}\".format(mae_xgb))\n",
        "print(\"root_mean_square_error: {:.4f}\".format(rmse_xgb))\n",
        "print(\"R2: {:.1f}%\".format(r2_xgb*100))\n",
        "print(\"\")\n",
        "\n",
        "y_pred_lgb = model_lgb.predict(X_train)\n",
        "mae_lgb = mean_absolute_error(y_train*200, y_pred_lgb*200)\n",
        "rmse_lgb = mean_squared_error(y_train*200, y_pred_lgb*200, squared=False)\n",
        "r2_lgb = r2_score(y_train, y_pred_lgb)\n",
        "print(\"LGB model, train dataset\")\n",
        "print(\"mean_absolute_error: {:.4f}\".format(mae_lgb))\n",
        "print(\"root_mean_square_error: {:.4f}\".format(rmse_lgb))\n",
        "print(\"R2: {:.1f}%\".format(r2_lgb*100))"
      ],
      "execution_count": null,
      "outputs": [
        {
          "output_type": "stream",
          "text": [
            "XGB model, train dataset\n",
            "mean_absolute_error: 2.9962\n",
            "root_mean_square_error: 4.1819\n",
            "R2: 91.7%\n",
            "\n",
            "LGB model, train dataset\n",
            "mean_absolute_error: 4.0810\n",
            "root_mean_square_error: 5.6480\n",
            "R2: 84.9%\n"
          ],
          "name": "stdout"
        }
      ]
    },
    {
      "cell_type": "code",
      "metadata": {
        "colab": {
          "base_uri": "https://localhost:8080/"
        },
        "id": "LsXMM-NSM-5l",
        "outputId": "3533475c-84b9-44a9-d2b0-adb9c8046db0"
      },
      "source": [
        "y_pred_xgb = model_xgb.predict(X_val)\n",
        "mae_xgb = mean_absolute_error(y_val*200, y_pred_xgb*200)\n",
        "rmse_xgb = mean_squared_error(y_val*200, y_pred_xgb*200, squared=False)\n",
        "r2_xgb = r2_score(y_val, y_pred_xgb)\n",
        "print(\"XGB model, test dataset\")\n",
        "print(\"mean_absolute_error: {:.4f}\".format(mae_xgb))\n",
        "print(\"root_mean_square_error: {:.4f}\".format(rmse_xgb))\n",
        "print(\"R2: {:.1f}%\".format(r2_xgb*100))\n",
        "print(\"\")\n",
        "\n",
        "y_pred_lgb = model_lgb.predict(X_val)\n",
        "mae_lgb = mean_absolute_error(y_val*200, y_pred_lgb*200)\n",
        "rmse_lgb = mean_squared_error(y_val*200, y_pred_lgb*200, squared=False)\n",
        "r2_lgb = r2_score(y_val, y_pred_lgb)\n",
        "print(\"LGB model, test dataset\")\n",
        "print(\"mean_absolute_error: {:.4f}\".format(mae_lgb))\n",
        "print(\"root_mean_square_error: {:.4f}\".format(rmse_lgb))\n",
        "print(\"R2: {:.1f}%\".format(r2_lgb*100))"
      ],
      "execution_count": null,
      "outputs": [
        {
          "output_type": "stream",
          "text": [
            "XGB model, test dataset\n",
            "mean_absolute_error: 6.4669\n",
            "root_mean_square_error: 8.7967\n",
            "R2: 39.5%\n",
            "\n",
            "LGB model, test dataset\n",
            "mean_absolute_error: 6.0723\n",
            "root_mean_square_error: 8.3303\n",
            "R2: 45.8%\n"
          ],
          "name": "stdout"
        }
      ]
    },
    {
      "cell_type": "code",
      "metadata": {
        "id": "IVnhMqla4sEj",
        "outputId": "b8e27c4c-ab2a-4ffd-815d-f94115aa281a"
      },
      "source": [
        "y_pred_xgb = model_xgb.predict(X_test)\n",
        "mae_xgb = mean_absolute_error(y_test*200, y_pred_xgb*200)\n",
        "rmse_xgb = mean_squared_error(y_test*200, y_pred_xgb*200, squared=False)\n",
        "r2_xgb = r2_score(y_test, y_pred_xgb)\n",
        "print(\"XGB model, test dataset\")\n",
        "print(\"mean_absolute_error: {:.4f}\".format(mae_xgb))\n",
        "print(\"root_mean_square_error: {:.4f}\".format(rmse_xgb))\n",
        "print(\"R2: {:.1f}%\".format(r2_xgb*100))\n",
        "print(\"\")\n",
        "\n",
        "y_pred_lgb = model_lgb.predict(X_test)\n",
        "mae_lgb = mean_absolute_error(y_test*200, y_pred_lgb*200)\n",
        "rmse_lgb = mean_squared_error(y_test*200, y_pred_lgb*200, squared=False)\n",
        "r2_lgb = r2_score(y_test, y_pred_lgb)\n",
        "print(\"LGB model, test dataset\")\n",
        "print(\"mean_absolute_error: {:.4f}\".format(mae_lgb))\n",
        "print(\"root_mean_square_error: {:.4f}\".format(rmse_lgb))\n",
        "print(\"R2: {:.1f}%\".format(r2_lgb*100))"
      ],
      "execution_count": null,
      "outputs": [
        {
          "output_type": "stream",
          "text": [
            "XGB model, test dataset\n",
            "mean_absolute_error: 6.8264\n",
            "root_mean_square_error: 8.8155\n",
            "R2: 18.8%\n",
            "\n",
            "LGB model, test dataset\n",
            "mean_absolute_error: 6.4436\n",
            "root_mean_square_error: 8.2723\n",
            "R2: 28.5%\n"
          ],
          "name": "stdout"
        }
      ]
    },
    {
      "cell_type": "markdown",
      "metadata": {
        "id": "9i2vW8lTmEyu"
      },
      "source": [
        "### optuna lightgbm"
      ]
    },
    {
      "cell_type": "code",
      "metadata": {
        "id": "wbP82C_R25p9"
      },
      "source": [
        "from optuna.visualization import plot_intermediate_values, plot_optimization_history, plot_parallel_coordinate, plot_contour"
      ],
      "execution_count": null,
      "outputs": []
    },
    {
      "cell_type": "code",
      "metadata": {
        "colab": {
          "base_uri": "https://localhost:8080/"
        },
        "id": "1m7hxvEcrtRT",
        "outputId": "15366540-40c0-4975-9c50-c737363fd50a"
      },
      "source": [
        "def objective(trial):\n",
        "    #data, target = sklearn.datasets.load_breast_cancer(return_X_y=True)\n",
        "    #train_x, valid_x, train_y, valid_y = train_test_split(data, target, test_size=0.25)\n",
        "    dtrain = lgb.Dataset(X_train, label=y_train)\n",
        "    dvalid = lgb.Dataset(X_val, label=y_val)\n",
        "\n",
        "    #X_train, X_test, y_train, y_test\n",
        "\n",
        "    param = {\n",
        "        \"random_state\": 2021,\n",
        "        \"objective\": \"regression\",\n",
        "        #\"metric\": trial.suggest_categorical(\"metric\", [\"auc\",\"l2\", \"rmse\"]),\n",
        "        \"metric\": \"rmse\",\n",
        "        \"verbosity\": -1,\n",
        "        \"boosting_type\": trial.suggest_categorical(\"boosting_type\", [\"gbdt\",\"dart\"]),\n",
        "        \"lambda_l1\": trial.suggest_float(\"lambda_l1\", 1e-8, 10.0, log=True),\n",
        "        \"lambda_l2\": trial.suggest_float(\"lambda_l2\", 1e-8, 10.0, log=True),\n",
        "        \"num_leaves\": trial.suggest_int(\"num_leaves\", 2, 256),\n",
        "        \"feature_fraction\": trial.suggest_float(\"feature_fraction\", 0.4, 1.0),\n",
        "        \"bagging_fraction\": trial.suggest_float(\"bagging_fraction\", 0.4, 1.0),\n",
        "        \"bagging_freq\": trial.suggest_int(\"bagging_freq\", 1, 7),\n",
        "        \"min_child_samples\": trial.suggest_int(\"min_child_samples\", 5, 100),\n",
        "    }\n",
        "\n",
        "    # Add a callback for pruning.\n",
        "    pruning_callback = optuna.integration.LightGBMPruningCallback(trial, 'rmse')\n",
        "    gbm = lgb.train(\n",
        "        param, dtrain, valid_sets=[dvalid], verbose_eval=False , callbacks=[pruning_callback]\n",
        "    )\n",
        "\n",
        "    preds = gbm.predict(X_val)\n",
        "    #pred_labels = np.rint(preds)\n",
        "    rmse = mean_squared_error(y_val*200, preds*200, squared=False)\n",
        "    return rmse\n",
        "\n",
        "\n",
        "if __name__ == \"__main__\":\n",
        "    study = optuna.create_study(\n",
        "        pruner=optuna.pruners.MedianPruner(n_warmup_steps=10), direction=\"minimize\"\n",
        "    )\n",
        "\n",
        "    study.optimize(objective, n_trials=25)\n",
        "\n",
        "    print(\"Number of finished trials: {}\".format(len(study.trials)))\n",
        "\n",
        "    print(\"Best trial:\")\n",
        "    trial = study.best_trial\n",
        "\n",
        "    print(\"  Value: {}\".format(trial.value))\n",
        "\n",
        "    print(\"  Params: \")\n",
        "    for key, value in trial.params.items():\n",
        "        print(\"    {}: {}\".format(key, value))"
      ],
      "execution_count": null,
      "outputs": [
        {
          "output_type": "stream",
          "text": [
            "\u001b[32m[I 2021-06-04 17:41:18,684]\u001b[0m A new study created in memory with name: no-name-f2ae7e80-b8c4-419e-8987-7911b1f1022f\u001b[0m\n",
            "\u001b[32m[I 2021-06-04 17:41:20,198]\u001b[0m Trial 0 finished with value: 8.156639771966168 and parameters: {'boosting_type': 'dart', 'lambda_l1': 0.009095447979793723, 'lambda_l2': 0.9680128504897082, 'num_leaves': 244, 'feature_fraction': 0.6545828067572419, 'bagging_fraction': 0.5891359722912816, 'bagging_freq': 5, 'min_child_samples': 42}. Best is trial 0 with value: 8.156639771966168.\u001b[0m\n",
            "\u001b[32m[I 2021-06-04 17:41:20,608]\u001b[0m Trial 1 finished with value: 8.351620130356727 and parameters: {'boosting_type': 'gbdt', 'lambda_l1': 2.348543533524853, 'lambda_l2': 0.01144109673783525, 'num_leaves': 94, 'feature_fraction': 0.49937093302956326, 'bagging_fraction': 0.9242827713383174, 'bagging_freq': 2, 'min_child_samples': 43}. Best is trial 0 with value: 8.156639771966168.\u001b[0m\n",
            "\u001b[32m[I 2021-06-04 17:41:20,937]\u001b[0m Trial 2 finished with value: 8.38767313315874 and parameters: {'boosting_type': 'gbdt', 'lambda_l1': 1.0203325098710245, 'lambda_l2': 4.4517958324381036e-08, 'num_leaves': 28, 'feature_fraction': 0.5373838270809193, 'bagging_fraction': 0.7575551178182072, 'bagging_freq': 3, 'min_child_samples': 43}. Best is trial 0 with value: 8.156639771966168.\u001b[0m\n",
            "\u001b[32m[I 2021-06-04 17:41:21,179]\u001b[0m Trial 3 finished with value: 8.626197049235587 and parameters: {'boosting_type': 'gbdt', 'lambda_l1': 8.832878004328773, 'lambda_l2': 1.1243869632758845, 'num_leaves': 188, 'feature_fraction': 0.9112792060253315, 'bagging_fraction': 0.4178073554749381, 'bagging_freq': 6, 'min_child_samples': 50}. Best is trial 0 with value: 8.156639771966168.\u001b[0m\n",
            "\u001b[32m[I 2021-06-04 17:41:22,206]\u001b[0m Trial 4 finished with value: 8.278724655590164 and parameters: {'boosting_type': 'dart', 'lambda_l1': 0.03267375497838212, 'lambda_l2': 0.0034771050408231845, 'num_leaves': 78, 'feature_fraction': 0.9129437543024999, 'bagging_fraction': 0.9543091602726657, 'bagging_freq': 7, 'min_child_samples': 26}. Best is trial 0 with value: 8.156639771966168.\u001b[0m\n",
            "\u001b[32m[I 2021-06-04 17:41:22,723]\u001b[0m Trial 5 pruned. Trial was pruned at iteration 72.\u001b[0m\n",
            "\u001b[32m[I 2021-06-04 17:41:23,908]\u001b[0m Trial 6 finished with value: 8.353332591565932 and parameters: {'boosting_type': 'gbdt', 'lambda_l1': 7.69881664244524e-06, 'lambda_l2': 8.47557870354317e-05, 'num_leaves': 208, 'feature_fraction': 0.7540510790532784, 'bagging_fraction': 0.8363259646027511, 'bagging_freq': 4, 'min_child_samples': 49}. Best is trial 0 with value: 8.156639771966168.\u001b[0m\n",
            "\u001b[32m[I 2021-06-04 17:41:24,425]\u001b[0m Trial 7 finished with value: 8.32151789797011 and parameters: {'boosting_type': 'gbdt', 'lambda_l1': 0.3336905455406727, 'lambda_l2': 0.0015335105825326246, 'num_leaves': 55, 'feature_fraction': 0.9926448851594807, 'bagging_fraction': 0.5748181944513735, 'bagging_freq': 1, 'min_child_samples': 99}. Best is trial 0 with value: 8.156639771966168.\u001b[0m\n",
            "\u001b[32m[I 2021-06-04 17:41:24,939]\u001b[0m Trial 8 finished with value: 8.256491106667049 and parameters: {'boosting_type': 'gbdt', 'lambda_l1': 0.0015966220267102144, 'lambda_l2': 1.146408807313318, 'num_leaves': 52, 'feature_fraction': 0.9117784166980782, 'bagging_fraction': 0.7001845405962661, 'bagging_freq': 1, 'min_child_samples': 13}. Best is trial 0 with value: 8.156639771966168.\u001b[0m\n",
            "\u001b[32m[I 2021-06-04 17:41:25,005]\u001b[0m Trial 9 pruned. Trial was pruned at iteration 10.\u001b[0m\n",
            "\u001b[32m[I 2021-06-04 17:41:26,152]\u001b[0m Trial 10 finished with value: 8.041635062678143 and parameters: {'boosting_type': 'dart', 'lambda_l1': 0.006611723495055944, 'lambda_l2': 1.1568421948537822e-05, 'num_leaves': 247, 'feature_fraction': 0.7629983693483161, 'bagging_fraction': 0.5395482614779468, 'bagging_freq': 5, 'min_child_samples': 73}. Best is trial 10 with value: 8.041635062678143.\u001b[0m\n",
            "\u001b[32m[I 2021-06-04 17:41:26,382]\u001b[0m Trial 11 pruned. Trial was pruned at iteration 19.\u001b[0m\n",
            "\u001b[32m[I 2021-06-04 17:41:28,105]\u001b[0m Trial 12 finished with value: 8.024448410267597 and parameters: {'boosting_type': 'dart', 'lambda_l1': 0.00021103122753091276, 'lambda_l2': 3.545240878139351e-06, 'num_leaves': 254, 'feature_fraction': 0.7651310857290821, 'bagging_fraction': 0.5420075234446037, 'bagging_freq': 4, 'min_child_samples': 75}. Best is trial 12 with value: 8.024448410267597.\u001b[0m\n",
            "\u001b[32m[I 2021-06-04 17:41:28,373]\u001b[0m Trial 13 pruned. Trial was pruned at iteration 19.\u001b[0m\n",
            "\u001b[32m[I 2021-06-04 17:41:28,705]\u001b[0m Trial 14 pruned. Trial was pruned at iteration 19.\u001b[0m\n",
            "\u001b[32m[I 2021-06-04 17:41:28,966]\u001b[0m Trial 15 pruned. Trial was pruned at iteration 19.\u001b[0m\n",
            "\u001b[32m[I 2021-06-04 17:41:29,169]\u001b[0m Trial 16 pruned. Trial was pruned at iteration 10.\u001b[0m\n",
            "\u001b[32m[I 2021-06-04 17:41:30,852]\u001b[0m Trial 17 finished with value: 8.04297537926318 and parameters: {'boosting_type': 'dart', 'lambda_l1': 0.0006230116793229575, 'lambda_l2': 1.0494494556120716e-08, 'num_leaves': 256, 'feature_fraction': 0.8216663845873196, 'bagging_fraction': 0.6581141879176842, 'bagging_freq': 7, 'min_child_samples': 87}. Best is trial 12 with value: 8.024448410267597.\u001b[0m\n",
            "\u001b[32m[I 2021-06-04 17:41:31,034]\u001b[0m Trial 18 pruned. Trial was pruned at iteration 10.\u001b[0m\n",
            "\u001b[32m[I 2021-06-04 17:41:31,279]\u001b[0m Trial 19 pruned. Trial was pruned at iteration 19.\u001b[0m\n",
            "\u001b[32m[I 2021-06-04 17:41:31,637]\u001b[0m Trial 20 pruned. Trial was pruned at iteration 27.\u001b[0m\n",
            "\u001b[32m[I 2021-06-04 17:41:31,940]\u001b[0m Trial 21 pruned. Trial was pruned at iteration 19.\u001b[0m\n",
            "\u001b[32m[I 2021-06-04 17:41:32,226]\u001b[0m Trial 22 pruned. Trial was pruned at iteration 19.\u001b[0m\n",
            "\u001b[32m[I 2021-06-04 17:41:32,586]\u001b[0m Trial 23 pruned. Trial was pruned at iteration 26.\u001b[0m\n",
            "\u001b[32m[I 2021-06-04 17:41:32,879]\u001b[0m Trial 24 pruned. Trial was pruned at iteration 17.\u001b[0m\n"
          ],
          "name": "stderr"
        },
        {
          "output_type": "stream",
          "text": [
            "Number of finished trials: 25\n",
            "Best trial:\n",
            "  Value: 8.024448410267597\n",
            "  Params: \n",
            "    boosting_type: dart\n",
            "    lambda_l1: 0.00021103122753091276\n",
            "    lambda_l2: 3.545240878139351e-06\n",
            "    num_leaves: 254\n",
            "    feature_fraction: 0.7651310857290821\n",
            "    bagging_fraction: 0.5420075234446037\n",
            "    bagging_freq: 4\n",
            "    min_child_samples: 75\n"
          ],
          "name": "stdout"
        }
      ]
    },
    {
      "cell_type": "code",
      "metadata": {
        "colab": {
          "base_uri": "https://localhost:8080/"
        },
        "id": "oIkFgsEn9V1G",
        "outputId": "86011f3f-ec2f-4ecc-8a86-d1c6202a928a"
      },
      "source": [
        "study.best_params"
      ],
      "execution_count": null,
      "outputs": [
        {
          "output_type": "execute_result",
          "data": {
            "text/plain": [
              "{'boosting_type': 'dart',\n",
              " 'lambda_l1': 0.00021103122753091276,\n",
              " 'lambda_l2': 3.545240878139351e-06,\n",
              " 'num_leaves': 254,\n",
              " 'feature_fraction': 0.7651310857290821,\n",
              " 'bagging_fraction': 0.5420075234446037,\n",
              " 'bagging_freq': 4,\n",
              " 'min_child_samples': 75}"
            ]
          },
          "metadata": {
            "tags": []
          },
          "execution_count": 280
        }
      ]
    },
    {
      "cell_type": "code",
      "metadata": {
        "colab": {
          "base_uri": "https://localhost:8080/"
        },
        "id": "b9_zqGLc4Aeg",
        "outputId": "7b2caf02-be73-45ae-8930-d6de9669f003"
      },
      "source": [
        "model_lgb2 = lgb.LGBMRegressor(objective='regression', random_state = 2021, \n",
        "                               metric = \"rmse\",\n",
        "                               **study.best_params)\n",
        "%time model_lgb2.fit(X_train, y_train)"
      ],
      "execution_count": null,
      "outputs": [
        {
          "output_type": "stream",
          "text": [
            "Wall time: 1.02 s\n"
          ],
          "name": "stdout"
        },
        {
          "output_type": "execute_result",
          "data": {
            "text/plain": [
              "LGBMRegressor(bagging_fraction=0.5420075234446037, bagging_freq=4,\n",
              "              boosting_type='dart', class_weight=None, colsample_bytree=1.0,\n",
              "              feature_fraction=0.7651310857290821, importance_type='split',\n",
              "              lambda_l1=0.00021103122753091276, lambda_l2=3.545240878139351e-06,\n",
              "              learning_rate=0.1, max_depth=-1, metric='rmse',\n",
              "              min_child_samples=75, min_child_weight=0.001, min_split_gain=0.0,\n",
              "              n_estimators=100, n_jobs=-1, num_leaves=254,\n",
              "              objective='regression', random_state=2021, reg_alpha=0.0,\n",
              "              reg_lambda=0.0, silent=True, subsample=1.0,\n",
              "              subsample_for_bin=200000, subsample_freq=0)"
            ]
          },
          "metadata": {
            "tags": []
          },
          "execution_count": 281
        }
      ]
    },
    {
      "cell_type": "code",
      "metadata": {
        "id": "0cfx0deb4sEk",
        "outputId": "bb59b216-b86d-4d57-a500-bbac5ab24c7f"
      },
      "source": [
        "import joblib\n",
        "# save model\n",
        "joblib.dump(model_lgb2, 'model_lgb2.pkl')\n",
        "# load model\n",
        "#gbm_pickle = joblib.load('lgb.pkl')"
      ],
      "execution_count": null,
      "outputs": [
        {
          "output_type": "execute_result",
          "data": {
            "text/plain": [
              "['model_lgb2.pkl']"
            ]
          },
          "metadata": {
            "tags": []
          },
          "execution_count": 299
        }
      ]
    },
    {
      "cell_type": "code",
      "metadata": {
        "colab": {
          "base_uri": "https://localhost:8080/"
        },
        "id": "HID1FX305GCT",
        "outputId": "57f01f47-6742-4dce-9d68-6579cd855cea"
      },
      "source": [
        "y_pred_lgb = model_lgb2.predict(X_train)\n",
        "mae_lgb = mean_absolute_error(y_train*200, y_pred_lgb*200)\n",
        "rmse_lgb = mean_squared_error(y_train*200, y_pred_lgb*200, squared=False)\n",
        "r2_lgb = r2_score(y_train, y_pred_lgb)\n",
        "print(\"LGB model, train dataset\")\n",
        "print(\"mean_absolute_error: {:.4f}\".format(mae_lgb))\n",
        "print(\"root_mean_square_error: {:.4f}\".format(rmse_lgb))\n",
        "print(\"R2: {:.1f}%\".format(r2_lgb*100))"
      ],
      "execution_count": null,
      "outputs": [
        {
          "output_type": "stream",
          "text": [
            "LGB model, train dataset\n",
            "mean_absolute_error: 4.2491\n",
            "root_mean_square_error: 6.5874\n",
            "R2: 79.5%\n"
          ],
          "name": "stdout"
        }
      ]
    },
    {
      "cell_type": "code",
      "metadata": {
        "colab": {
          "base_uri": "https://localhost:8080/"
        },
        "id": "W6opS2WE5GCV",
        "outputId": "ea76466b-ee25-4834-bac0-6c3f3a4602c0"
      },
      "source": [
        "y_pred_lgb = model_lgb2.predict(X_val)\n",
        "mae_lgb = mean_absolute_error(y_val*200, y_pred_lgb*200)\n",
        "rmse_lgb = mean_squared_error(y_val*200, y_pred_lgb*200, squared=False)\n",
        "r2_lgb = r2_score(y_val, y_pred_lgb)\n",
        "print(\"LGB model, val dataset\")\n",
        "print(\"mean_absolute_error: {:.4f}\".format(mae_lgb))\n",
        "print(\"root_mean_square_error: {:.4f}\".format(rmse_lgb))\n",
        "print(\"R2: {:.1f}%\".format(r2_lgb*100))"
      ],
      "execution_count": null,
      "outputs": [
        {
          "output_type": "stream",
          "text": [
            "LGB model, val dataset\n",
            "mean_absolute_error: 5.7123\n",
            "root_mean_square_error: 8.0244\n",
            "R2: 49.7%\n"
          ],
          "name": "stdout"
        }
      ]
    },
    {
      "cell_type": "code",
      "metadata": {
        "id": "Gh_bXHtb4sEm",
        "outputId": "385e08a0-2e84-4368-b240-2fd07e9dfd28"
      },
      "source": [
        "y_pred_lgb = model_lgb2.predict(X_test)\n",
        "mae_lgb = mean_absolute_error(y_test*200, y_pred_lgb*200)\n",
        "rmse_lgb = mean_squared_error(y_test*200, y_pred_lgb*200, squared=False)\n",
        "r2_lgb = r2_score(y_test, y_pred_lgb)\n",
        "print(\"LGB model, test dataset\")\n",
        "print(\"mean_absolute_error: {:.4f}\".format(mae_lgb))\n",
        "print(\"root_mean_square_error: {:.4f}\".format(rmse_lgb))\n",
        "print(\"R2: {:.1f}%\".format(r2_lgb*100))"
      ],
      "execution_count": null,
      "outputs": [
        {
          "output_type": "stream",
          "text": [
            "LGB model, test dataset\n",
            "mean_absolute_error: 5.7161\n",
            "root_mean_square_error: 7.5260\n",
            "R2: 40.8%\n"
          ],
          "name": "stdout"
        }
      ]
    }
  ]
}